{
 "cells": [
  {
   "cell_type": "markdown",
   "metadata": {},
   "source": [
    "# Solutions\n",
    "1. [Operators](#1.-Operators)\n",
    "1. [What is Python?](#2.-What-is-Python?)\n",
    "1. [Objects and Types](#3.-Objects-and-Types)\n",
    "1. [Strings](#4.-Strings)\n",
    "1. [Lists](#5.-Lists)\n",
    "1. [Ranges and Constructors](#6.-Ranges-and-Constructors)\n",
    "1. [Control Flow](#7.-Control-Flow)\n",
    "1. [Functions](#8.-Functions)\n",
    "1. [Tuples, Sets and Dictionaries](#9.-Tuples,-Sets-and-Dictionaries)"
   ]
  },
  {
   "cell_type": "markdown",
   "metadata": {},
   "source": [
    "## 1. Operators"
   ]
  },
  {
   "cell_type": "markdown",
   "metadata": {},
   "source": [
    "### Exercise 1\n",
    "<span style=\"color:green\">How many seconds are there in a century?</span>"
   ]
  },
  {
   "cell_type": "code",
   "execution_count": 1,
   "metadata": {},
   "outputs": [
    {
     "data": {
      "text/plain": [
       "3155760000.0"
      ]
     },
     "execution_count": 1,
     "metadata": {},
     "output_type": "execute_result"
    }
   ],
   "source": [
    "60 * 60 * 24 * 365.25 * 100"
   ]
  },
  {
   "cell_type": "markdown",
   "metadata": {},
   "source": [
    "### Exercise 2\n",
    "<span style=\"color:green\">Write an expression to find the amount of money (as a whole number rounded down to the nearest integer) that each person would get if a one-million dollar lottery was divided equally amongst 436 people.</span>"
   ]
  },
  {
   "cell_type": "code",
   "execution_count": 2,
   "metadata": {},
   "outputs": [
    {
     "data": {
      "text/plain": [
       "2293"
      ]
     },
     "execution_count": 2,
     "metadata": {},
     "output_type": "execute_result"
    }
   ],
   "source": [
    "1000000 // 436"
   ]
  },
  {
   "cell_type": "markdown",
   "metadata": {},
   "source": [
    "### Exercise 3\n",
    "<span style=\"color:green\">Repeat exercise 2, except use one-trillion dollars. Use the exponentiation operator instead of writing lots of 0's.</span>"
   ]
  },
  {
   "cell_type": "code",
   "execution_count": 3,
   "metadata": {},
   "outputs": [
    {
     "data": {
      "text/plain": [
       "2293577981"
      ]
     },
     "execution_count": 3,
     "metadata": {},
     "output_type": "execute_result"
    }
   ],
   "source": [
    "10 ** 12 // 436"
   ]
  },
  {
   "cell_type": "markdown",
   "metadata": {},
   "source": [
    "### Exercise 4\n",
    "<span style=\"color:green\">One-million dollars does not divide evenly amongst 436 people. Write a single expression to calculate the number of extra dollars that need to be added to the pot so that each person receives one more dollar than was calculated in Exercise 2. Do not use the result of Exercise 2. Verify the result in a separate cell.</span>"
   ]
  },
  {
   "cell_type": "code",
   "execution_count": 4,
   "metadata": {},
   "outputs": [
    {
     "data": {
      "text/plain": [
       "184"
      ]
     },
     "execution_count": 4,
     "metadata": {},
     "output_type": "execute_result"
    }
   ],
   "source": [
    "436 - 1000000 % 436"
   ]
  },
  {
   "cell_type": "code",
   "execution_count": 5,
   "metadata": {},
   "outputs": [
    {
     "data": {
      "text/plain": [
       "2294.0"
      ]
     },
     "execution_count": 5,
     "metadata": {},
     "output_type": "execute_result"
    }
   ],
   "source": [
    "(1000000 + 184) / 436"
   ]
  },
  {
   "cell_type": "markdown",
   "metadata": {},
   "source": [
    "### Exercise 5\n",
    "<span style=\"color:green\">Which is greater: 245 times 99 or 8 raised to the 5th power?</span>"
   ]
  },
  {
   "cell_type": "code",
   "execution_count": 6,
   "metadata": {},
   "outputs": [
    {
     "data": {
      "text/plain": [
       "False"
      ]
     },
     "execution_count": 6,
     "metadata": {},
     "output_type": "execute_result"
    }
   ],
   "source": [
    "245 * 99 > 8 ** 5"
   ]
  },
  {
   "cell_type": "markdown",
   "metadata": {},
   "source": [
    "### Exercise 6\n",
    "<span style=\"color:green\">Used a chained comparison to show that 2 raised to the 10th power is greater than 10 raised to the 3rd power which is greater than 31 squared.</span>"
   ]
  },
  {
   "cell_type": "code",
   "execution_count": 7,
   "metadata": {},
   "outputs": [
    {
     "data": {
      "text/plain": [
       "True"
      ]
     },
     "execution_count": 7,
     "metadata": {},
     "output_type": "execute_result"
    }
   ],
   "source": [
    "2 ** 10 > 10 ** 3 > 31 ** 2"
   ]
  },
  {
   "cell_type": "markdown",
   "metadata": {},
   "source": [
    "### Exercise 7\n",
    "<span style=\"color:green\">How many unary operators are present in the following expression? \n",
    "    \n",
    "`-6 / -5 - 4 - 3 ** 2 * -1`</span>"
   ]
  },
  {
   "cell_type": "markdown",
   "metadata": {},
   "source": [
    "There are three. -6, -5, -1"
   ]
  },
  {
   "cell_type": "markdown",
   "metadata": {},
   "source": [
    "### Exercise 8\n",
    "<span style=\"color:green\">Create an expression that uses arithmetic, comparison, unary, and boolean operators that evaluates to `False`.</span>"
   ]
  },
  {
   "cell_type": "code",
   "execution_count": 8,
   "metadata": {},
   "outputs": [
    {
     "data": {
      "text/plain": [
       "False"
      ]
     },
     "execution_count": 8,
     "metadata": {},
     "output_type": "execute_result"
    }
   ],
   "source": [
    "4 * 7 > 30 or -4 ** 2 > 0"
   ]
  },
  {
   "cell_type": "markdown",
   "metadata": {},
   "source": [
    "### Exercise 9\n",
    "<span style=\"color:green\">You purchase a phone for 99 dollars. There is 8 percent sales tax. Compute the total price. Use at least three variables to store the information for this problem. Output all the variables at the same time.</span>"
   ]
  },
  {
   "cell_type": "code",
   "execution_count": 9,
   "metadata": {},
   "outputs": [
    {
     "data": {
      "text/plain": [
       "(99, 0.08, 7.92, 106.92)"
      ]
     },
     "execution_count": 9,
     "metadata": {},
     "output_type": "execute_result"
    }
   ],
   "source": [
    "phone = 99\n",
    "tax_rate = .08\n",
    "tax = phone * tax_rate\n",
    "total = phone + tax\n",
    "phone, tax_rate, tax, total"
   ]
  },
  {
   "cell_type": "markdown",
   "metadata": {},
   "source": [
    "### Exercise 10\n",
    "<span style=\"color:green\">Read about how to find the square root of a number with [Newton's Method][0]. Use an augmented assignment statement to update the guess with Newton's Method. Run the cell that updates the guess multiple times in succession to see how quickly it finds the square root.</span> \n",
    "\n",
    "<span style=\"color:green\">Remember, that you can execute a cell with `ctrl + enter` to keep it selected. This will help you run it multiple times in a row.</span>\n",
    "\n",
    "[0]: https://en.wikipedia.org/wiki/Newton%27s_method#Square_root_of_a_number"
   ]
  },
  {
   "cell_type": "code",
   "execution_count": 10,
   "metadata": {},
   "outputs": [],
   "source": [
    "# initial guess and number you want to take the square root of\n",
    "guess = 100\n",
    "number = 47891"
   ]
  },
  {
   "cell_type": "code",
   "execution_count": 11,
   "metadata": {},
   "outputs": [
    {
     "data": {
      "text/plain": [
       "289.45500000000004"
      ]
     },
     "execution_count": 11,
     "metadata": {},
     "output_type": "execute_result"
    }
   ],
   "source": [
    "# use an augmented assignment statement to update the guess with Newton's Method\n",
    "guess -= (guess ** 2 - number) / (2 * guess)\n",
    "\n",
    "# leave this here so that you can see the updated guess each time the cell is run\n",
    "guess"
   ]
  },
  {
   "cell_type": "markdown",
   "metadata": {},
   "source": [
    "## 2. What is Python?\n",
    "\n",
    "## 3. Objects and Types"
   ]
  },
  {
   "cell_type": "markdown",
   "metadata": {},
   "source": [
    "### Exercise 1\n",
    "<span style=\"color:green\">What is the type of the number 0?</span>"
   ]
  },
  {
   "cell_type": "code",
   "execution_count": 12,
   "metadata": {},
   "outputs": [
    {
     "data": {
      "text/plain": [
       "int"
      ]
     },
     "execution_count": 12,
     "metadata": {},
     "output_type": "execute_result"
    }
   ],
   "source": [
    "type(0)"
   ]
  },
  {
   "cell_type": "markdown",
   "metadata": {},
   "source": [
    "### Exercise 2\n",
    "<span style=\"color:green\">What is `True` raised to the `False`?</span>"
   ]
  },
  {
   "cell_type": "code",
   "execution_count": 13,
   "metadata": {},
   "outputs": [
    {
     "data": {
      "text/plain": [
       "1"
      ]
     },
     "execution_count": 13,
     "metadata": {},
     "output_type": "execute_result"
    }
   ],
   "source": [
    "# All numbers raised to the 0 power equal 1\n",
    "True ** False"
   ]
  },
  {
   "cell_type": "markdown",
   "metadata": {},
   "source": [
    "### Exercise 3\n",
    "<span style=\"color:green\">Verify that `1e6` and one million are equivalent.</span>"
   ]
  },
  {
   "cell_type": "code",
   "execution_count": 14,
   "metadata": {},
   "outputs": [
    {
     "data": {
      "text/plain": [
       "True"
      ]
     },
     "execution_count": 14,
     "metadata": {},
     "output_type": "execute_result"
    }
   ],
   "source": [
    "1e6 == 1_000_000"
   ]
  },
  {
   "cell_type": "markdown",
   "metadata": {},
   "source": [
    "### Exercise 4\n",
    "<span style=\"color:green\">Do you think the operation `6 / 2` will result in an int or a float? Use the `type` function to see if you were correct. Was it the type you expected? Why do you think it evaluates as that type? </span>"
   ]
  },
  {
   "cell_type": "markdown",
   "metadata": {},
   "source": [
    "It evaluates to 3.0 which is a float. Even though 2 divides into 6 evenly, it returns a float because every other division that does not divide evenly must return a number with a decimal, which is a float. To be consistent, Python chooses to always return a float when doing true division even if there is no remainder."
   ]
  },
  {
   "cell_type": "code",
   "execution_count": 15,
   "metadata": {},
   "outputs": [
    {
     "data": {
      "text/plain": [
       "float"
      ]
     },
     "execution_count": 15,
     "metadata": {},
     "output_type": "execute_result"
    }
   ],
   "source": [
    "type(6 / 2)"
   ]
  },
  {
   "cell_type": "markdown",
   "metadata": {},
   "source": [
    "## 4. Strings"
   ]
  },
  {
   "cell_type": "markdown",
   "metadata": {},
   "source": [
    "### Exercise 1\n",
    "<span style=\"color:green\">Create a string using single quote marks and assign it to variable `a`.</span>"
   ]
  },
  {
   "cell_type": "code",
   "execution_count": 16,
   "metadata": {},
   "outputs": [],
   "source": [
    "a = 'Frozen'"
   ]
  },
  {
   "cell_type": "markdown",
   "metadata": {},
   "source": [
    "### Exercise 2\n",
    "<span style=\"color:green\">Create the same string from exercise 1 with double quotes, triple single quotes, and triple double quotes saving them to variables `b`, `c`, and `d`. Use a chained comparison to test that all three strings have equal values.</span>"
   ]
  },
  {
   "cell_type": "code",
   "execution_count": 17,
   "metadata": {},
   "outputs": [
    {
     "data": {
      "text/plain": [
       "True"
      ]
     },
     "execution_count": 17,
     "metadata": {},
     "output_type": "execute_result"
    }
   ],
   "source": [
    "b = \"Frozen\"\n",
    "c = '''Frozen'''\n",
    "d = \"\"\"Frozen\"\"\"\n",
    "a == b == c == d"
   ]
  },
  {
   "cell_type": "markdown",
   "metadata": {},
   "source": [
    "### Exercise 3\n",
    "<span style=\"color:green\">Create a string using single quotes that contains one double quotes character in it.</span>"
   ]
  },
  {
   "cell_type": "code",
   "execution_count": 18,
   "metadata": {},
   "outputs": [
    {
     "data": {
      "text/plain": [
       "'string with one \" in it'"
      ]
     },
     "execution_count": 18,
     "metadata": {},
     "output_type": "execute_result"
    }
   ],
   "source": [
    "'string with one \" in it'"
   ]
  },
  {
   "cell_type": "markdown",
   "metadata": {},
   "source": [
    "### Exercise 4\n",
    "<span style=\"color:green\">Use escape characters to create the string</span> `'C:\\Users\\Ted'`<span style=\"color:green\">. Assign it to variable `a` and output it to the screen.</span>"
   ]
  },
  {
   "cell_type": "code",
   "execution_count": 19,
   "metadata": {},
   "outputs": [
    {
     "data": {
      "text/plain": [
       "'C:\\\\Users\\\\Ted'"
      ]
     },
     "execution_count": 19,
     "metadata": {},
     "output_type": "execute_result"
    }
   ],
   "source": [
    "a = 'C:\\\\Users\\\\Ted'\n",
    "a"
   ]
  },
  {
   "cell_type": "markdown",
   "metadata": {},
   "source": [
    "### Exercise 5\n",
    "<span style=\"color:green\">Use the `print` function to verify that the string you created in exercise 4 is correct.</span>"
   ]
  },
  {
   "cell_type": "code",
   "execution_count": 20,
   "metadata": {},
   "outputs": [
    {
     "name": "stdout",
     "output_type": "stream",
     "text": [
      "C:\\Users\\Ted\n"
     ]
    }
   ],
   "source": [
    "print(a)"
   ]
  },
  {
   "cell_type": "markdown",
   "metadata": {},
   "source": [
    "### Exercise 6\n",
    "<span style=\"color:green\">Use a comparison operator to verify that the strings 'word' and 'WORD' are not equal.</span>"
   ]
  },
  {
   "cell_type": "code",
   "execution_count": 21,
   "metadata": {},
   "outputs": [
    {
     "data": {
      "text/plain": [
       "True"
      ]
     },
     "execution_count": 21,
     "metadata": {},
     "output_type": "execute_result"
    }
   ],
   "source": [
    "'word' != 'WORD'"
   ]
  },
  {
   "cell_type": "markdown",
   "metadata": {},
   "source": [
    "### Exercise 7\n",
    "<span style=\"color:green\">Which string is greater, 'Zero' or 'hero'?</span>"
   ]
  },
  {
   "cell_type": "code",
   "execution_count": 22,
   "metadata": {},
   "outputs": [
    {
     "data": {
      "text/plain": [
       "False"
      ]
     },
     "execution_count": 22,
     "metadata": {},
     "output_type": "execute_result"
    }
   ],
   "source": [
    "'Zero' > 'hero'"
   ]
  },
  {
   "cell_type": "markdown",
   "metadata": {},
   "source": [
    "### Exercise 8\n",
    "<span style=\"color:green\">Use the `ord` function to verify the result from exercise 7.</span>"
   ]
  },
  {
   "cell_type": "code",
   "execution_count": 23,
   "metadata": {},
   "outputs": [
    {
     "data": {
      "text/plain": [
       "90"
      ]
     },
     "execution_count": 23,
     "metadata": {},
     "output_type": "execute_result"
    }
   ],
   "source": [
    "ord('Z')"
   ]
  },
  {
   "cell_type": "code",
   "execution_count": 24,
   "metadata": {},
   "outputs": [
    {
     "data": {
      "text/plain": [
       "104"
      ]
     },
     "execution_count": 24,
     "metadata": {},
     "output_type": "execute_result"
    }
   ],
   "source": [
    "ord('h')"
   ]
  },
  {
   "cell_type": "markdown",
   "metadata": {},
   "source": [
    "### Exercise 9\n",
    "<span style=\"color:green\">Is it possible to concatenate a string and an integer together?</span>"
   ]
  },
  {
   "cell_type": "code",
   "execution_count": 25,
   "metadata": {},
   "outputs": [
    {
     "ename": "TypeError",
     "evalue": "can only concatenate str (not \"int\") to str",
     "output_type": "error",
     "traceback": [
      "\u001b[0;31m---------------------------------------------------------------------------\u001b[0m",
      "\u001b[0;31mTypeError\u001b[0m                                 Traceback (most recent call last)",
      "\u001b[0;32m<ipython-input-25-a02d571b12ed>\u001b[0m in \u001b[0;36m<module>\u001b[0;34m\u001b[0m\n\u001b[1;32m      1\u001b[0m \u001b[0;31m# no\u001b[0m\u001b[0;34m\u001b[0m\u001b[0;34m\u001b[0m\u001b[0;34m\u001b[0m\u001b[0m\n\u001b[0;32m----> 2\u001b[0;31m \u001b[0;34m'asdf'\u001b[0m \u001b[0;34m+\u001b[0m \u001b[0;36m5\u001b[0m\u001b[0;34m\u001b[0m\u001b[0;34m\u001b[0m\u001b[0m\n\u001b[0m",
      "\u001b[0;31mTypeError\u001b[0m: can only concatenate str (not \"int\") to str"
     ]
    }
   ],
   "source": [
    "# no\n",
    "'asdf' + 5"
   ]
  },
  {
   "cell_type": "markdown",
   "metadata": {},
   "source": [
    "### Exercise 10\n",
    "<span style=\"color:green\">Concatenate two strings together that both have length greater than 1.</span>"
   ]
  },
  {
   "cell_type": "code",
   "execution_count": 26,
   "metadata": {},
   "outputs": [
    {
     "data": {
      "text/plain": [
       "'unicode code point'"
      ]
     },
     "execution_count": 26,
     "metadata": {},
     "output_type": "execute_result"
    }
   ],
   "source": [
    "'unicode' + ' code point'"
   ]
  },
  {
   "cell_type": "markdown",
   "metadata": {},
   "source": [
    "### Exercise 11\n",
    "<span style=\"color:green\">Concatenate a non-empty string to an empty string.</span>"
   ]
  },
  {
   "cell_type": "code",
   "execution_count": 27,
   "metadata": {},
   "outputs": [
    {
     "data": {
      "text/plain": [
       "'unicode'"
      ]
     },
     "execution_count": 27,
     "metadata": {},
     "output_type": "execute_result"
    }
   ],
   "source": [
    "'unicode' + ''"
   ]
  },
  {
   "cell_type": "markdown",
   "metadata": {},
   "source": [
    "### Exercise 12\n",
    "<span style=\"color:green\">Replace each occurrence of 'in' with 'out' in the following string. </span>"
   ]
  },
  {
   "cell_type": "code",
   "execution_count": 28,
   "metadata": {
    "scrolled": true
   },
   "outputs": [
    {
     "data": {
      "text/plain": [
       "'it is startoutg to raout on the outside'"
      ]
     },
     "execution_count": 28,
     "metadata": {},
     "output_type": "execute_result"
    }
   ],
   "source": [
    "replace_string = 'it is starting to rain on the inside'\n",
    "replace_string.replace('in', 'out')"
   ]
  },
  {
   "cell_type": "markdown",
   "metadata": {},
   "source": [
    "### Exercise 13\n",
    "<span style=\"color:green\">Find and use a method that will strip away all the exclamation points from either end of the following string.</span>"
   ]
  },
  {
   "cell_type": "code",
   "execution_count": 29,
   "metadata": {},
   "outputs": [
    {
     "data": {
      "text/plain": [
       "'a string with a dull message'"
      ]
     },
     "execution_count": 29,
     "metadata": {},
     "output_type": "execute_result"
    }
   ],
   "source": [
    "s = '!!!!a string with a dull message!!!!'\n",
    "s.strip('!')"
   ]
  },
  {
   "cell_type": "markdown",
   "metadata": {},
   "source": [
    "### Exercise 14\n",
    "<span style=\"color:green\">Find and use a method that will find the position of the first occurrence of the letter `t` in the following string. </span>"
   ]
  },
  {
   "cell_type": "code",
   "execution_count": 30,
   "metadata": {},
   "outputs": [
    {
     "data": {
      "text/plain": [
       "4"
      ]
     },
     "execution_count": 30,
     "metadata": {},
     "output_type": "execute_result"
    }
   ],
   "source": [
    "s = 'a data scientist'\n",
    "s.find('t')"
   ]
  },
  {
   "cell_type": "markdown",
   "metadata": {},
   "source": [
    "### Exercise 15\n",
    "<span style=\"color:green\">Use a method chain to do the following to the given string: Strip each letter 'a' from the left side and then switch the case of each letter (from lower to upper and from upper to lower).</span>"
   ]
  },
  {
   "cell_type": "code",
   "execution_count": 31,
   "metadata": {},
   "outputs": [
    {
     "data": {
      "text/plain": [
       "' too MANY AAAAAAAAA'"
      ]
     },
     "execution_count": 31,
     "metadata": {},
     "output_type": "execute_result"
    }
   ],
   "source": [
    "test_string = 'aaaa TOO many aaaaaaaaa'\n",
    "test_string.lstrip('a').swapcase()"
   ]
  },
  {
   "cell_type": "markdown",
   "metadata": {},
   "source": [
    "### Exercises 16-23\n",
    "Use the following string, `s`, for all exercies 16-23"
   ]
  },
  {
   "cell_type": "code",
   "execution_count": 32,
   "metadata": {},
   "outputs": [],
   "source": [
    "s = 'the astros will win the world series again in 2019'"
   ]
  },
  {
   "cell_type": "markdown",
   "metadata": {},
   "source": [
    "### Exercise 16\n",
    "<span style=\"color:green\">Select index 9 from `s`.</span>"
   ]
  },
  {
   "cell_type": "code",
   "execution_count": 33,
   "metadata": {},
   "outputs": [
    {
     "data": {
      "text/plain": [
       "'s'"
      ]
     },
     "execution_count": 33,
     "metadata": {},
     "output_type": "execute_result"
    }
   ],
   "source": [
    "s[9]"
   ]
  },
  {
   "cell_type": "markdown",
   "metadata": {},
   "source": [
    "### Exercise 17\n",
    "<span style=\"color:green\">Select the third to last character from `s`.</span>"
   ]
  },
  {
   "cell_type": "code",
   "execution_count": 34,
   "metadata": {},
   "outputs": [
    {
     "data": {
      "text/plain": [
       "'0'"
      ]
     },
     "execution_count": 34,
     "metadata": {},
     "output_type": "execute_result"
    }
   ],
   "source": [
    "s[-3]"
   ]
  },
  {
   "cell_type": "markdown",
   "metadata": {},
   "source": [
    "### Exercise 18\n",
    "<span style=\"color:green\">Select the last 10 characters from `s`.</span>"
   ]
  },
  {
   "cell_type": "code",
   "execution_count": 35,
   "metadata": {},
   "outputs": [
    {
     "data": {
      "text/plain": [
       "'in in 2019'"
      ]
     },
     "execution_count": 35,
     "metadata": {},
     "output_type": "execute_result"
    }
   ],
   "source": [
    "s[-10:]"
   ]
  },
  {
   "cell_type": "markdown",
   "metadata": {},
   "source": [
    "### Exercise 19\n",
    "<span style=\"color:green\">Select the substring 'astros' from `s`.</span>"
   ]
  },
  {
   "cell_type": "code",
   "execution_count": 36,
   "metadata": {},
   "outputs": [
    {
     "data": {
      "text/plain": [
       "'astros'"
      ]
     },
     "execution_count": 36,
     "metadata": {},
     "output_type": "execute_result"
    }
   ],
   "source": [
    "s[4:10]"
   ]
  },
  {
   "cell_type": "markdown",
   "metadata": {},
   "source": [
    "### Exercise 20\n",
    "<span style=\"color:green\">Slice `s` from index 5 to the end by every 4th character.</span>"
   ]
  },
  {
   "cell_type": "code",
   "execution_count": 37,
   "metadata": {},
   "outputs": [
    {
     "data": {
      "text/plain": [
       "'ssliho ian 9'"
      ]
     },
     "execution_count": 37,
     "metadata": {},
     "output_type": "execute_result"
    }
   ],
   "source": [
    "s[5::4]"
   ]
  },
  {
   "cell_type": "markdown",
   "metadata": {},
   "source": [
    "### Exercise 21\n",
    "<span style=\"color:green\">Select every third character from `s` starting from the last character and ending with the first. </span>"
   ]
  },
  {
   "cell_type": "code",
   "execution_count": 38,
   "metadata": {},
   "outputs": [
    {
     "data": {
      "text/plain": [
       "'92iiaeedoe wl rah'"
      ]
     },
     "execution_count": 38,
     "metadata": {},
     "output_type": "execute_result"
    }
   ],
   "source": [
    "s[::-3]"
   ]
  },
  {
   "cell_type": "markdown",
   "metadata": {},
   "source": [
    "### Exercise 22\n",
    "<span style=\"color:green\">Does the string 'row' appear in `s`?</span>"
   ]
  },
  {
   "cell_type": "code",
   "execution_count": 39,
   "metadata": {},
   "outputs": [
    {
     "data": {
      "text/plain": [
       "False"
      ]
     },
     "execution_count": 39,
     "metadata": {},
     "output_type": "execute_result"
    }
   ],
   "source": [
    "'row' in s"
   ]
  },
  {
   "cell_type": "markdown",
   "metadata": {},
   "source": [
    "### Exercise 23\n",
    "<span style=\"color:green\">Does the string 'row' appear in the reverse of `s`?</span>"
   ]
  },
  {
   "cell_type": "code",
   "execution_count": 40,
   "metadata": {},
   "outputs": [
    {
     "data": {
      "text/plain": [
       "True"
      ]
     },
     "execution_count": 40,
     "metadata": {},
     "output_type": "execute_result"
    }
   ],
   "source": [
    "'row' in s[::-1]"
   ]
  },
  {
   "cell_type": "markdown",
   "metadata": {},
   "source": [
    "### Exercise 24\n",
    "<span style=\"color:green\">A palindrome is a string that has the same order of charcaters when it is reversed. Create a palindrome that has at least 5 characters in it and assign it to variable `a`. Verify that it is a palindrome.</span>"
   ]
  },
  {
   "cell_type": "code",
   "execution_count": 41,
   "metadata": {},
   "outputs": [
    {
     "data": {
      "text/plain": [
       "True"
      ]
     },
     "execution_count": 41,
     "metadata": {},
     "output_type": "execute_result"
    }
   ],
   "source": [
    "a = 'racecar'\n",
    "a == a[::-1]"
   ]
  },
  {
   "cell_type": "markdown",
   "metadata": {},
   "source": [
    "### Exercise 25\n",
    "<span style=\"color:green\">Use four chained methods on a string of your choice.</span>"
   ]
  },
  {
   "cell_type": "code",
   "execution_count": 42,
   "metadata": {},
   "outputs": [
    {
     "data": {
      "text/plain": [
       "['Blah', 'Blah', 'And', 'More', 'Blah']"
      ]
     },
     "execution_count": 42,
     "metadata": {},
     "output_type": "execute_result"
    }
   ],
   "source": [
    "# Enter in a string inside the quotes\n",
    "your_string = '        blah blah and more blah'\n",
    "your_string.title().ljust(0).strip().split() # returns list"
   ]
  },
  {
   "cell_type": "markdown",
   "metadata": {},
   "source": [
    "### Exercise 26\n",
    "<span style=\"color:green\">What is the difference between the `find` and `rfind` methods? Call both of these methods on a string of your choice to show the difference.</span>"
   ]
  },
  {
   "cell_type": "code",
   "execution_count": 43,
   "metadata": {},
   "outputs": [
    {
     "data": {
      "text/plain": [
       "9"
      ]
     },
     "execution_count": 43,
     "metadata": {},
     "output_type": "execute_result"
    }
   ],
   "source": [
    "# find returns the first index of the passed argument\n",
    "a = 'jupyter notebook'\n",
    "a.find('o')"
   ]
  },
  {
   "cell_type": "code",
   "execution_count": 44,
   "metadata": {},
   "outputs": [
    {
     "data": {
      "text/plain": [
       "14"
      ]
     },
     "execution_count": 44,
     "metadata": {},
     "output_type": "execute_result"
    }
   ],
   "source": [
    "# rfind returns the last index of the passed argument\n",
    "a.rfind('o')"
   ]
  },
  {
   "cell_type": "markdown",
   "metadata": {},
   "source": [
    "### Exercise 27\n",
    "<span style=\"color:green\">Identify the components of the format specification `a>10_.3f`.</span>"
   ]
  },
  {
   "cell_type": "markdown",
   "metadata": {},
   "source": [
    "* Fill - a\n",
    "* Align - >\n",
    "* Width - 10\n",
    "* Grouping - _\n",
    "* Precision - .3\n",
    "* Type - f"
   ]
  },
  {
   "cell_type": "markdown",
   "metadata": {},
   "source": [
    "### Exercise 28\n",
    "<span style=\"color:green\">Assign a float to the variable `a` that has at least 5 digits to the right of the decimal. Create an f-string that uses left-alignment with a width of 20 and a precision of 2 and uses a fixed-point float. Fill any unused width with the '@' character.</span>"
   ]
  },
  {
   "cell_type": "code",
   "execution_count": 45,
   "metadata": {},
   "outputs": [
    {
     "data": {
      "text/plain": [
       "'156.89@@@@@@@@@@@@@@'"
      ]
     },
     "execution_count": 45,
     "metadata": {},
     "output_type": "execute_result"
    }
   ],
   "source": [
    "a = 156.887347\n",
    "f'{a:@<20.2f}'"
   ]
  },
  {
   "cell_type": "markdown",
   "metadata": {},
   "source": [
    "### Exercise 29\n",
    "<span style=\"color:green\">Create a report similar to the one in the String Formatting section of this chapter with the following financial information. Make columns for company, shares, earnings, and earnings per share.\n",
    "    <ul style=\"color:green\">\n",
    "        <li>Use 'EPS' as the column name for earnings per share</li>\n",
    "        <li>Center-align the column names</li> \n",
    "        <li>Use 12 as the width for each column</li>\n",
    "        <li>Display shares and earnings in scientific notation</li>\n",
    "        <li>Limit all numeric fields to two decimal places</li>\n",
    "        <li>Calculate EPS within the replacement field</li>        \n",
    "    </ul></span>"
   ]
  },
  {
   "cell_type": "code",
   "execution_count": 46,
   "metadata": {},
   "outputs": [],
   "source": [
    "# company\n",
    "c1 = 'Apple'\n",
    "c2 = 'Sclumberger'\n",
    "# shares\n",
    "s1 = 2345123776\n",
    "s2 = 1955452766\n",
    "# earnings\n",
    "e1 = 5100000000\n",
    "e2 = -899233640.33"
   ]
  },
  {
   "cell_type": "code",
   "execution_count": 47,
   "metadata": {},
   "outputs": [
    {
     "name": "stdout",
     "output_type": "stream",
     "text": [
      "  Company   |   Shares   |  Earnings  |    EPS     \n",
      "---------------------------------------------------\n",
      "Apple       |    2.35e+09|    5.10e+09|        2.17\n",
      "Sclumberger |    1.96e+09|   -8.99e+08|       -0.46\n"
     ]
    }
   ],
   "source": [
    "print(f'{\"Company\":^12}|{\"Shares\":^12}|{\"Earnings\":^12}|{\"EPS\":^12}')\n",
    "print('-' * 51)\n",
    "print(f'{c1:<12}|{s1:>12.2e}|{e1:>12.2e}|{e1 / s1:>12.2f}')\n",
    "print(f'{c2:<12}|{s2:>12.2e}|{e2:>12.2e}|{e2 / s2:>12.2f}')"
   ]
  },
  {
   "cell_type": "markdown",
   "metadata": {},
   "source": [
    "## 5. Lists"
   ]
  },
  {
   "cell_type": "markdown",
   "metadata": {},
   "source": [
    "### Exercise 1\n",
    "<span style=\"color:green\">Create a list with 4 items that are each a different type and assign it to variable `a`. Output it to the screen.</span> "
   ]
  },
  {
   "cell_type": "code",
   "execution_count": 48,
   "metadata": {},
   "outputs": [
    {
     "data": {
      "text/plain": [
       "[-99, 3.14, True, 'python']"
      ]
     },
     "execution_count": 48,
     "metadata": {},
     "output_type": "execute_result"
    }
   ],
   "source": [
    "a = [-99, 3.14, True, 'python']\n",
    "a"
   ]
  },
  {
   "cell_type": "markdown",
   "metadata": {},
   "source": [
    "### Exercise 2\n",
    "<span style=\"color:green\">Verify that list `a` from exercise 1 has length 4.</span> "
   ]
  },
  {
   "cell_type": "code",
   "execution_count": 49,
   "metadata": {},
   "outputs": [
    {
     "data": {
      "text/plain": [
       "4"
      ]
     },
     "execution_count": 49,
     "metadata": {},
     "output_type": "execute_result"
    }
   ],
   "source": [
    "len(a)"
   ]
  },
  {
   "cell_type": "markdown",
   "metadata": {},
   "source": [
    "### Exercise 3\n",
    "<span style=\"color:green\">Select the first item from list `a`.</span> "
   ]
  },
  {
   "cell_type": "code",
   "execution_count": 50,
   "metadata": {},
   "outputs": [
    {
     "data": {
      "text/plain": [
       "-99"
      ]
     },
     "execution_count": 50,
     "metadata": {},
     "output_type": "execute_result"
    }
   ],
   "source": [
    "a[0]"
   ]
  },
  {
   "cell_type": "markdown",
   "metadata": {},
   "source": [
    "### Exercise 4\n",
    "<span style=\"color:green\">Select the last item from list `a`.</span> "
   ]
  },
  {
   "cell_type": "code",
   "execution_count": 51,
   "metadata": {},
   "outputs": [
    {
     "data": {
      "text/plain": [
       "'python'"
      ]
     },
     "execution_count": 51,
     "metadata": {},
     "output_type": "execute_result"
    }
   ],
   "source": [
    "a[-1]"
   ]
  },
  {
   "cell_type": "markdown",
   "metadata": {},
   "source": [
    "### Exercise 5\n",
    "<span style=\"color:green\">Assign the third item in list `a` a different value of the same type. Output the list.</span> "
   ]
  },
  {
   "cell_type": "code",
   "execution_count": 52,
   "metadata": {},
   "outputs": [
    {
     "data": {
      "text/plain": [
       "[-99, 3.14, False, 'python']"
      ]
     },
     "execution_count": 52,
     "metadata": {},
     "output_type": "execute_result"
    }
   ],
   "source": [
    "a[2] = False\n",
    "a"
   ]
  },
  {
   "cell_type": "markdown",
   "metadata": {},
   "source": [
    "### Exercise 6\n",
    "<span style=\"color:green\">Mutate `list_2` and output both lists. Does mutating `list_2` change `list_1`? </span> "
   ]
  },
  {
   "cell_type": "code",
   "execution_count": 53,
   "metadata": {},
   "outputs": [
    {
     "data": {
      "text/plain": [
       "['changed', 5, 10]"
      ]
     },
     "execution_count": 53,
     "metadata": {},
     "output_type": "execute_result"
    }
   ],
   "source": [
    "list_1 = [1, 5, 10]\n",
    "list_2 = list_1\n",
    "list_2[0] = 'changed'\n",
    "list_1 # yes"
   ]
  },
  {
   "cell_type": "code",
   "execution_count": 54,
   "metadata": {},
   "outputs": [
    {
     "data": {
      "text/plain": [
       "['changed', 5, 10]"
      ]
     },
     "execution_count": 54,
     "metadata": {},
     "output_type": "execute_result"
    }
   ],
   "source": [
    "list_2"
   ]
  },
  {
   "cell_type": "markdown",
   "metadata": {},
   "source": [
    "### Exercise 7\n",
    "<span style=\"color:green\">Verify that `list_1` and `list_2` from exercise 6 refer to the same object.</span> "
   ]
  },
  {
   "cell_type": "code",
   "execution_count": 55,
   "metadata": {},
   "outputs": [
    {
     "data": {
      "text/plain": [
       "True"
      ]
     },
     "execution_count": 55,
     "metadata": {},
     "output_type": "execute_result"
    }
   ],
   "source": [
    "list_1 is list_2"
   ]
  },
  {
   "cell_type": "markdown",
   "metadata": {},
   "source": [
    "### Exercise 8\n",
    "<span style=\"color:green\">In the following code, both `list_1` and `list_2` are defined to have the same items. Mutate `list_1`. Does `list_2` also get mutated?</span> "
   ]
  },
  {
   "cell_type": "code",
   "execution_count": 56,
   "metadata": {},
   "outputs": [
    {
     "data": {
      "text/plain": [
       "[1, 3, 5]"
      ]
     },
     "execution_count": 56,
     "metadata": {},
     "output_type": "execute_result"
    }
   ],
   "source": [
    "list_1 = [1, 3, 5]\n",
    "list_2 = [1, 3, 5]\n",
    "list_1[0] = -99\n",
    "list_2 # no"
   ]
  },
  {
   "cell_type": "markdown",
   "metadata": {},
   "source": [
    "Two new list objects are created separately and are completely different objects. They have no relation to one another, they just happen to have the same values."
   ]
  },
  {
   "cell_type": "markdown",
   "metadata": {},
   "source": [
    "### Exercise 9\n",
    "<span style=\"color:green\">Verify that `list_1` and `list_2` from exercise 8 do not refer to the same object.</span> "
   ]
  },
  {
   "cell_type": "code",
   "execution_count": 57,
   "metadata": {},
   "outputs": [
    {
     "data": {
      "text/plain": [
       "False"
      ]
     },
     "execution_count": 57,
     "metadata": {},
     "output_type": "execute_result"
    }
   ],
   "source": [
    "list_1 is list_2"
   ]
  },
  {
   "cell_type": "markdown",
   "metadata": {},
   "source": [
    "### Exercise 10\n",
    "<span style=\"color:green\">Does the identity of a list change after it is sorted? Use an example to determine the outcome.</span> "
   ]
  },
  {
   "cell_type": "code",
   "execution_count": 58,
   "metadata": {},
   "outputs": [
    {
     "data": {
      "text/plain": [
       "4497751752"
      ]
     },
     "execution_count": 58,
     "metadata": {},
     "output_type": "execute_result"
    }
   ],
   "source": [
    "a = [5, 4, 3]\n",
    "id(a)"
   ]
  },
  {
   "cell_type": "code",
   "execution_count": 59,
   "metadata": {},
   "outputs": [
    {
     "data": {
      "text/plain": [
       "4497751752"
      ]
     },
     "execution_count": 59,
     "metadata": {},
     "output_type": "execute_result"
    }
   ],
   "source": [
    "a.sort()\n",
    "id(a)"
   ]
  },
  {
   "cell_type": "markdown",
   "metadata": {},
   "source": [
    "No, the id stays the same. It is still the same object that has been mutated."
   ]
  },
  {
   "cell_type": "markdown",
   "metadata": {},
   "source": [
    "### Exercise 11\n",
    "<span style=\"color:green\">Create two lists of different lengths and assign them to variables `a` and `b`. Use the + operator to concatenate the lists and assign the result to variable `c` and output it. Reassign the first value of list `c` to something else. Does list `a` also get mutated?</span>"
   ]
  },
  {
   "cell_type": "code",
   "execution_count": 60,
   "metadata": {},
   "outputs": [
    {
     "data": {
      "text/plain": [
       "[99, True, 'asdf', 5.3, 123]"
      ]
     },
     "execution_count": 60,
     "metadata": {},
     "output_type": "execute_result"
    }
   ],
   "source": [
    "a = [99, True, 'asdf']\n",
    "b = [5.3, 123]\n",
    "c = a + b\n",
    "c"
   ]
  },
  {
   "cell_type": "code",
   "execution_count": 61,
   "metadata": {},
   "outputs": [],
   "source": [
    "c[0] = 44"
   ]
  },
  {
   "cell_type": "code",
   "execution_count": 62,
   "metadata": {},
   "outputs": [
    {
     "data": {
      "text/plain": [
       "[99, True, 'asdf']"
      ]
     },
     "execution_count": 62,
     "metadata": {},
     "output_type": "execute_result"
    }
   ],
   "source": [
    "a # no it doesn't"
   ]
  },
  {
   "cell_type": "markdown",
   "metadata": {},
   "source": [
    "### Exercise 12\n",
    "<span style=\"color:green\">Create a list then use the `extend` method to add items to it.</span>"
   ]
  },
  {
   "cell_type": "code",
   "execution_count": 63,
   "metadata": {},
   "outputs": [
    {
     "data": {
      "text/plain": [
       "[1, 2, 3, 'more', 'items', 'to', 'add']"
      ]
     },
     "execution_count": 63,
     "metadata": {},
     "output_type": "execute_result"
    }
   ],
   "source": [
    "test_list = [1, 2, 3]\n",
    "test_list.extend(['more', 'items', 'to', 'add'])\n",
    "test_list"
   ]
  },
  {
   "cell_type": "markdown",
   "metadata": {},
   "source": [
    "### Exercise 13\n",
    "<span style=\"color:green\">Create a list of three items and assign it to variable `a`. Concatenate it to itself 4 times.</span>"
   ]
  },
  {
   "cell_type": "code",
   "execution_count": 64,
   "metadata": {},
   "outputs": [
    {
     "data": {
      "text/plain": [
       "[1, 2, 3, 1, 2, 3, 1, 2, 3, 1, 2, 3]"
      ]
     },
     "execution_count": 64,
     "metadata": {},
     "output_type": "execute_result"
    }
   ],
   "source": [
    "a = [1, 2, 3]\n",
    "a * 4"
   ]
  },
  {
   "cell_type": "markdown",
   "metadata": {},
   "source": [
    "### Exercise 14\n",
    "<span style=\"color:green\">First create a list containing three inner lists. Replace the second list with a reverse of the third list.</span>"
   ]
  },
  {
   "cell_type": "code",
   "execution_count": 65,
   "metadata": {},
   "outputs": [
    {
     "data": {
      "text/plain": [
       "[[1, 2, 3], [9, 8, 7], [7, 8, 9]]"
      ]
     },
     "execution_count": 65,
     "metadata": {},
     "output_type": "execute_result"
    }
   ],
   "source": [
    "list_of_lists = [[1,2,3], [4,5,6], [7,8,9]]\n",
    "list_of_lists[1] = list_of_lists[2][::-1]\n",
    "list_of_lists"
   ]
  },
  {
   "cell_type": "markdown",
   "metadata": {},
   "source": [
    "### Exercise 15\n",
    "<span style=\"color:green\">Use a method to find the index of the string 'python' in the following list.</span>"
   ]
  },
  {
   "cell_type": "code",
   "execution_count": 66,
   "metadata": {},
   "outputs": [
    {
     "data": {
      "text/plain": [
       "2"
      ]
     },
     "execution_count": 66,
     "metadata": {},
     "output_type": "execute_result"
    }
   ],
   "source": [
    "a = ['rattlesnake', 'cottonmouth', 'python', 'cobra']\n",
    "a.index('python')"
   ]
  },
  {
   "cell_type": "markdown",
   "metadata": {},
   "source": [
    "### Exercise 16\n",
    "<span style=\"color:green\">Create an empty list and assign it to a variable. Append the string 'python' to it. Then call the `extend` method and pass the string 'python' to it. Output the list.</span>"
   ]
  },
  {
   "cell_type": "code",
   "execution_count": 67,
   "metadata": {},
   "outputs": [
    {
     "data": {
      "text/plain": [
       "['python', 'p', 'y', 't', 'h', 'o', 'n']"
      ]
     },
     "execution_count": 67,
     "metadata": {},
     "output_type": "execute_result"
    }
   ],
   "source": [
    "a = []\n",
    "a.append('python')\n",
    "a.extend('python')\n",
    "a"
   ]
  },
  {
   "cell_type": "markdown",
   "metadata": {},
   "source": [
    "### Exercise 17\n",
    "<span style=\"color:green\">Can a list with only booleans, integers, and floats be sorted? Use an example to show why or why not.</span>"
   ]
  },
  {
   "cell_type": "code",
   "execution_count": 68,
   "metadata": {},
   "outputs": [
    {
     "data": {
      "text/plain": [
       "[False, 0.5, True, 3]"
      ]
     },
     "execution_count": 68,
     "metadata": {},
     "output_type": "execute_result"
    }
   ],
   "source": [
    "# yes\n",
    "a = [.5, False, 3, True]\n",
    "a.sort()\n",
    "a"
   ]
  },
  {
   "cell_type": "markdown",
   "metadata": {},
   "source": [
    "### Exercise 18\n",
    "<span style=\"color:green\">Select the even integers from list `a` as a new list.</span>"
   ]
  },
  {
   "cell_type": "code",
   "execution_count": 69,
   "metadata": {},
   "outputs": [
    {
     "data": {
      "text/plain": [
       "[0, 2, 4, 6, 8, 10]"
      ]
     },
     "execution_count": 69,
     "metadata": {},
     "output_type": "execute_result"
    }
   ],
   "source": [
    "a = [0, 1, 2, 3, 4, 5, 6, 7, 8, 9, 10]\n",
    "a[::2]"
   ]
  },
  {
   "cell_type": "markdown",
   "metadata": {},
   "source": [
    "### Exercise 19\n",
    "<span style=\"color:green\">Is the string 'py' an element of list `a`.</span>"
   ]
  },
  {
   "cell_type": "code",
   "execution_count": 70,
   "metadata": {},
   "outputs": [
    {
     "data": {
      "text/plain": [
       "False"
      ]
     },
     "execution_count": 70,
     "metadata": {},
     "output_type": "execute_result"
    }
   ],
   "source": [
    "a = ['python', 'numpy']\n",
    "'py' in a"
   ]
  },
  {
   "cell_type": "markdown",
   "metadata": {},
   "source": [
    "### Exercise 20\n",
    "<span style=\"color:green\">Is the string 'py' a substring of the first item in list `a`.</span>"
   ]
  },
  {
   "cell_type": "code",
   "execution_count": 71,
   "metadata": {},
   "outputs": [
    {
     "data": {
      "text/plain": [
       "True"
      ]
     },
     "execution_count": 71,
     "metadata": {},
     "output_type": "execute_result"
    }
   ],
   "source": [
    "a = ['python', 'numpy']\n",
    "'py' in a[0]"
   ]
  },
  {
   "cell_type": "markdown",
   "metadata": {},
   "source": [
    "### Exercise 21\n",
    "<span style=\"color:green\">Assign an empty list to variable `a`. Multiply this list by 1000 and find its length.</span>"
   ]
  },
  {
   "cell_type": "code",
   "execution_count": 72,
   "metadata": {},
   "outputs": [
    {
     "data": {
      "text/plain": [
       "0"
      ]
     },
     "execution_count": 72,
     "metadata": {},
     "output_type": "execute_result"
    }
   ],
   "source": [
    "a = []\n",
    "len(a * 1000)"
   ]
  },
  {
   "cell_type": "markdown",
   "metadata": {},
   "source": [
    "### Exercise 22\n",
    "<span style=\"color:green\">Use the character 'a' to separate and join the following list to reveal the magic word </span>"
   ]
  },
  {
   "cell_type": "code",
   "execution_count": 73,
   "metadata": {},
   "outputs": [
    {
     "data": {
      "text/plain": [
       "'abaracadabara!'"
      ]
     },
     "execution_count": 73,
     "metadata": {},
     "output_type": "execute_result"
    }
   ],
   "source": [
    "magic_word = ['', 'b', 'r', 'c', 'd', 'b', 'r', '!']\n",
    "'a'.join(magic_word)"
   ]
  },
  {
   "cell_type": "markdown",
   "metadata": {},
   "source": [
    "### Exercise 23\n",
    "<span style=\"color:green\">Concatenate the following list into a single string. Use a separator that will make a valid English sentence.</span>"
   ]
  },
  {
   "cell_type": "code",
   "execution_count": 74,
   "metadata": {},
   "outputs": [
    {
     "data": {
      "text/plain": [
       "'He rode the bike twice .'"
      ]
     },
     "execution_count": 74,
     "metadata": {},
     "output_type": "execute_result"
    }
   ],
   "source": [
    "sentence = ['H', 'rod', 'th', 'bik', 'twic', '.']\n",
    "'e '.join(sentence)"
   ]
  },
  {
   "cell_type": "markdown",
   "metadata": {},
   "source": [
    "## 6. Ranges and Constructors"
   ]
  },
  {
   "cell_type": "markdown",
   "metadata": {},
   "source": [
    "### Exercise 1\n",
    "<span style=\"color:green\">Create a range that defines a sequence of all the integers from 0 to, but not including 100. </span>"
   ]
  },
  {
   "cell_type": "code",
   "execution_count": 75,
   "metadata": {},
   "outputs": [
    {
     "data": {
      "text/plain": [
       "range(0, 100)"
      ]
     },
     "execution_count": 75,
     "metadata": {},
     "output_type": "execute_result"
    }
   ],
   "source": [
    "range(100)"
   ]
  },
  {
   "cell_type": "markdown",
   "metadata": {},
   "source": [
    "### Exercise 2\n",
    "<span style=\"color:green\">Create a range that defines a sequence of all the integers from 100 to, but not including 200.</span>"
   ]
  },
  {
   "cell_type": "code",
   "execution_count": 76,
   "metadata": {},
   "outputs": [
    {
     "data": {
      "text/plain": [
       "range(100, 200)"
      ]
     },
     "execution_count": 76,
     "metadata": {},
     "output_type": "execute_result"
    }
   ],
   "source": [
    "range(100, 200)"
   ]
  },
  {
   "cell_type": "markdown",
   "metadata": {},
   "source": [
    "### Exercise 3\n",
    "<span style=\"color:green\">Create a range that defines a sequence of every fourth integer from 100 to, but not including 200.</span>"
   ]
  },
  {
   "cell_type": "code",
   "execution_count": 77,
   "metadata": {},
   "outputs": [
    {
     "data": {
      "text/plain": [
       "range(100, 200, 4)"
      ]
     },
     "execution_count": 77,
     "metadata": {},
     "output_type": "execute_result"
    }
   ],
   "source": [
    "range(100, 200, 4)"
   ]
  },
  {
   "cell_type": "markdown",
   "metadata": {},
   "source": [
    "### Exercise 4\n",
    "\n",
    "<span style=\"color:green\">Create a range that defines a sequence of every 20th integer from 0 to, but not including 200.</span>"
   ]
  },
  {
   "cell_type": "code",
   "execution_count": 78,
   "metadata": {},
   "outputs": [
    {
     "data": {
      "text/plain": [
       "range(0, 200, 20)"
      ]
     },
     "execution_count": 78,
     "metadata": {},
     "output_type": "execute_result"
    }
   ],
   "source": [
    "range(0, 200, 20)"
   ]
  },
  {
   "cell_type": "markdown",
   "metadata": {},
   "source": [
    "### Exercise 5\n",
    "<span style=\"color:green\">Is the number 87,649 a member of a sequence defined as every 113th integer from 0 to 100,000</span>"
   ]
  },
  {
   "cell_type": "code",
   "execution_count": 79,
   "metadata": {},
   "outputs": [
    {
     "data": {
      "text/plain": [
       "False"
      ]
     },
     "execution_count": 79,
     "metadata": {},
     "output_type": "execute_result"
    }
   ],
   "source": [
    "r = range(0, 100000, 113)\n",
    "87649 in r"
   ]
  },
  {
   "cell_type": "markdown",
   "metadata": {},
   "source": [
    "### Exercise 6\n",
    "<span style=\"color:green\">What is the 100th integer from the sequence defined as every 113th integer from 0 to 100,000</span>"
   ]
  },
  {
   "cell_type": "code",
   "execution_count": 80,
   "metadata": {},
   "outputs": [
    {
     "data": {
      "text/plain": [
       "11300"
      ]
     },
     "execution_count": 80,
     "metadata": {},
     "output_type": "execute_result"
    }
   ],
   "source": [
    "r = range(0, 100000, 113)\n",
    "r[100]"
   ]
  },
  {
   "cell_type": "markdown",
   "metadata": {},
   "source": [
    "### Exercise 7\n",
    "<span style=\"color:green\">Create an empty list and assign it to `a` and then pass it the `bool` constructor and output the returned value. Then append an item to the list, pass it to the same constructor and output the returned value.</span>"
   ]
  },
  {
   "cell_type": "code",
   "execution_count": 81,
   "metadata": {},
   "outputs": [
    {
     "data": {
      "text/plain": [
       "False"
      ]
     },
     "execution_count": 81,
     "metadata": {},
     "output_type": "execute_result"
    }
   ],
   "source": [
    "a = []\n",
    "bool(a)"
   ]
  },
  {
   "cell_type": "code",
   "execution_count": 82,
   "metadata": {},
   "outputs": [
    {
     "data": {
      "text/plain": [
       "True"
      ]
     },
     "execution_count": 82,
     "metadata": {},
     "output_type": "execute_result"
    }
   ],
   "source": [
    "a.append(1)\n",
    "bool(a)"
   ]
  },
  {
   "cell_type": "markdown",
   "metadata": {},
   "source": [
    "### Exercise 8\n",
    "<span style=\"color:green\">Does the string `'0'` evaluate as True or False when passed to the `bool` constructor?</span>"
   ]
  },
  {
   "cell_type": "code",
   "execution_count": 83,
   "metadata": {},
   "outputs": [
    {
     "data": {
      "text/plain": [
       "True"
      ]
     },
     "execution_count": 83,
     "metadata": {},
     "output_type": "execute_result"
    }
   ],
   "source": [
    "bool('0')"
   ]
  },
  {
   "cell_type": "markdown",
   "metadata": {},
   "source": [
    "### Exercise 9\n",
    "<span style=\"color:green\">Turn the string `s` into the integer 4 using two constructors.</span>"
   ]
  },
  {
   "cell_type": "code",
   "execution_count": 84,
   "metadata": {},
   "outputs": [
    {
     "data": {
      "text/plain": [
       "4"
      ]
     },
     "execution_count": 84,
     "metadata": {},
     "output_type": "execute_result"
    }
   ],
   "source": [
    "s = '4.6'\n",
    "int(float(s))"
   ]
  },
  {
   "cell_type": "markdown",
   "metadata": {},
   "source": [
    "### Exercise 10\n",
    "<span style=\"color:green\">Extract the integer part of string `s` and then use a single constructor to return the integer 4.</span>"
   ]
  },
  {
   "cell_type": "code",
   "execution_count": 85,
   "metadata": {},
   "outputs": [
    {
     "data": {
      "text/plain": [
       "4"
      ]
     },
     "execution_count": 85,
     "metadata": {},
     "output_type": "execute_result"
    }
   ],
   "source": [
    "s = '4.6'\n",
    "int(s[0])"
   ]
  },
  {
   "cell_type": "markdown",
   "metadata": {},
   "source": [
    "### Exercise 11\n",
    "<span style=\"color:green\">The sum of the digits of the number 826 is 16. Use the `str` constructor to help you sum these digits.</span>"
   ]
  },
  {
   "cell_type": "code",
   "execution_count": 86,
   "metadata": {},
   "outputs": [
    {
     "data": {
      "text/plain": [
       "'826'"
      ]
     },
     "execution_count": 86,
     "metadata": {},
     "output_type": "execute_result"
    }
   ],
   "source": [
    "a = 826\n",
    "s = str(a)\n",
    "s"
   ]
  },
  {
   "cell_type": "code",
   "execution_count": 87,
   "metadata": {},
   "outputs": [
    {
     "data": {
      "text/plain": [
       "16"
      ]
     },
     "execution_count": 87,
     "metadata": {},
     "output_type": "execute_result"
    }
   ],
   "source": [
    "int(s[0]) + int(s[1]) + int(s[2])"
   ]
  },
  {
   "cell_type": "markdown",
   "metadata": {},
   "source": [
    "### Exercise 12\n",
    "<span style=\"color:green\">What is the 50th number in the integer sequence that begins at 813 and steps up by 41.</span>"
   ]
  },
  {
   "cell_type": "code",
   "execution_count": 88,
   "metadata": {},
   "outputs": [
    {
     "data": {
      "text/plain": [
       "2863"
      ]
     },
     "execution_count": 88,
     "metadata": {},
     "output_type": "execute_result"
    }
   ],
   "source": [
    "r = range(813, 10000, 41)\n",
    "r[50]"
   ]
  },
  {
   "cell_type": "markdown",
   "metadata": {},
   "source": [
    "### Exercise 13\n",
    "<span style=\"color:green\">Create a complex number using the complex constructor and assign it to `a`. Create that same complex number without the constructor and assign it to `b`. Verify that they are equal.</span>"
   ]
  },
  {
   "cell_type": "code",
   "execution_count": 89,
   "metadata": {},
   "outputs": [
    {
     "data": {
      "text/plain": [
       "True"
      ]
     },
     "execution_count": 89,
     "metadata": {},
     "output_type": "execute_result"
    }
   ],
   "source": [
    "a = complex(-3, 5)\n",
    "b = -3 + 5j\n",
    "a == b"
   ]
  },
  {
   "cell_type": "markdown",
   "metadata": {},
   "source": [
    "### Exercise 14\n",
    "<span style=\"color:green\">Colors used in webpages are defined by the intensity of red, green, and blue. These are known as **RGB color values**. For instance, the color chocolate is defined as 210 for red, 105 for green, and 30 for blue. Each of the RGB color values range from 0 to 255 with higher values representing greater intensity. Often times, these colors are shown as a six-character hexidecimal (base 16) string with each red, green, and blue parts being two characters in length. The \"HEX\" string for chocolate is D2691E meaning D2 represents the intensity for red, 69 for green and 1E for blue. Can you verify that D2691E gives the correct intensities in base 10 for the color chocoloate?</span>"
   ]
  },
  {
   "cell_type": "code",
   "execution_count": 90,
   "metadata": {},
   "outputs": [
    {
     "data": {
      "text/plain": [
       "210"
      ]
     },
     "execution_count": 90,
     "metadata": {},
     "output_type": "execute_result"
    }
   ],
   "source": [
    "s = 'D2691E'\n",
    "int('D2', 16)"
   ]
  },
  {
   "cell_type": "code",
   "execution_count": 91,
   "metadata": {},
   "outputs": [
    {
     "data": {
      "text/plain": [
       "105"
      ]
     },
     "execution_count": 91,
     "metadata": {},
     "output_type": "execute_result"
    }
   ],
   "source": [
    "int('69', 16)"
   ]
  },
  {
   "cell_type": "code",
   "execution_count": 92,
   "metadata": {},
   "outputs": [
    {
     "data": {
      "text/plain": [
       "30"
      ]
     },
     "execution_count": 92,
     "metadata": {},
     "output_type": "execute_result"
    }
   ],
   "source": [
    "int('1E', 16)"
   ]
  },
  {
   "cell_type": "markdown",
   "metadata": {},
   "source": [
    "## 7. Control Flow"
   ]
  },
  {
   "cell_type": "markdown",
   "metadata": {},
   "source": [
    "### Exercise 1\n",
    "<span style=\"color:green\">Is the following `if` statement written with correct syntax? If not, why?</span> \n",
    "```\n",
    "x = 5\n",
    "if x > 0:\n",
    "print('x is positive')\n",
    "```"
   ]
  },
  {
   "cell_type": "markdown",
   "metadata": {},
   "source": [
    "Incorrect syntax. The code block must be indented at least one space."
   ]
  },
  {
   "cell_type": "markdown",
   "metadata": {},
   "source": [
    "### Exercise 2\n",
    "<span style=\"color:green\">Is the following `if` statement written with correct syntax? If not, why?</span> \n",
    "```\n",
    "x = 5\n",
    "if x > 0\n",
    "    print('x is positive')\n",
    "```"
   ]
  },
  {
   "cell_type": "markdown",
   "metadata": {},
   "source": [
    "Incorrect syntax. Missing a colon at the end of the if statement."
   ]
  },
  {
   "cell_type": "markdown",
   "metadata": {},
   "source": [
    "### Exercise 3\n",
    "<span style=\"color:green\">Create an `if` statement with a condition that evaluates as `True`. Use the `print` function as the only line its code block to print a message to the screen.</span> "
   ]
  },
  {
   "cell_type": "code",
   "execution_count": 93,
   "metadata": {},
   "outputs": [
    {
     "name": "stdout",
     "output_type": "stream",
     "text": [
      "x is positive\n"
     ]
    }
   ],
   "source": [
    "x = 5\n",
    "if x > 0:\n",
    "    print('x is positive')"
   ]
  },
  {
   "cell_type": "markdown",
   "metadata": {},
   "source": [
    "### Exercise 4\n",
    "<span style=\"color:green\">Change the value of `test_string` so that the first `print` function gets triggered.</span> "
   ]
  },
  {
   "cell_type": "code",
   "execution_count": 94,
   "metadata": {},
   "outputs": [
    {
     "name": "stdout",
     "output_type": "stream",
     "text": [
      "There are more than 4 a's in your string\n"
     ]
    }
   ],
   "source": [
    "test_string = 'alfalfa tastes alright'\n",
    "if test_string.count('a') > 4:\n",
    "    print(\"There are more than 4 a's in your string\")\n",
    "elif test_string.find('k') > 10:\n",
    "    print(\"The first k occurs after the 11th element\")\n",
    "else:\n",
    "    print(\"No info on your string. Please change it\")"
   ]
  },
  {
   "cell_type": "markdown",
   "metadata": {},
   "source": [
    "### Exercise 5\n",
    "<span style=\"color:green\">Change the value of `test_string` so that the second `print` function gets triggered.</span> "
   ]
  },
  {
   "cell_type": "code",
   "execution_count": 95,
   "metadata": {},
   "outputs": [
    {
     "name": "stdout",
     "output_type": "stream",
     "text": [
      "The first k occurs after the 11th element\n"
     ]
    }
   ],
   "source": [
    "test_string = 'alfalfa tastes ok'\n",
    "if test_string.count('a') > 4:\n",
    "    print(\"There are more than 4 a's in your string\")\n",
    "elif test_string.find('k') > 10:\n",
    "    print(\"The first k occurs after the 11th element\")\n",
    "else:\n",
    "    print(\"No info on your string. Please change it\")"
   ]
  },
  {
   "cell_type": "markdown",
   "metadata": {},
   "source": [
    "### Exercise 6\n",
    "<span style=\"color:green\">Assign an integer to `x`. Then, write an expression that returns `True` if `x` is either greater than 10 or divisible by 7.</span> "
   ]
  },
  {
   "cell_type": "code",
   "execution_count": 96,
   "metadata": {},
   "outputs": [
    {
     "data": {
      "text/plain": [
       "True"
      ]
     },
     "execution_count": 96,
     "metadata": {},
     "output_type": "execute_result"
    }
   ],
   "source": [
    "x = 40\n",
    "(x > 10) or (x % 7 == 0)"
   ]
  },
  {
   "cell_type": "markdown",
   "metadata": {},
   "source": [
    "### Exercise 7\n",
    "<span style=\"color:green\">Write an expression that returns `True` if the last character of a string is not 'a'.</span> "
   ]
  },
  {
   "cell_type": "code",
   "execution_count": 97,
   "metadata": {},
   "outputs": [
    {
     "data": {
      "text/plain": [
       "False"
      ]
     },
     "execution_count": 97,
     "metadata": {},
     "output_type": "execute_result"
    }
   ],
   "source": [
    "s = 'pythonista'\n",
    "s[-1] != 'a'"
   ]
  },
  {
   "cell_type": "markdown",
   "metadata": {},
   "source": [
    "Can also use the `endswith` method"
   ]
  },
  {
   "cell_type": "code",
   "execution_count": 98,
   "metadata": {},
   "outputs": [
    {
     "data": {
      "text/plain": [
       "False"
      ]
     },
     "execution_count": 98,
     "metadata": {},
     "output_type": "execute_result"
    }
   ],
   "source": [
    "not s.endswith('a')"
   ]
  },
  {
   "cell_type": "markdown",
   "metadata": {},
   "source": [
    "### Exercise 8\n",
    "<span style=\"color:green\">Write a simple program that determines whether someone has enough money to pay for rent. If they have enough money, print out how much is left in the account. If they don't have enough, print out how much they owe. If they have the exact rent, print out a different message. Test your code with different values of rent.</span> "
   ]
  },
  {
   "cell_type": "code",
   "execution_count": 99,
   "metadata": {},
   "outputs": [
    {
     "name": "stdout",
     "output_type": "stream",
     "text": [
      "You can pay rent. You have 190.34 left\n"
     ]
    }
   ],
   "source": [
    "rent = 454.88\n",
    "account = 645.22\n",
    "\n",
    "if account > rent:\n",
    "    print(f'You can pay rent. You have {account - rent:.2f} left')\n",
    "elif account < rent:\n",
    "    print(f'You cannot pay rent. You owe {rent - account:.2f} left')\n",
    "else:\n",
    "    print('You have exactly enough to pay rent. You have 0!')"
   ]
  },
  {
   "cell_type": "markdown",
   "metadata": {},
   "source": [
    "### Exercise 9\n",
    "<span style=\"color:green\">Use a for-loop to sum up all the numbers from 1 to 1,000.</span>"
   ]
  },
  {
   "cell_type": "code",
   "execution_count": 100,
   "metadata": {},
   "outputs": [
    {
     "data": {
      "text/plain": [
       "500500"
      ]
     },
     "execution_count": 100,
     "metadata": {},
     "output_type": "execute_result"
    }
   ],
   "source": [
    "total = 0\n",
    "for i in range(1001):\n",
    "    total += i\n",
    "total"
   ]
  },
  {
   "cell_type": "markdown",
   "metadata": {},
   "source": [
    "### Exercise 10\n",
    "<span style=\"color:green\">Use a for-loop to calculate the mean (average) from the given list of values.</span>"
   ]
  },
  {
   "cell_type": "code",
   "execution_count": 101,
   "metadata": {},
   "outputs": [
    {
     "data": {
      "text/plain": [
       "171.5"
      ]
     },
     "execution_count": 101,
     "metadata": {},
     "output_type": "execute_result"
    }
   ],
   "source": [
    "values = [99, 143, 32, 412]\n",
    "total = 0\n",
    "for v in values:\n",
    "    total += v\n",
    "total / len(values)"
   ]
  },
  {
   "cell_type": "markdown",
   "metadata": {},
   "source": [
    "### Exercise 11\n",
    "<span style=\"color:green\">Calculate the sum of the squared values of each of the first 100 positive integers.</span>"
   ]
  },
  {
   "cell_type": "code",
   "execution_count": 102,
   "metadata": {},
   "outputs": [
    {
     "data": {
      "text/plain": [
       "338350"
      ]
     },
     "execution_count": 102,
     "metadata": {},
     "output_type": "execute_result"
    }
   ],
   "source": [
    "total = 0\n",
    "for i in range(101):\n",
    "    total += i ** 2\n",
    "total"
   ]
  },
  {
   "cell_type": "markdown",
   "metadata": {},
   "source": [
    "### Exercise 12\n",
    "<span style=\"color:green\">Use a for-loop to iterate over the first 10 positive integers, printing out their squared value only if the value is greater than 50.</span>"
   ]
  },
  {
   "cell_type": "code",
   "execution_count": 103,
   "metadata": {},
   "outputs": [
    {
     "name": "stdout",
     "output_type": "stream",
     "text": [
      "64\n",
      "81\n",
      "100\n"
     ]
    }
   ],
   "source": [
    "for i in range(1, 11):\n",
    "    squared_value = i ** 2\n",
    "    if squared_value > 50:\n",
    "        print(squared_value)"
   ]
  },
  {
   "cell_type": "markdown",
   "metadata": {},
   "source": [
    "### Exercise 13\n",
    "<span style=\"color:green\">Use a for-loop to iterate over every 25th positive integer up to 200, appending its squared value to a list.</span>"
   ]
  },
  {
   "cell_type": "code",
   "execution_count": 104,
   "metadata": {},
   "outputs": [
    {
     "data": {
      "text/plain": [
       "[1, 676, 2601, 5776, 10201, 15876, 22801, 30976]"
      ]
     },
     "execution_count": 104,
     "metadata": {},
     "output_type": "execute_result"
    }
   ],
   "source": [
    "squared_list = []\n",
    "for i in range(1, 201, 25):\n",
    "    squared_list.append(i ** 2)\n",
    "squared_list"
   ]
  },
  {
   "cell_type": "markdown",
   "metadata": {},
   "source": [
    "### Exercise 14\n",
    "<span style=\"color:green\">Calculate the variance of the following list of values. To calculate the variance, first calculate the mean and assign it to a variable. Then, iterate through each value and find the difference between it and the mean. Square this difference. Finally, sum the squares of all these differences and divide by the total number of values.</span>"
   ]
  },
  {
   "cell_type": "code",
   "execution_count": 105,
   "metadata": {},
   "outputs": [
    {
     "data": {
      "text/plain": [
       "114059.99926666667"
      ]
     },
     "execution_count": 105,
     "metadata": {},
     "output_type": "execute_result"
    }
   ],
   "source": [
    "values = [913.41, -44, 77.77, 0, 23, 5]\n",
    "total = 0\n",
    "for v in values:\n",
    "    total += v\n",
    "mean = total / len(values)\n",
    "\n",
    "sq_total = 0\n",
    "for v in values:\n",
    "    sq_total += (v - mean) ** 2\n",
    "variance = sq_total / len(values)\n",
    "variance"
   ]
  },
  {
   "cell_type": "markdown",
   "metadata": {},
   "source": [
    "### Exercise 15\n",
    "<span style=\"color:green\">Use a for-loop to iterate over every integer from 100 to 999. Assign the first and last digits to variables (Hint: use integer division and the modulus operator). Create a list of only the numbers where the first digit is exactly 7 more than the last digit. Output the first and last 5 numbers of this list to verify that it is correct. </span>"
   ]
  },
  {
   "cell_type": "code",
   "execution_count": 106,
   "metadata": {},
   "outputs": [
    {
     "data": {
      "text/plain": [
       "[700, 710, 720, 730, 740]"
      ]
     },
     "execution_count": 106,
     "metadata": {},
     "output_type": "execute_result"
    }
   ],
   "source": [
    "a = []\n",
    "for i in range(100, 1000):\n",
    "    first = i // 100\n",
    "    last = i % 10\n",
    "    if first == last + 7:\n",
    "        a.append(i)\n",
    "a[:5]"
   ]
  },
  {
   "cell_type": "code",
   "execution_count": 107,
   "metadata": {},
   "outputs": [
    {
     "data": {
      "text/plain": [
       "[952, 962, 972, 982, 992]"
      ]
     },
     "execution_count": 107,
     "metadata": {},
     "output_type": "execute_result"
    }
   ],
   "source": [
    "a[-5:]"
   ]
  },
  {
   "cell_type": "markdown",
   "metadata": {},
   "source": [
    "### Exercise 16\n",
    "<span style=\"color:green\">Use a while loop to find the sum of all integers between 0 and a given integer `x`. Output result.</span>"
   ]
  },
  {
   "cell_type": "code",
   "execution_count": 108,
   "metadata": {},
   "outputs": [
    {
     "data": {
      "text/plain": [
       "210"
      ]
     },
     "execution_count": 108,
     "metadata": {},
     "output_type": "execute_result"
    }
   ],
   "source": [
    "x = 20\n",
    "total = 0\n",
    "while x > 0:\n",
    "    total += x\n",
    "    x -= 1\n",
    "total"
   ]
  },
  {
   "cell_type": "markdown",
   "metadata": {},
   "source": [
    "### Exercise 17\n",
    "\n",
    "<span style=\"color:green\">Assign 'x' a positive integer. Use a while loop to find the sum of all integers between half of `x` and `x`.</span>"
   ]
  },
  {
   "cell_type": "code",
   "execution_count": 109,
   "metadata": {},
   "outputs": [
    {
     "data": {
      "text/plain": [
       "45"
      ]
     },
     "execution_count": 109,
     "metadata": {},
     "output_type": "execute_result"
    }
   ],
   "source": [
    "x = 10\n",
    "half = x / 2\n",
    "total = 0\n",
    "while x >= half:\n",
    "    total += x\n",
    "    x -= 1\n",
    "total"
   ]
  },
  {
   "cell_type": "markdown",
   "metadata": {},
   "source": [
    "### Exercise 18\n",
    "\n",
    "<span style=\"color:green\">Use nested for-loops in this exercise. Write an outer for-loop to iterate over the integers 0 through 9. Within this for-loop, write an inner for-loop to iterate over the integers 0 through 4. Create two separate variables to count the total number of iterations for each loop and output their values. Is it what you expect?</span>"
   ]
  },
  {
   "cell_type": "code",
   "execution_count": 110,
   "metadata": {},
   "outputs": [
    {
     "data": {
      "text/plain": [
       "(10, 50)"
      ]
     },
     "execution_count": 110,
     "metadata": {},
     "output_type": "execute_result"
    }
   ],
   "source": [
    "count_outer = 0\n",
    "count_inner = 0\n",
    "for i in range(10):\n",
    "    count_outer += 1\n",
    "    for j in range(5):\n",
    "        count_inner += 1\n",
    "count_outer, count_inner"
   ]
  },
  {
   "cell_type": "markdown",
   "metadata": {},
   "source": [
    "### Exercise 19\n",
    "\n",
    "<span style=\"color:green\">A well-known property of right triangles is that the hypotenuse squared equals the sum of the squares of the other two sides. This is known as the Pythagorean theorem and is usually written as $a^2 + b^2 = c^2$. A Pythagorean triple is a set of three integers that satisfy the theorem. For instance, 3, 4, and 5 are a Pythagorean triple as 9 + 16 = 25. Can you find all the Pythagorean triples where all sides are less than 20."
   ]
  },
  {
   "cell_type": "code",
   "execution_count": 111,
   "metadata": {},
   "outputs": [
    {
     "name": "stdout",
     "output_type": "stream",
     "text": [
      "3 4 5\n",
      "4 3 5\n",
      "5 12 13\n",
      "6 8 10\n",
      "8 6 10\n",
      "8 15 17\n",
      "9 12 15\n",
      "12 5 13\n",
      "12 9 15\n",
      "15 8 17\n"
     ]
    }
   ],
   "source": [
    "for a in range(1, 20):\n",
    "    for b in range(1, 20):\n",
    "        for c in range(1, 20):\n",
    "            if a ** 2 + b ** 2 == c ** 2:\n",
    "                print(a, b, c)"
   ]
  },
  {
   "cell_type": "markdown",
   "metadata": {},
   "source": [
    "### Exercise 20\n",
    "<span style=\"color:green\">When rolling two dice, there are six combinations that make a total of 7 and two combinations that make a total of 11. Theoretically, 7 should be rolled three times as often as 11 (6 vs 2 combinations). Simulate the rolling of 1,000 dice to verify that this ratio is likely correct.</span>"
   ]
  },
  {
   "cell_type": "code",
   "execution_count": 112,
   "metadata": {},
   "outputs": [
    {
     "name": "stdout",
     "output_type": "stream",
     "text": [
      "7's rolled: 171, 11's rolled: 73, ratio 2.34\n"
     ]
    }
   ],
   "source": [
    "import random\n",
    "count_7 = 0\n",
    "count_11 = 0\n",
    "for i in range(1000):\n",
    "    total = random.randint(1, 6) + random.randint(1, 6)\n",
    "    if total == 7:\n",
    "        count_7 += 1\n",
    "    if total == 11:\n",
    "        count_11 += 1\n",
    "ratio = count_7 / count_11\n",
    "print(f\"7's rolled: {count_7}, 11's rolled: {count_11}, ratio {ratio:.2f}\")"
   ]
  },
  {
   "cell_type": "markdown",
   "metadata": {},
   "source": [
    "### Exercise 21\n",
    "<span style=\"color:green\">Create a simulation to estimate the average number of rolls of two dice it takes until you get a total of 7 or 11. This will require nested loops.</span>"
   ]
  },
  {
   "cell_type": "code",
   "execution_count": 113,
   "metadata": {},
   "outputs": [
    {
     "name": "stdout",
     "output_type": "stream",
     "text": [
      "Estimated Average 4.346\n"
     ]
    }
   ],
   "source": [
    "rolls = 0\n",
    "n = 1000\n",
    "for i in range(n):\n",
    "    count = 0\n",
    "    while True:\n",
    "        count += 1\n",
    "        total = random.randint(1, 6) + random.randint(1, 6)\n",
    "        if total in [7, 11]:\n",
    "            rolls += count\n",
    "            break\n",
    "        \n",
    "print(f\"Estimated Average {rolls / n}\")"
   ]
  },
  {
   "cell_type": "markdown",
   "metadata": {},
   "source": [
    "### Exercise 22\n",
    "<span style=\"color:green\">It's possible to simulate someone playing craps until a certain criteria is met. Continually play the game of craps until the balance has doubled or until the player is out of money. Use the code from this chapter, but modify it so that the print statements are removed and that the balance is updated each game. Keep track of the number of games played and print this number out with the ending balance.</span>"
   ]
  },
  {
   "cell_type": "code",
   "execution_count": 114,
   "metadata": {},
   "outputs": [
    {
     "name": "stdout",
     "output_type": "stream",
     "text": [
      "After 986 games the balance is 0\n"
     ]
    }
   ],
   "source": [
    "import random\n",
    "balance = 500\n",
    "wager = 10\n",
    "games = 0\n",
    "\n",
    "while 0 < balance < 1000:\n",
    "    games += 1\n",
    "    die_1 = random.randint(1, 6)\n",
    "    die_2 = random.randint(1, 6)\n",
    "    total = die_1 + die_2\n",
    "\n",
    "    if total in [2, 3, 12]:\n",
    "        balance -= wager\n",
    "    elif total in [7, 11]:\n",
    "        balance += wager\n",
    "    else:\n",
    "        while True:\n",
    "            die_1 = random.randint(1, 6)\n",
    "            die_2 = random.randint(1, 6)\n",
    "            new_total = die_1 + die_2\n",
    "            if new_total == total:\n",
    "                balance += wager\n",
    "                break\n",
    "            if new_total == 7:\n",
    "                balance -= wager\n",
    "                break\n",
    "            \n",
    "print(f'After {games} games the balance is {balance}')"
   ]
  },
  {
   "cell_type": "markdown",
   "metadata": {},
   "source": [
    "### Exercise 23\n",
    "<span style=\"color:green\">Simulate the scenario in Exercise 22 1,000 times and determine what percentage of the time you would end up doubling your money. Use a print function to write out the results. Is craps a good investment? (this takes a while to simulate)</span>"
   ]
  },
  {
   "cell_type": "code",
   "execution_count": 115,
   "metadata": {},
   "outputs": [
    {
     "name": "stdout",
     "output_type": "stream",
     "text": [
      "Money was doubled 16.4% percent of the time\n"
     ]
    }
   ],
   "source": [
    "n = 1000\n",
    "doubled = 0\n",
    "for i in range(n):\n",
    "    balance = 500\n",
    "    wager = 10\n",
    "    games = 0\n",
    "\n",
    "    while 0 < balance < 1000:\n",
    "        games += 1\n",
    "        die_1 = random.randint(1, 6)\n",
    "        die_2 = random.randint(1, 6)\n",
    "        total = die_1 + die_2\n",
    "\n",
    "        if total in [2, 3, 12]:\n",
    "            balance -= wager\n",
    "        elif total in [7, 11]:\n",
    "            balance += wager\n",
    "        else:\n",
    "            while True:\n",
    "                die_1 = random.randint(1, 6)\n",
    "                die_2 = random.randint(1, 6)\n",
    "                new_total = die_1 + die_2\n",
    "                if new_total == total:\n",
    "                    balance += wager\n",
    "                    break\n",
    "                if new_total == 7:\n",
    "                    balance -= wager\n",
    "                    break\n",
    "                    \n",
    "    if balance == 1000:\n",
    "        doubled += 1\n",
    "\n",
    "print(f'Money was doubled {doubled / n:.1%} percent of the time')"
   ]
  },
  {
   "cell_type": "markdown",
   "metadata": {},
   "source": [
    "### Exercise 24\n",
    "<span style=\"color:green\">Use a list comprehension to create a list that divides each of the integers 0 through 9 by 4.</span>"
   ]
  },
  {
   "cell_type": "code",
   "execution_count": 116,
   "metadata": {},
   "outputs": [
    {
     "data": {
      "text/plain": [
       "[0.0, 0.25, 0.5, 0.75, 1.0, 1.25, 1.5, 1.75, 2.0, 2.25]"
      ]
     },
     "execution_count": 116,
     "metadata": {},
     "output_type": "execute_result"
    }
   ],
   "source": [
    "[x / 4 for x in range(10)]"
   ]
  },
  {
   "cell_type": "markdown",
   "metadata": {},
   "source": [
    "### Exercise 25\n",
    "<span style=\"color:green\">Find the difference between twice a number and the square of each number for all the integers 0 through 9. Use a list comprehension.</span>"
   ]
  },
  {
   "cell_type": "code",
   "execution_count": 117,
   "metadata": {},
   "outputs": [
    {
     "data": {
      "text/plain": [
       "[0, 1, 0, -3, -8, -15, -24, -35, -48, -63]"
      ]
     },
     "execution_count": 117,
     "metadata": {},
     "output_type": "execute_result"
    }
   ],
   "source": [
    "[2 * x - x ** 2 for x in range(10)]"
   ]
  },
  {
   "cell_type": "markdown",
   "metadata": {},
   "source": [
    "### Exercise 26\n",
    "<span style=\"color:green\">Use a list comprehension to concatenate the first and last character of each of the strings in the following list.</span>"
   ]
  },
  {
   "cell_type": "code",
   "execution_count": 118,
   "metadata": {},
   "outputs": [
    {
     "data": {
      "text/plain": [
       "['lt', 'cs', 'rk']"
      ]
     },
     "execution_count": 118,
     "metadata": {},
     "output_type": "execute_result"
    }
   ],
   "source": [
    "words = ['list', 'comprehensions', 'rock']\n",
    "[word[0] + word[-1] for word in words]"
   ]
  },
  {
   "cell_type": "markdown",
   "metadata": {},
   "source": [
    "### Exercise 27\n",
    "<span style=\"color:green\">Use a conditional list comprehension to return all of the strings from a list of strings that have the letter 'e' in them.</span>"
   ]
  },
  {
   "cell_type": "code",
   "execution_count": 119,
   "metadata": {},
   "outputs": [
    {
     "data": {
      "text/plain": [
       "['comprehensions', 'are']"
      ]
     },
     "execution_count": 119,
     "metadata": {},
     "output_type": "execute_result"
    }
   ],
   "source": [
    "words = ['List', 'comprehensions', 'are', 'fantastic']\n",
    "[word for word in words if 'e' in word]"
   ]
  },
  {
   "cell_type": "markdown",
   "metadata": {},
   "source": [
    "### Exercise 28\n",
    "<span style=\"color:green\">Use a conditional list comprehension to return a list of just the vowels of the following string.</span>"
   ]
  },
  {
   "cell_type": "code",
   "execution_count": 120,
   "metadata": {},
   "outputs": [
    {
     "data": {
      "text/plain": [
       "['a', 'a', 'a', 'a', 'e', 'a', 'i', 'e', 'o', 'a', 'i', 'a']"
      ]
     },
     "execution_count": 120,
     "metadata": {},
     "output_type": "execute_result"
    }
   ],
   "source": [
    "letters = 'Aardvarks are native to Africa'\n",
    "[letter for letter in letters.lower() if letter in 'aeiou']"
   ]
  },
  {
   "cell_type": "markdown",
   "metadata": {},
   "source": [
    "### Exercise 29\n",
    "\n",
    "<span style=\"color:green\">Write a list comprehension that loops through all numbers between 0 and 49, filters them for those that end in 3 or 7 and then squares the number.</span>"
   ]
  },
  {
   "cell_type": "code",
   "execution_count": 121,
   "metadata": {},
   "outputs": [
    {
     "data": {
      "text/plain": [
       "[9, 49, 169, 289, 529, 729, 1089, 1369, 1849, 2209]"
      ]
     },
     "execution_count": 121,
     "metadata": {},
     "output_type": "execute_result"
    }
   ],
   "source": [
    "[i ** 2 for i in range(50) if i % 10 in [3, 7]]"
   ]
  },
  {
   "cell_type": "markdown",
   "metadata": {},
   "source": [
    "### Exercise 30\n",
    "\n",
    "<span style=\"color:green\">Rewrite the following code using the ternary conditional operator.</span>\n",
    "\n",
    "```\n",
    "x = 100\n",
    "if x > 99:\n",
    "     label = 'perfect'\n",
    "else:\n",
    "     label = 'still need work to do\n",
    "```"
   ]
  },
  {
   "cell_type": "code",
   "execution_count": 122,
   "metadata": {},
   "outputs": [
    {
     "data": {
      "text/plain": [
       "'perfect'"
      ]
     },
     "execution_count": 122,
     "metadata": {},
     "output_type": "execute_result"
    }
   ],
   "source": [
    "x = 100\n",
    "label = 'perfect' if x > 99 else 'still need work to do'\n",
    "label"
   ]
  },
  {
   "cell_type": "markdown",
   "metadata": {},
   "source": [
    "### Exercise 31\n",
    "\n",
    "<span style=\"color:green\">Use the ternary conditional operator to square a number if it's even and raise it to the third power if it's odd.</span>"
   ]
  },
  {
   "cell_type": "code",
   "execution_count": 123,
   "metadata": {},
   "outputs": [
    {
     "data": {
      "text/plain": [
       "6859"
      ]
     },
     "execution_count": 123,
     "metadata": {},
     "output_type": "execute_result"
    }
   ],
   "source": [
    "x = 19\n",
    "result = x ** 2 if x % 2 == 0 else x ** 3\n",
    "result"
   ]
  },
  {
   "cell_type": "markdown",
   "metadata": {},
   "source": [
    "You can eliminate the equality test using the truth value of the remainder but you'll need to switch the expressions."
   ]
  },
  {
   "cell_type": "code",
   "execution_count": 124,
   "metadata": {},
   "outputs": [
    {
     "data": {
      "text/plain": [
       "6859"
      ]
     },
     "execution_count": 124,
     "metadata": {},
     "output_type": "execute_result"
    }
   ],
   "source": [
    "result = x ** 3 if x % 2 else x ** 2\n",
    "result"
   ]
  },
  {
   "cell_type": "markdown",
   "metadata": {},
   "source": [
    "### Exercise 32\n",
    "\n",
    "<span style=\"color:green\">The ranges below contain the lengths and widths in feet of rectangular rooms that will be tiled. The price per square foot for different tiles is given in the `price` list. Use a list comprehension to return the total price for each room, but only if the room is greater than 800 square feet.</span>"
   ]
  },
  {
   "cell_type": "code",
   "execution_count": 125,
   "metadata": {},
   "outputs": [
    {
     "data": {
      "text/plain": [
       "[850, 1700, 3400, 900, 1800, 3600, 950, 1900, 3800]"
      ]
     },
     "execution_count": 125,
     "metadata": {},
     "output_type": "execute_result"
    }
   ],
   "source": [
    "length = range(10, 30, 5)\n",
    "width = range(2,40,2)\n",
    "price = [1, 2, 4]\n",
    "\n",
    "total_price = [l * w * p for l in length for w in width for p in price if l * w > 800]\n",
    "total_price"
   ]
  },
  {
   "cell_type": "markdown",
   "metadata": {},
   "source": [
    "### Exercise 33\n",
    "\n",
    "<span style=\"color:green\">Rewrite the list comprehension in exercise 32 using nested for-loops and normal if/then statements.</span>"
   ]
  },
  {
   "cell_type": "code",
   "execution_count": 126,
   "metadata": {},
   "outputs": [
    {
     "data": {
      "text/plain": [
       "[850, 1700, 3400, 900, 1800, 3600, 950, 1900, 3800]"
      ]
     },
     "execution_count": 126,
     "metadata": {},
     "output_type": "execute_result"
    }
   ],
   "source": [
    "total_price = []\n",
    "for l in length:\n",
    "    for w in width:\n",
    "        for p in price:\n",
    "            if l * w > 800:\n",
    "                total_price.append(l * w * p)\n",
    "total_price"
   ]
  },
  {
   "cell_type": "markdown",
   "metadata": {},
   "source": [
    "### Exercise 34\n",
    "\n",
    "<span style=\"color:green\">Use a while loop with just the given list as the condition. In the loop's code block. Remove the last item of the list and print it to the screen. There is a list method that does this removal for you. The while loop should end when the truth value of the list evaluates as `False`.</span>"
   ]
  },
  {
   "cell_type": "code",
   "execution_count": 127,
   "metadata": {},
   "outputs": [
    {
     "name": "stdout",
     "output_type": "stream",
     "text": [
      "5\n",
      "4\n",
      "3\n",
      "2\n",
      "1\n",
      "Launch!!!\n"
     ]
    }
   ],
   "source": [
    "words = ['Launch!!!', 1, 2, 3, 4, 5]\n",
    "while words:\n",
    "    print(words.pop())"
   ]
  },
  {
   "cell_type": "markdown",
   "metadata": {},
   "source": [
    "## 8. Functions"
   ]
  },
  {
   "cell_type": "markdown",
   "metadata": {},
   "source": [
    "### Exercise 1\n",
    "\n",
    "<span style=\"color:green\">Create three different variables with three different data types then use the `type` function to verify that the types are indeed different</span>"
   ]
  },
  {
   "cell_type": "code",
   "execution_count": 128,
   "metadata": {},
   "outputs": [
    {
     "data": {
      "text/plain": [
       "(bool, int, float)"
      ]
     },
     "execution_count": 128,
     "metadata": {},
     "output_type": "execute_result"
    }
   ],
   "source": [
    "a = True\n",
    "b = 5\n",
    "c = 7.4\n",
    "type(a), type(b), type(c)"
   ]
  },
  {
   "cell_type": "markdown",
   "metadata": {},
   "source": [
    "### Exercise 2\n",
    "\n",
    "<span style=\"color:green\">The `eval` builtin function, takes a string as an argument and executes that string if it were Python code. Create a variable that stores a string that looks like Python code. Then use the `eval` function to execute this code string.</span>"
   ]
  },
  {
   "cell_type": "code",
   "execution_count": 129,
   "metadata": {},
   "outputs": [
    {
     "data": {
      "text/plain": [
       "10"
      ]
     },
     "execution_count": 129,
     "metadata": {},
     "output_type": "execute_result"
    }
   ],
   "source": [
    "code_string = '5 + 5'\n",
    "eval(code_string)"
   ]
  },
  {
   "cell_type": "markdown",
   "metadata": {},
   "source": [
    "### Exercise 3\n",
    "\n",
    "<span style=\"color:green\">Use the help or [read the official documentation](https://docs.python.org/3/library/functions.html) about how to use the `all` and `any` functions and use them correctly below.</span>"
   ]
  },
  {
   "cell_type": "code",
   "execution_count": 130,
   "metadata": {},
   "outputs": [
    {
     "data": {
      "text/plain": [
       "False"
      ]
     },
     "execution_count": 130,
     "metadata": {},
     "output_type": "execute_result"
    }
   ],
   "source": [
    "bool_list = [True, False, 5 > 0]\n",
    "all(bool_list)"
   ]
  },
  {
   "cell_type": "code",
   "execution_count": 131,
   "metadata": {},
   "outputs": [
    {
     "data": {
      "text/plain": [
       "True"
      ]
     },
     "execution_count": 131,
     "metadata": {},
     "output_type": "execute_result"
    }
   ],
   "source": [
    "any(bool_list)"
   ]
  },
  {
   "cell_type": "markdown",
   "metadata": {},
   "source": [
    "### Exercise 4\n",
    "\n",
    "<span style=\"color:green\">Define a function that finds the area of a circle. The function takes a single parameter, the radius, and defaults its value to 0 if it's not given. Add docstrings to the function.</span>"
   ]
  },
  {
   "cell_type": "code",
   "execution_count": 132,
   "metadata": {},
   "outputs": [
    {
     "data": {
      "text/plain": [
       "28.274333882308138"
      ]
     },
     "execution_count": 132,
     "metadata": {},
     "output_type": "execute_result"
    }
   ],
   "source": [
    "import math\n",
    "def area_circle(radius=0):\n",
    "    '''\n",
    "    Computes the area of a circle\n",
    "    \n",
    "    Parameters\n",
    "    ----------\n",
    "    radius : int or float\n",
    "        The radius of the circle\n",
    "        \n",
    "    Returns\n",
    "    -------\n",
    "    The area of the circle\n",
    "    '''\n",
    "    return math.pi * radius ** 2\n",
    "\n",
    "area_circle(3)"
   ]
  },
  {
   "cell_type": "markdown",
   "metadata": {},
   "source": [
    "### Exercise 5\n",
    "\n",
    "<span style=\"color:green\">Create a function that takes a string argument and returns True or False whether the string is a palindrome (spelled the same forward and backwards)</span>"
   ]
  },
  {
   "cell_type": "code",
   "execution_count": 133,
   "metadata": {},
   "outputs": [
    {
     "data": {
      "text/plain": [
       "True"
      ]
     },
     "execution_count": 133,
     "metadata": {},
     "output_type": "execute_result"
    }
   ],
   "source": [
    "def is_palindrome(word):\n",
    "    return word == word[::-1]\n",
    "is_palindrome('racecar')"
   ]
  },
  {
   "cell_type": "markdown",
   "metadata": {},
   "source": [
    "### Exercise 6\n",
    "\n",
    "<span style=\"color:green\">Create a function `concat_sort_list` that takes two lists and concatenates them together, sorts the list and then returns the sorted list.</span>"
   ]
  },
  {
   "cell_type": "code",
   "execution_count": 134,
   "metadata": {},
   "outputs": [],
   "source": [
    "def concat_sort_list(list_1, list_2):\n",
    "    final_list = list_1 + list_2\n",
    "    final_list.sort()\n",
    "    return final_list"
   ]
  },
  {
   "cell_type": "code",
   "execution_count": 135,
   "metadata": {},
   "outputs": [
    {
     "data": {
      "text/plain": [
       "True"
      ]
     },
     "execution_count": 135,
     "metadata": {},
     "output_type": "execute_result"
    }
   ],
   "source": [
    "# test code with\n",
    "concat_sort_list([4, 5, 2], [9, 0, -8]) == [-8, 0, 2, 4, 5, 9]"
   ]
  },
  {
   "cell_type": "code",
   "execution_count": 136,
   "metadata": {},
   "outputs": [
    {
     "data": {
      "text/plain": [
       "[1, 2, 3, 4, 5, 6]"
      ]
     },
     "execution_count": 136,
     "metadata": {},
     "output_type": "execute_result"
    }
   ],
   "source": [
    "# theres actually a built in function to do this as well\n",
    "def concat_sort_list2(list_1, list_2):\n",
    "    return sorted(list_1 + list_2)\n",
    "\n",
    "concat_sort_list2([1, 5, 6], [2,3,4])"
   ]
  },
  {
   "cell_type": "markdown",
   "metadata": {},
   "source": [
    "### Exercise 7\n",
    "\n",
    "<span style=\"color:green\">Create an anonymous function that calculates the area of a circle. Store it to a variable and check that it works.</span>"
   ]
  },
  {
   "cell_type": "code",
   "execution_count": 137,
   "metadata": {},
   "outputs": [
    {
     "data": {
      "text/plain": [
       "78.53981633974483"
      ]
     },
     "execution_count": 137,
     "metadata": {},
     "output_type": "execute_result"
    }
   ],
   "source": [
    "import math\n",
    "area_circle = lambda radius: math.pi * radius ** 2\n",
    "area_circle(5)"
   ]
  },
  {
   "cell_type": "markdown",
   "metadata": {},
   "source": [
    "### Exercise 8\n",
    "\n",
    "<span style=\"color:green\">Use the sorted function to sort a list of strings using the last letter. Use an anonymous function passed to the key argument.</span>"
   ]
  },
  {
   "cell_type": "code",
   "execution_count": 138,
   "metadata": {},
   "outputs": [
    {
     "data": {
      "text/plain": [
       "['banana', 'orange', 'apple', 'strawberry']"
      ]
     },
     "execution_count": 138,
     "metadata": {},
     "output_type": "execute_result"
    }
   ],
   "source": [
    "string_list = ['banana', 'strawberry', 'orange', 'apple']\n",
    "sorted(string_list, key = lambda word: word[-1])"
   ]
  },
  {
   "cell_type": "markdown",
   "metadata": {},
   "source": [
    "### Exercise 9\n",
    "\n",
    "<span style=\"color:green\">Create a list of integers and sort them by their last digit. Use an anonymous function passed to the key argument.</span>"
   ]
  },
  {
   "cell_type": "code",
   "execution_count": 139,
   "metadata": {},
   "outputs": [
    {
     "data": {
      "text/plain": [
       "[50, 123131, 434, 109]"
      ]
     },
     "execution_count": 139,
     "metadata": {},
     "output_type": "execute_result"
    }
   ],
   "source": [
    "int_list = [109, 50, 434, 123131]\n",
    "sorted(int_list, key = lambda x: x % 10)"
   ]
  },
  {
   "cell_type": "markdown",
   "metadata": {},
   "source": [
    "### Advanced Exercise 10\n",
    "\n",
    "<span style=\"color:green\">Use the sorted function (with the **`key`** parameter) to sort a list of strings by the third highest alphabetical letter. Use a lambda expression to find this third highest letter. Take the word **python** for example. If you sort it by letter it becomes **hnopty**. The third highest letter is therefore 'o'.</span>"
   ]
  },
  {
   "cell_type": "code",
   "execution_count": 140,
   "metadata": {},
   "outputs": [
    {
     "data": {
      "text/plain": [
       "['different', 'string', 'many', 'some', 'words', 'list', 'with']"
      ]
     },
     "execution_count": 140,
     "metadata": {},
     "output_type": "execute_result"
    }
   ],
   "source": [
    "# make a string list with each string having three or more characters\n",
    "string_list = 'some string list with many different words'.split()\n",
    "sorted(string_list, key=lambda x: sorted(x)[2])"
   ]
  },
  {
   "cell_type": "markdown",
   "metadata": {},
   "source": [
    "### Exercise 11\n",
    "\n",
    "<span style=\"color:green\">Use the map function to square each number in a list. Do the same with a list comprehension</span>"
   ]
  },
  {
   "cell_type": "code",
   "execution_count": 141,
   "metadata": {},
   "outputs": [
    {
     "data": {
      "text/plain": [
       "[81, 25, 1, 9801]"
      ]
     },
     "execution_count": 141,
     "metadata": {},
     "output_type": "execute_result"
    }
   ],
   "source": [
    "my_list = [9, 5, 1, 99]\n",
    "list(map(lambda x: x ** 2, my_list))"
   ]
  },
  {
   "cell_type": "code",
   "execution_count": 142,
   "metadata": {},
   "outputs": [
    {
     "data": {
      "text/plain": [
       "[81, 25, 1, 9801]"
      ]
     },
     "execution_count": 142,
     "metadata": {},
     "output_type": "execute_result"
    }
   ],
   "source": [
    "[x ** 2 for x in my_list]"
   ]
  },
  {
   "cell_type": "markdown",
   "metadata": {},
   "source": [
    "### Exercise 12\n",
    "\n",
    "<span style=\"color:green\">Read the documentation on the **`filter`** builtin function. Use an anonymous function to filter out the even values from a range object of values 0 to 9</span>"
   ]
  },
  {
   "cell_type": "code",
   "execution_count": 143,
   "metadata": {},
   "outputs": [
    {
     "data": {
      "text/plain": [
       "[1, 3, 5, 7, 9]"
      ]
     },
     "execution_count": 143,
     "metadata": {},
     "output_type": "execute_result"
    }
   ],
   "source": [
    "list(filter(lambda x: x % 2 == 1, range(10)))"
   ]
  },
  {
   "cell_type": "markdown",
   "metadata": {},
   "source": [
    "### Exercise 13\n",
    "\n",
    "<span style=\"color:green\">Read the documentation on the **`reduce`** function which is part of the functools standard library. Use an anonymous function to sum up all the values from 0 to 9</span>"
   ]
  },
  {
   "cell_type": "code",
   "execution_count": 144,
   "metadata": {},
   "outputs": [
    {
     "data": {
      "text/plain": [
       "45"
      ]
     },
     "execution_count": 144,
     "metadata": {},
     "output_type": "execute_result"
    }
   ],
   "source": [
    "from functools import reduce\n",
    "reduce(lambda x, y: x + y, range(10))"
   ]
  },
  {
   "cell_type": "markdown",
   "metadata": {},
   "source": [
    "### Exercise 14: Advanced\n",
    "\n",
    "<span style=\"color:green\">Use **`map, reduce and filter`** to take the numbers 0 to 9, square them, filter out the even numbers and multiply the remaining together. This can be done in one line</span>"
   ]
  },
  {
   "cell_type": "code",
   "execution_count": 145,
   "metadata": {},
   "outputs": [
    {
     "data": {
      "text/plain": [
       "893025"
      ]
     },
     "execution_count": 145,
     "metadata": {},
     "output_type": "execute_result"
    }
   ],
   "source": [
    "reduce(lambda x, y: x * y, filter(lambda x: x % 2 == 1, map(lambda x: x ** 2, range(10))))"
   ]
  },
  {
   "cell_type": "markdown",
   "metadata": {},
   "source": [
    "### Exercise 15\n",
    "\n",
    "<span style=\"color:green\">Write a normal function that replicates the one defined in Exercise 14.</span>"
   ]
  },
  {
   "cell_type": "code",
   "execution_count": 146,
   "metadata": {},
   "outputs": [
    {
     "data": {
      "text/plain": [
       "893025"
      ]
     },
     "execution_count": 146,
     "metadata": {},
     "output_type": "execute_result"
    }
   ],
   "source": [
    "def mrf():\n",
    "    a_list = []\n",
    "    for x in range(10):\n",
    "        y = x ** 2\n",
    "        if y % 2 == 1:\n",
    "            a_list.append(y)\n",
    "            \n",
    "    total = 1\n",
    "    for x in a_list:\n",
    "        total *= x\n",
    "    return total\n",
    "mrf()"
   ]
  },
  {
   "cell_type": "markdown",
   "metadata": {},
   "source": [
    "### Exercise 16: Advanced\n",
    "\n",
    "<span style=\"color:green\">Use list comprehensions and the **`sum`** function to take the numbers 0 to 9, square the even numbers, and sum them all up</span>"
   ]
  },
  {
   "cell_type": "code",
   "execution_count": 147,
   "metadata": {},
   "outputs": [
    {
     "data": {
      "text/plain": [
       "165"
      ]
     },
     "execution_count": 147,
     "metadata": {},
     "output_type": "execute_result"
    }
   ],
   "source": [
    "sum([x ** 2 for x in range(10) if x % 2])"
   ]
  },
  {
   "cell_type": "markdown",
   "metadata": {},
   "source": [
    "### Exercise 17: Advanced\n",
    "<span style=\"color:green\">In this Exercise you will write a function to transpose a two dimensional matrix. Transposing a matrix means to make the rows become the columns and vice versa. Create your matrix by creating a list of lists. In this case just choose a simple matrix like a 2 by 3.</span>"
   ]
  },
  {
   "cell_type": "code",
   "execution_count": 148,
   "metadata": {},
   "outputs": [
    {
     "name": "stdout",
     "output_type": "stream",
     "text": [
      "[1, 2, 3]\n",
      "[4, 5, 6]\n"
     ]
    }
   ],
   "source": [
    "# First lets pretty print our 3x2 matrix\n",
    "matrix = [[1,2,3], [4,5,6]]\n",
    "for row in matrix:\n",
    "    print(row)"
   ]
  },
  {
   "cell_type": "code",
   "execution_count": 149,
   "metadata": {},
   "outputs": [],
   "source": [
    "# need to convert this matrix to a 2 x 3 with rows and columns swapped\n",
    "# assume each inner list is a row, the number of columns is the length of one inner list\n",
    "def transpose(matrix):\n",
    "    new_num_rows = len(matrix[0])\n",
    "    new_num_cols = len(matrix)\n",
    "    new_matrix = []\n",
    "    for i in range(new_num_rows):\n",
    "        new_matrix.append([])\n",
    "        for j in range(new_num_cols):\n",
    "            new_matrix[-1].append(matrix[j][i])\n",
    "    return new_matrix  "
   ]
  },
  {
   "cell_type": "code",
   "execution_count": 150,
   "metadata": {},
   "outputs": [
    {
     "name": "stdout",
     "output_type": "stream",
     "text": [
      "[1, 4]\n",
      "[2, 5]\n",
      "[3, 6]\n"
     ]
    }
   ],
   "source": [
    "for row in transpose(matrix):\n",
    "    print(row)"
   ]
  },
  {
   "cell_type": "markdown",
   "metadata": {},
   "source": [
    "### Exercise 18\n",
    "<span style=\"color:green\">Write a function that returns the roll of two dice. Use the random.randint function</span>"
   ]
  },
  {
   "cell_type": "code",
   "execution_count": 151,
   "metadata": {},
   "outputs": [
    {
     "data": {
      "text/plain": [
       "(2, 3)"
      ]
     },
     "execution_count": 151,
     "metadata": {},
     "output_type": "execute_result"
    }
   ],
   "source": [
    "import random\n",
    "def dice_roll():\n",
    "    return random.randint(1, 6), random.randint(1, 6)\n",
    "dice_roll()"
   ]
  },
  {
   "cell_type": "markdown",
   "metadata": {},
   "source": [
    "### Exercise 19\n",
    "<span style=\"color:green\">You will write a function that plays a simple dice game. The game works as follows: You roll two dice and record the sum. You keep rolling the two dice until you re-roll your original total. Return the number of rolls it took to re-roll the original total. Do not simulate the original roll. Instead use an argument to pass the function a number between 2 and 12. Use the function you created in Exercise 19 to roll the dice. </span>"
   ]
  },
  {
   "cell_type": "code",
   "execution_count": 152,
   "metadata": {},
   "outputs": [
    {
     "data": {
      "text/plain": [
       "6"
      ]
     },
     "execution_count": 152,
     "metadata": {},
     "output_type": "execute_result"
    }
   ],
   "source": [
    "def simple_dice_game(original_roll):\n",
    "    n = 0\n",
    "    while True:\n",
    "        n += 1\n",
    "        if sum(dice_roll()) == original_roll:\n",
    "            break\n",
    "    return n\n",
    "simple_dice_game(5)"
   ]
  },
  {
   "cell_type": "markdown",
   "metadata": {},
   "source": [
    "### Exercise 20: Advanced\n",
    "<span style=\"color:green\">This is a classic interview Exercise. Write a function that finds the degree difference between the minute and second on a clock. The function will accept two arguments, hour (between 1 and 12) and minute (between 0 and 59). Note: this should be the absolute difference, so 180 degrees would be the absolute max possible value. Test your function with some times and make sure it makes sense. </span>"
   ]
  },
  {
   "cell_type": "code",
   "execution_count": 153,
   "metadata": {},
   "outputs": [
    {
     "data": {
      "text/plain": [
       "52.5"
      ]
     },
     "execution_count": 153,
     "metadata": {},
     "output_type": "execute_result"
    }
   ],
   "source": [
    "def degree_diff(hour, minute):\n",
    "    hour_degree = ((hour % 12) + minute / 60) * 30 \n",
    "    minute_degree = minute * 6\n",
    "    return min(abs(hour_degree - minute_degree), 360 - abs(hour_degree - minute_degree))\n",
    "degree_diff(1, 15)"
   ]
  },
  {
   "cell_type": "markdown",
   "metadata": {},
   "source": [
    "## 9. Tuples, Sets and Dictionaries"
   ]
  },
  {
   "cell_type": "markdown",
   "metadata": {},
   "source": [
    "### Exercise 1\n",
    "\n",
    "<span style=\"color:green\">Use a list comprehension that iterates through all the tuple methods and filters out all of the private methods.</span>"
   ]
  },
  {
   "cell_type": "code",
   "execution_count": 154,
   "metadata": {},
   "outputs": [
    {
     "data": {
      "text/plain": [
       "['count', 'index']"
      ]
     },
     "execution_count": 154,
     "metadata": {},
     "output_type": "execute_result"
    }
   ],
   "source": [
    "a = (1, 2)\n",
    "[method for method in dir(a) if method[0] != '_']"
   ]
  },
  {
   "cell_type": "markdown",
   "metadata": {},
   "source": [
    "### Exercise 2\n",
    "\n",
    "<span style=\"color:green\">Define a set and think of a function that will output the number of elements in that set.</span>"
   ]
  },
  {
   "cell_type": "code",
   "execution_count": 155,
   "metadata": {},
   "outputs": [
    {
     "data": {
      "text/plain": [
       "3"
      ]
     },
     "execution_count": 155,
     "metadata": {},
     "output_type": "execute_result"
    }
   ],
   "source": [
    "a_set = {4, 5, 10}\n",
    "len(a_set)"
   ]
  },
  {
   "cell_type": "markdown",
   "metadata": {},
   "source": [
    "### Exercise 3\n",
    "\n",
    "<span style=\"color:green\">Create a set of all the even numbers from 0 to 100. Then create another set of every number divisible by 7 from 0 to 100. Find the intersection of those sets.</span>"
   ]
  },
  {
   "cell_type": "code",
   "execution_count": 156,
   "metadata": {},
   "outputs": [
    {
     "data": {
      "text/plain": [
       "{0, 14, 28, 42, 56, 70, 84, 98}"
      ]
     },
     "execution_count": 156,
     "metadata": {},
     "output_type": "execute_result"
    }
   ],
   "source": [
    "a = set(range(0, 101, 2))\n",
    "b = set(range(0, 101, 7))\n",
    "a & b"
   ]
  },
  {
   "cell_type": "markdown",
   "metadata": {},
   "source": [
    "### Exercise 4\n",
    "\n",
    "<span style=\"color:green\">Find all the list and tuple methods that in common.</span>"
   ]
  },
  {
   "cell_type": "code",
   "execution_count": 157,
   "metadata": {},
   "outputs": [
    {
     "data": {
      "text/plain": [
       "{'__add__',\n",
       " '__class__',\n",
       " '__contains__',\n",
       " '__delattr__',\n",
       " '__dir__',\n",
       " '__doc__',\n",
       " '__eq__',\n",
       " '__format__',\n",
       " '__ge__',\n",
       " '__getattribute__',\n",
       " '__getitem__',\n",
       " '__gt__',\n",
       " '__hash__',\n",
       " '__init__',\n",
       " '__init_subclass__',\n",
       " '__iter__',\n",
       " '__le__',\n",
       " '__len__',\n",
       " '__lt__',\n",
       " '__mul__',\n",
       " '__ne__',\n",
       " '__new__',\n",
       " '__reduce__',\n",
       " '__reduce_ex__',\n",
       " '__repr__',\n",
       " '__rmul__',\n",
       " '__setattr__',\n",
       " '__sizeof__',\n",
       " '__str__',\n",
       " '__subclasshook__',\n",
       " 'count',\n",
       " 'index'}"
      ]
     },
     "execution_count": 157,
     "metadata": {},
     "output_type": "execute_result"
    }
   ],
   "source": [
    "tuple_methods = set(dir(tuple))\n",
    "list_methods = set(dir(list))\n",
    "tuple_methods & list_methods"
   ]
  },
  {
   "cell_type": "markdown",
   "metadata": {},
   "source": [
    "### Exercise 5: Advanced\n",
    "<span style=\"color:green\">Create a function to make a list of all the Fibonacci numbers less than 1000 and another function to make a list of all the prime numbers less than a 1000. Use a set to find the numbers that are in both groups</span>"
   ]
  },
  {
   "cell_type": "code",
   "execution_count": 158,
   "metadata": {},
   "outputs": [
    {
     "data": {
      "text/plain": [
       "{1, 2, 3, 5, 13, 89, 233}"
      ]
     },
     "execution_count": 158,
     "metadata": {},
     "output_type": "execute_result"
    }
   ],
   "source": [
    "fib_list = [1, 1]\n",
    "while  fib_list[-1] + fib_list[-2] < 1000:\n",
    "    fib_list.append(fib_list[-2] + fib_list[-1])\n",
    "    \n",
    "prime_list = [1, 2]\n",
    "from math import sqrt\n",
    "for i in range(3, 1000):\n",
    "    is_prime = True\n",
    "    for j in range(2, int(sqrt(i) + 1)):\n",
    "        if i % j == 0:\n",
    "            is_prime = False\n",
    "            break\n",
    "    if is_prime:\n",
    "        prime_list.append(i)\n",
    "\n",
    "set(fib_list) & set(prime_list)"
   ]
  },
  {
   "cell_type": "markdown",
   "metadata": {},
   "source": [
    "### Exercise 6\n",
    "\n",
    "<span style=\"color:green\">Are dictionaries mutable or immutable objects?</span>"
   ]
  },
  {
   "cell_type": "markdown",
   "metadata": {},
   "source": [
    "Mutable. We can add new key:value pairs, remove key:value pairs or change the value of one of the keys"
   ]
  },
  {
   "cell_type": "markdown",
   "metadata": {},
   "source": [
    "### Exercise 7\n",
    "\n",
    "<span style=\"color:green\">Write a function that emulates the `get` dictionary method. The function will consist of three arguments: the dictionary, the key to lookup and the default value to return if the key is not in the dictionary. Test your function with the provided code</span>"
   ]
  },
  {
   "cell_type": "code",
   "execution_count": 159,
   "metadata": {},
   "outputs": [],
   "source": [
    "def dict_get(dictionary, key, default):\n",
    "    if key in dictionary:\n",
    "        return dictionary[key]\n",
    "    return default"
   ]
  },
  {
   "cell_type": "code",
   "execution_count": 160,
   "metadata": {},
   "outputs": [
    {
     "name": "stdout",
     "output_type": "stream",
     "text": [
      "[0, 0, 0]\n",
      "[45, 98, 77]\n"
     ]
    }
   ],
   "source": [
    "# test code \n",
    "test_dict = {'Sally': [87, 76, 65], 'Jane' : [45, 98, 77], 'Adeline' : [65, 22, 10]}\n",
    "key = 'jane'\n",
    "default = [0, 0, 0]\n",
    "\n",
    "print(dict_get(test_dict, key, default))\n",
    "key = 'Jane'\n",
    "print(dict_get(test_dict, key, default))"
   ]
  },
  {
   "cell_type": "markdown",
   "metadata": {},
   "source": [
    "### Exercise 8\n",
    "\n",
    "<span style=\"color:green\">Create a function that accepts two parameters, a dictionary, and a string. If that string is in the dictionary, increment the value by 1. If not, create a new record in the dictionary with the string as a key and 0 as its value. Test your function with provided code.</span>"
   ]
  },
  {
   "cell_type": "code",
   "execution_count": 161,
   "metadata": {},
   "outputs": [],
   "source": [
    "def add_to_dict(dictionary, key):\n",
    "    if key in dictionary:\n",
    "        dictionary[key] += 1\n",
    "    else:\n",
    "        dictionary[key] = 0"
   ]
  },
  {
   "cell_type": "code",
   "execution_count": 162,
   "metadata": {},
   "outputs": [
    {
     "data": {
      "text/plain": [
       "{'Houston': 1, 'New Orleans': 3, 'New York': 0}"
      ]
     },
     "execution_count": 162,
     "metadata": {},
     "output_type": "execute_result"
    }
   ],
   "source": [
    "# test code\n",
    "test_dict = {'Houston': 1, 'New Orleans':2}\n",
    "add_to_dict(test_dict, 'New York')\n",
    "add_to_dict(test_dict, 'New Orleans')\n",
    "test_dict"
   ]
  },
  {
   "cell_type": "markdown",
   "metadata": {},
   "source": [
    "### Exercise 9\n",
    "\n",
    "<span style=\"color:green\">Create a new dictionary through a dictionary comp that gets the average score for each student</span>"
   ]
  },
  {
   "cell_type": "code",
   "execution_count": 163,
   "metadata": {},
   "outputs": [
    {
     "data": {
      "text/plain": [
       "{'Sally': 76.0, 'Jane': 73.33333333333333, 'Adeline': 32.333333333333336}"
      ]
     },
     "execution_count": 163,
     "metadata": {},
     "output_type": "execute_result"
    }
   ],
   "source": [
    "students = {'Sally': [87, 76, 65], 'Jane' : [45, 98, 77], 'Adeline' : [65, 22, 10]}\n",
    "avg = {student : sum(scores) / len(scores) for student, scores in students.items()}\n",
    "avg"
   ]
  },
  {
   "cell_type": "markdown",
   "metadata": {},
   "source": [
    "### Exercise 10\n",
    "\n",
    "<span style=\"color:green\">Create a dictionary through a dictionary comp that has the student name as the key and the minimum grade as value but for only students that have an 'e' in their name.</span>"
   ]
  },
  {
   "cell_type": "code",
   "execution_count": 164,
   "metadata": {},
   "outputs": [
    {
     "data": {
      "text/plain": [
       "{'Jane': 45, 'Adeline': 10}"
      ]
     },
     "execution_count": 164,
     "metadata": {},
     "output_type": "execute_result"
    }
   ],
   "source": [
    "low_e = {student : min(scores) for student, scores in students.items() if 'e' in student}\n",
    "low_e"
   ]
  },
  {
   "cell_type": "markdown",
   "metadata": {},
   "source": [
    "### Exercise 11\n",
    "\n",
    "<span style=\"color:green\">Use a dictionary comp that loops through the numbers 0 to 10 and uses the integer as the key and a list with its squared and cubed value as its value.</span>"
   ]
  },
  {
   "cell_type": "code",
   "execution_count": 165,
   "metadata": {},
   "outputs": [
    {
     "data": {
      "text/plain": [
       "{0: [0, 0],\n",
       " 1: [1, 1],\n",
       " 2: [4, 8],\n",
       " 3: [9, 27],\n",
       " 4: [16, 64],\n",
       " 5: [25, 125],\n",
       " 6: [36, 216],\n",
       " 7: [49, 343],\n",
       " 8: [64, 512],\n",
       " 9: [81, 729],\n",
       " 10: [100, 1000]}"
      ]
     },
     "execution_count": 165,
     "metadata": {},
     "output_type": "execute_result"
    }
   ],
   "source": [
    "{n: [n ** 2, n ** 3] for n in range(11)}"
   ]
  },
  {
   "cell_type": "markdown",
   "metadata": {},
   "source": [
    "### Exercise 12: Advanced\n",
    "\n",
    "<span style=\"color:green\">Iterate through each student and drop their lowest test grade. Replace it with 100.</span>"
   ]
  },
  {
   "cell_type": "code",
   "execution_count": 166,
   "metadata": {},
   "outputs": [
    {
     "data": {
      "text/plain": [
       "{'Sally': [87, 76, 100], 'Jane': [100, 98, 77], 'Adeline': [65, 22, 100]}"
      ]
     },
     "execution_count": 166,
     "metadata": {},
     "output_type": "execute_result"
    }
   ],
   "source": [
    "for student, scores in students.items():\n",
    "    scores[scores.index(min(scores))] = 100\n",
    "students"
   ]
  }
 ],
 "metadata": {
  "anaconda-cloud": {},
  "kernelspec": {
   "display_name": "Python 3",
   "language": "python",
   "name": "python3"
  },
  "language_info": {
   "codemirror_mode": {
    "name": "ipython",
    "version": 3
   },
   "file_extension": ".py",
   "mimetype": "text/x-python",
   "name": "python",
   "nbconvert_exporter": "python",
   "pygments_lexer": "ipython3",
   "version": "3.7.3"
  }
 },
 "nbformat": 4,
 "nbformat_minor": 1
}
