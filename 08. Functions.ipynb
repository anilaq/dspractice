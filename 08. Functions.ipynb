{
 "cells": [
  {
   "cell_type": "markdown",
   "metadata": {},
   "source": [
    "# Functions\n",
    "\n",
    "Functions are fundamental to nearly all programming languages and have already been used a few times before this chapter. A function is a set of programming statements that can be referenced by a name. Functions allow you to store code that you would like to reference repeatedly without having to rewrite that same code for each execution. In this chapter, we will begin by examining the built-in functions that Python has already created for you before learning how to create our own functions. Functions are used very frequently when programming and really give you a lot of power to complete different tasks. You'll be able to develop much more elaborate programs by knowing how to create and use functions.\n",
    "\n",
    "## Function calling\n",
    "\n",
    "Functions are referenced by their name. To execute the code they are referencing, you must append an open and closing parentheses to that name. When we execute this code, we say that we are **calling** the function. Some functions accept **arguments** that are used to modify the behavior of the function. Arguments are values that are **passed** to the function by placing them in the parentheses following the function name. Each argument must be separated by a comma. \n",
    "\n",
    "To help us understand function calling syntax, let's take a look at three different examples and identify the arguments. Below, we have three functions with the names `func1`, `func2`, and `func3`. They are each called with a different number of arguments.\n",
    "\n",
    "```\n",
    "func1(a, 5, [1, 2, 3], d)\n",
    "func2('python, java, go, c++')\n",
    "func3()\n",
    "```\n",
    "\n",
    "Function `func1` is called with 4 arguments - the value referenced by variable `a`, the integer `5`, the list `[1, 2, 3]`, and the value referenced by variable `d`. Function `func2` is called with a single argument, the string `'python, java, go, c++'`. Some functions accept no arguments, such as `func3`, which is called with nothing within its parentheses.\n",
    "\n",
    "## Built-in functions\n",
    "\n",
    "Python's official documentation lists all the [built-in functions][1] that are available and ready to use immediately in any program without any need to import them from other modules. These functions provide us with the ability to complete some of the most basic and common programming tasks.\n",
    "\n",
    "### Using built-in functions\n",
    "\n",
    "We will now cover several of the built-in functions and how they may be used with the objects and constructs that we have already covered in this book. An exhaustive list of examples for each function will not be provided here as many of the functions have use-cases for advanced topics that have yet to be covered.\n",
    "\n",
    "\n",
    "### All functions return an object\n",
    "\n",
    "Every function in Python returns an object. It is always valid to assign the result of a function to a variable. For instance `a = func()` will always assign something to `a`. Some functions will appear to return nothing, but this isn't ever the case. When a function appears to return nothing, it is usually returning the object `None`. We will see a few functions in this chapter that return `None`.\n",
    "\n",
    "\n",
    "### Math functions\n",
    "\n",
    "There are several built-in functions that are primarily used to do basic mathematical operations, although some of them may be used on non-numeric types. Examples for each one of these will be given below.\n",
    "\n",
    "* `abs` - returns the absolute value of a number\n",
    "* `divmod` - return the quotient and remainder for a division between two numbers\n",
    "* `min` - finds the minimum of a sequence\n",
    "* `max` - finds the maximum of a sequence\n",
    "* `pow` - raises a number to a power\n",
    "* `round` - rounds a number to the nearest given decimal place\n",
    "* `sum` - calculates the sum of an iterable\n",
    "\n",
    "The `abs` function returns the absolute value of the single numeric argument that it accepts. Let's take the absolute value of -5.\n",
    "\n",
    "[1]: https://docs.python.org/3/library/functions.html"
   ]
  },
  {
   "cell_type": "code",
   "execution_count": null,
   "metadata": {},
   "outputs": [],
   "source": [
    "abs(-5)"
   ]
  },
  {
   "cell_type": "markdown",
   "metadata": {},
   "source": [
    "Passing it a string results in an error."
   ]
  },
  {
   "cell_type": "code",
   "execution_count": null,
   "metadata": {},
   "outputs": [],
   "source": [
    "abs('python')"
   ]
  },
  {
   "cell_type": "markdown",
   "metadata": {},
   "source": [
    "It is not possible to pass it a list either, even if all the items in the list are numbers."
   ]
  },
  {
   "cell_type": "code",
   "execution_count": null,
   "metadata": {},
   "outputs": [],
   "source": [
    "abs([-4, 5, -2])"
   ]
  },
  {
   "cell_type": "markdown",
   "metadata": {},
   "source": [
    "The `divmod` function accepts two arguments and divides the first by the second. It returns both the quotient and the remainder of the division. In the following example, `divmod` is used to divide 53 by 9 which yields 5 with a remainder of 9."
   ]
  },
  {
   "cell_type": "code",
   "execution_count": null,
   "metadata": {},
   "outputs": [],
   "source": [
    "divmod(53, 9)"
   ]
  },
  {
   "cell_type": "markdown",
   "metadata": {},
   "source": [
    "The name `divmod` comes from the fact that it does integer and modulus division. It is possible to recreate the functionality of `divmod` with the integer division and modulus operators."
   ]
  },
  {
   "cell_type": "code",
   "execution_count": null,
   "metadata": {},
   "outputs": [],
   "source": [
    "53 // 9, 53 % 9"
   ]
  },
  {
   "cell_type": "markdown",
   "metadata": {},
   "source": [
    "Notice that two numbers are returned. Technically, a **tuple** is returned that contains two items. A tuple is similar to a list and will be covered in an upcoming chapter.\n",
    "\n",
    "The `min` function is called in two unique and different ways. Passing it an iterable will have it return the minimum within that iterable. Let's see an example by passing it a list of integers."
   ]
  },
  {
   "cell_type": "code",
   "execution_count": null,
   "metadata": {},
   "outputs": [],
   "source": [
    "a = [1, -9, 10, 4]\n",
    "min(a)"
   ]
  },
  {
   "cell_type": "markdown",
   "metadata": {},
   "source": [
    "We've learned that strings are also iterables, so you can pass it a string as well. It will use Unicode code points to determine which character is the minimum."
   ]
  },
  {
   "cell_type": "code",
   "execution_count": null,
   "metadata": {},
   "outputs": [],
   "source": [
    "s = 'python'\n",
    "min(s)"
   ]
  },
  {
   "cell_type": "markdown",
   "metadata": {},
   "source": [
    "If you pass it a list that has objects that cannot be compared, such as an integer with a string, then you'll get an error."
   ]
  },
  {
   "cell_type": "code",
   "execution_count": null,
   "metadata": {},
   "outputs": [],
   "source": [
    "a = [1, 'nine', 10, 4]\n",
    "min(a)"
   ]
  },
  {
   "cell_type": "markdown",
   "metadata": {},
   "source": [
    "The other way to use `min`, is to pass it the values you want to compare as separate arguments. All of the previous calls to `min` passed it a single argument. Here, we pass it four integer arguments."
   ]
  },
  {
   "cell_type": "code",
   "execution_count": null,
   "metadata": {},
   "outputs": [],
   "source": [
    "min(1, -9, 10, 4)"
   ]
  },
  {
   "cell_type": "markdown",
   "metadata": {},
   "source": [
    "The `max` function works identically as `min`, but returns the largest value. Let's use it with an iterable and then with multiple arguments."
   ]
  },
  {
   "cell_type": "code",
   "execution_count": null,
   "metadata": {},
   "outputs": [],
   "source": [
    "a = [1, -9, 10, 4]\n",
    "max(a)"
   ]
  },
  {
   "cell_type": "code",
   "execution_count": null,
   "metadata": {},
   "outputs": [],
   "source": [
    "max(1, -9, 10, 4)"
   ]
  },
  {
   "cell_type": "markdown",
   "metadata": {},
   "source": [
    "The `pow` function accepts two arguments and returns the result of raising the first argument to the power of the second. Below, we raise two to the fifth power."
   ]
  },
  {
   "cell_type": "code",
   "execution_count": null,
   "metadata": {},
   "outputs": [],
   "source": [
    "pow(2, 5)"
   ]
  },
  {
   "cell_type": "markdown",
   "metadata": {},
   "source": [
    "This functionality is also provided by the exponentiation operator. We previously learned how to raise two to the fifth power like this:"
   ]
  },
  {
   "cell_type": "code",
   "execution_count": null,
   "metadata": {},
   "outputs": [],
   "source": [
    "2 ** 5"
   ]
  },
  {
   "cell_type": "markdown",
   "metadata": {},
   "source": [
    "We can use `pow` to take the square root of a number by passing .5 as the second argument."
   ]
  },
  {
   "cell_type": "code",
   "execution_count": null,
   "metadata": {},
   "outputs": [],
   "source": [
    "pow(16, .5)"
   ]
  },
  {
   "cell_type": "markdown",
   "metadata": {},
   "source": [
    "The `pow` function accepts an optional third argument which returns the remainder of the result of the exponentiation divided by this third argument. In the below example three is raised to the fifth power and then divided by 17 with the remainder five returned."
   ]
  },
  {
   "cell_type": "code",
   "execution_count": null,
   "metadata": {},
   "outputs": [],
   "source": [
    "pow(3, 5, 17)"
   ]
  },
  {
   "cell_type": "markdown",
   "metadata": {},
   "source": [
    "We can rewrite the above with operators."
   ]
  },
  {
   "cell_type": "code",
   "execution_count": null,
   "metadata": {},
   "outputs": [],
   "source": [
    "3 ** 5 % 17"
   ]
  },
  {
   "cell_type": "markdown",
   "metadata": {},
   "source": [
    "The `round` function rounds a number to a given decimal place. It accepts two arguments, the number to be rounded, and the number of decimals to round it to. If the second argument is not provided, the number will be rounded to the nearest whole number."
   ]
  },
  {
   "cell_type": "code",
   "execution_count": null,
   "metadata": {},
   "outputs": [],
   "source": [
    "a = 3157.18873\n",
    "round(a, 2)"
   ]
  },
  {
   "cell_type": "code",
   "execution_count": null,
   "metadata": {},
   "outputs": [],
   "source": [
    "round(a)"
   ]
  },
  {
   "cell_type": "markdown",
   "metadata": {},
   "source": [
    "You can use negative decimal places to round to the nearest ten, hundred, thousand, etc..."
   ]
  },
  {
   "cell_type": "code",
   "execution_count": null,
   "metadata": {},
   "outputs": [],
   "source": [
    "round(a, -3)"
   ]
  },
  {
   "cell_type": "markdown",
   "metadata": {},
   "source": [
    "The `sum` method only takes an iterable and not single values as arguments (like `min` and `max`). Let's take the sum of a list of numbers."
   ]
  },
  {
   "cell_type": "code",
   "execution_count": null,
   "metadata": {},
   "outputs": [],
   "source": [
    "a = [-99, 534, 211, 8]\n",
    "sum(a)"
   ]
  },
  {
   "cell_type": "markdown",
   "metadata": {},
   "source": [
    "An optional second argument exists that you can use to supply the starting value of the sum. This is normally defaulted to 0. Below, we start the sum at 10 before adding the values in the list to it."
   ]
  },
  {
   "cell_type": "code",
   "execution_count": null,
   "metadata": {},
   "outputs": [],
   "source": [
    "sum([3, 4], 10)"
   ]
  },
  {
   "cell_type": "markdown",
   "metadata": {},
   "source": [
    "### The `any`/`all` functions\n",
    "\n",
    "The `any` and `all` functions work similarly. They both accept an iterable and always return a boolean. The `any` function returns `True` if one or more of the items in the iterable have a truth value as `True`. It only returns `False` if all items have a truth value of `False`. The `all` method only returns `True` if all of the items in the iterable have a truth value of `True`. Otherwise, it returns `False`."
   ]
  },
  {
   "cell_type": "code",
   "execution_count": null,
   "metadata": {},
   "outputs": [],
   "source": [
    "a = [False, True, False, False]\n",
    "any(a)"
   ]
  },
  {
   "cell_type": "code",
   "execution_count": null,
   "metadata": {},
   "outputs": [],
   "source": [
    "a = [False, False, False, False]\n",
    "any(a)"
   ]
  },
  {
   "cell_type": "markdown",
   "metadata": {},
   "source": [
    "Any objects that have truth values can be used as items in the iterable. Here, we use integers, where all non-zero values have a truth value of `True`."
   ]
  },
  {
   "cell_type": "code",
   "execution_count": null,
   "metadata": {},
   "outputs": [],
   "source": [
    "a = [0, 0, 0]\n",
    "any(a)"
   ]
  },
  {
   "cell_type": "code",
   "execution_count": null,
   "metadata": {},
   "outputs": [],
   "source": [
    "a = [0, 0, 0, 1]\n",
    "any(a)"
   ]
  },
  {
   "cell_type": "markdown",
   "metadata": {},
   "source": [
    "`None`, empty strings, and empty lists all have truth values of `False`."
   ]
  },
  {
   "cell_type": "code",
   "execution_count": null,
   "metadata": {},
   "outputs": [],
   "source": [
    "a = [None, False, 0, 0.0, '', []]\n",
    "any(a)"
   ]
  },
  {
   "cell_type": "markdown",
   "metadata": {},
   "source": [
    "Let's see a few examples with `all`."
   ]
  },
  {
   "cell_type": "code",
   "execution_count": null,
   "metadata": {},
   "outputs": [],
   "source": [
    "a = [True, True, True]\n",
    "all(a)"
   ]
  },
  {
   "cell_type": "code",
   "execution_count": null,
   "metadata": {},
   "outputs": [],
   "source": [
    "a = [True, True, False]\n",
    "all(a)"
   ]
  },
  {
   "cell_type": "code",
   "execution_count": null,
   "metadata": {},
   "outputs": [],
   "source": [
    "a = [-.1, True, 'python', [1, 2, 3]]\n",
    "all(a)"
   ]
  },
  {
   "cell_type": "markdown",
   "metadata": {},
   "source": [
    "### The `chr`/`ord` functions\n",
    "\n",
    "The `chr` function accepts a single integer argument and returns the character represented by the passed Unicode code point. The `ord` function does the reverse. It takes a single character and returns its Unicode code point as an integer. The Unicode code point 915 returns the Greek capital letter gamma."
   ]
  },
  {
   "cell_type": "code",
   "execution_count": null,
   "metadata": {},
   "outputs": [],
   "source": [
    "chr(915)"
   ]
  },
  {
   "cell_type": "markdown",
   "metadata": {},
   "source": [
    "We can invert this operation with `ord` to get back the Unicode code point."
   ]
  },
  {
   "cell_type": "code",
   "execution_count": null,
   "metadata": {},
   "outputs": [],
   "source": [
    "ord('Γ')"
   ]
  },
  {
   "cell_type": "code",
   "execution_count": null,
   "metadata": {},
   "outputs": [],
   "source": [
    "ord('s')"
   ]
  },
  {
   "cell_type": "markdown",
   "metadata": {},
   "source": [
    "## Other built-in functions\n",
    "\n",
    "The following built-in functions will covered in the next section:\n",
    "\n",
    "* `dir` - returns the names of the attributes and methods of the passed object as a list of strings\n",
    "* `print` - prints information to the screen in a variety of ways\n",
    "* `help` - prints the documentation string of the given object\n",
    "* `format` - formats a string with the format specification mini-language\n",
    "* `id` - returns the memory address of an object as an integer\n",
    "* `len` - returns the number of items of the passed object\n",
    "* `sorted` - sorts the passed iterable"
   ]
  },
  {
   "cell_type": "markdown",
   "metadata": {},
   "source": [
    "### `dir`\n",
    "\n",
    "The main use of the `dir` function is to return the attributes and methods from a passed object as a list of strings. It allows you to programmatically inspect the object for nearly all of its functionality. Let's find all of the string functionality by passing the `str` constructor to the `dir` function. There are over 70 results returned."
   ]
  },
  {
   "cell_type": "code",
   "execution_count": null,
   "metadata": {},
   "outputs": [],
   "source": [
    "str_attrs = dir(str)\n",
    "len(str_attrs)"
   ]
  },
  {
   "cell_type": "markdown",
   "metadata": {},
   "source": [
    "Instead of displaying all of the results, let's just look at the first and last five."
   ]
  },
  {
   "cell_type": "code",
   "execution_count": null,
   "metadata": {},
   "outputs": [],
   "source": [
    "str_attrs[:5]"
   ]
  },
  {
   "cell_type": "code",
   "execution_count": null,
   "metadata": {},
   "outputs": [],
   "source": [
    "str_attrs[-5:]"
   ]
  },
  {
   "cell_type": "markdown",
   "metadata": {},
   "source": [
    "Attributes and methods that begin with a single underscore are 'private' and not intended for public use. The term private is used loosely here as Python does not allow for actual private methods. In other languages, like Java, a private method is not even available to use outside of the class where it is defined.\n",
    "\n",
    "In Python, it is not possible to hide methods from public use. Instead, we begin method names with a single underscore to signal to users that the method is not intended for public use.\n",
    "\n",
    "Methods that begin and end with two underscores are more than just private methods, they are **special** or **magic** methods. These methods will be discussed in the chapters on object-oriented programming.\n",
    "\n",
    "You can use an actual instance of the type which should get you the same attributes and methods as the constructor."
   ]
  },
  {
   "cell_type": "code",
   "execution_count": null,
   "metadata": {},
   "outputs": [],
   "source": [
    "str_attrs = dir('some string')"
   ]
  },
  {
   "cell_type": "markdown",
   "metadata": {},
   "source": [
    "It's important to note that the output of `dir` can be manipulated programmatically so it doesn't guarantee that **all** of the attributes and methods for each type of object will be returned. This manipulation of the returned value of `dir` is an advanced topic and will be discussed in the chapters on object-oriented programming."
   ]
  },
  {
   "cell_type": "markdown",
   "metadata": {},
   "source": [
    "### `help`\n",
    "\n",
    "The `help` function may be used to get help on how to use the different objects available in Python. Passing it a function will print the documentation string to the screen. This is the same information that is revealed in Jupyter Notebook by pressing **shift + tab + tab** when the cursor is placed after the function name. Here is an example with the `sum` function."
   ]
  },
  {
   "cell_type": "code",
   "execution_count": null,
   "metadata": {},
   "outputs": [],
   "source": [
    "help(sum)"
   ]
  },
  {
   "cell_type": "markdown",
   "metadata": {},
   "source": [
    "When passing `help` the name of a type, the documentation string along with all of the methods and the documentation for those methods is printed to the screen. Try this out with lists by uncommenting the line below and then running it. The output is very long, which is why it is commented out."
   ]
  },
  {
   "cell_type": "code",
   "execution_count": null,
   "metadata": {},
   "outputs": [],
   "source": [
    "# help(list)"
   ]
  },
  {
   "cell_type": "markdown",
   "metadata": {},
   "source": [
    "Running `help` with no arguments starts an interactive program to guide you on how to get help."
   ]
  },
  {
   "cell_type": "code",
   "execution_count": null,
   "metadata": {},
   "outputs": [],
   "source": [
    "# help()"
   ]
  },
  {
   "cell_type": "markdown",
   "metadata": {},
   "source": [
    "### `print`\n",
    "\n",
    "We've used the `print` function many times so far in this text. It's default behavior is to print to the **stdout** (standard output), which is the technical term for where the output of a program is written. Within a Jupyter Notebook, this standard output is just the space immediately below the cell."
   ]
  },
  {
   "cell_type": "code",
   "execution_count": null,
   "metadata": {},
   "outputs": [],
   "source": [
    "print('This is stdout')"
   ]
  },
  {
   "cell_type": "markdown",
   "metadata": {},
   "source": [
    "The standard output is different than the `Out` cell of a Jupyter Notebook, which shows the value returned from the last line of code in a cell. Notice that the printed output is in a different location than the returned value of the addition."
   ]
  },
  {
   "cell_type": "code",
   "execution_count": null,
   "metadata": {},
   "outputs": [],
   "source": [
    "print('This is stdout')\n",
    "5 + 10"
   ]
  },
  {
   "cell_type": "markdown",
   "metadata": {},
   "source": [
    "The `print` function can print non-strings as well. Here, we print an integer and then a list with separate calls to it."
   ]
  },
  {
   "cell_type": "code",
   "execution_count": null,
   "metadata": {},
   "outputs": [],
   "source": [
    "a = 10\n",
    "b = [1, 2, 3]\n",
    "print(a)\n",
    "print(b)"
   ]
  },
  {
   "cell_type": "markdown",
   "metadata": {},
   "source": [
    "Any number of objects may be printed to the screen with a single `print` function. Pass each object as a separate argument."
   ]
  },
  {
   "cell_type": "code",
   "execution_count": null,
   "metadata": {},
   "outputs": [],
   "source": [
    "c = False\n",
    "print(a, b, c, 'another string', -4.3)"
   ]
  },
  {
   "cell_type": "markdown",
   "metadata": {},
   "source": [
    "Notice above how there is a single space separating the objects printed to the screen. The `print` function has an optional parameter named `sep` that controls what is used to separate the arguments and is defaulted to a single space. Let's use different values for `sep` with the same objects from above. First, we will use no space (an empty string)."
   ]
  },
  {
   "cell_type": "code",
   "execution_count": null,
   "metadata": {},
   "outputs": [],
   "source": [
    "print(a, b, c, 'another string', -4.3, sep='')"
   ]
  },
  {
   "cell_type": "markdown",
   "metadata": {},
   "source": [
    "The argument passed to `sep` can be any string of any length. Here, we use three hypens."
   ]
  },
  {
   "cell_type": "code",
   "execution_count": null,
   "metadata": {},
   "outputs": [],
   "source": [
    "print(a, b, c, 'another string', -4.3, sep='---')"
   ]
  },
  {
   "cell_type": "markdown",
   "metadata": {},
   "source": [
    "The `print` function has another useful parameter named `end`, which controls what string is used at the end of the output. By default, it uses the newline character, `\\n`. Below, we change the ending character to a single space. Now, you can use multiple `print` functions without having the output default to the next line."
   ]
  },
  {
   "cell_type": "code",
   "execution_count": null,
   "metadata": {},
   "outputs": [],
   "source": [
    "print('Every', end=' ')\n",
    "print('word', end=' ')\n",
    "print('on', end=' ')\n",
    "print('the', end=' ')\n",
    "print('same', end=' ')\n",
    "print('line')\n",
    "print('Back to separate lines')"
   ]
  },
  {
   "cell_type": "markdown",
   "metadata": {},
   "source": [
    "### `format`\n",
    "\n",
    "The `format` function may be used to apply string formatting to a given string. Format the string using the format specification syntax covered in the chapter on strings. Here, we format a float by using an asterisk as the fill, center alignment, a width of 12, a precision of 2, and a fixed-float type."
   ]
  },
  {
   "cell_type": "code",
   "execution_count": null,
   "metadata": {},
   "outputs": [],
   "source": [
    "a = 9.1234\n",
    "format(a, '*^12.2f')"
   ]
  },
  {
   "cell_type": "markdown",
   "metadata": {},
   "source": [
    "### `id`\n",
    "\n",
    "The `id` function has also been used previously and returns the location in memory of the given object as an integer. This location is also referred to as the object's **identity**. This integer is guaranteed to be unique for different objects. Here we review the subtle fact of how Python does not create a new object when assigning one variable to another."
   ]
  },
  {
   "cell_type": "code",
   "execution_count": null,
   "metadata": {},
   "outputs": [],
   "source": [
    "a = [1, 2, 3]\n",
    "id(a)"
   ]
  },
  {
   "cell_type": "code",
   "execution_count": null,
   "metadata": {},
   "outputs": [],
   "source": [
    "b = a\n",
    "id(b)"
   ]
  },
  {
   "cell_type": "code",
   "execution_count": null,
   "metadata": {},
   "outputs": [],
   "source": [
    "c = [1, 2, 3]\n",
    "id(c)"
   ]
  },
  {
   "cell_type": "markdown",
   "metadata": {},
   "source": [
    "### `len`\n",
    "\n",
    "The `len` function returns the number of items contained within the passed object. It works on a variety of different objects such as strings, lists, tuples, sets, and dictionaries."
   ]
  },
  {
   "cell_type": "code",
   "execution_count": null,
   "metadata": {},
   "outputs": [],
   "source": [
    "s = 'jupyter notebook'\n",
    "len(s)"
   ]
  },
  {
   "cell_type": "code",
   "execution_count": null,
   "metadata": {},
   "outputs": [],
   "source": [
    "a = [1, 10, [4, 5, 6, 7]]\n",
    "len(a)"
   ]
  },
  {
   "cell_type": "markdown",
   "metadata": {},
   "source": [
    "It does not work for all objects though, such as integers."
   ]
  },
  {
   "cell_type": "code",
   "execution_count": null,
   "metadata": {},
   "outputs": [],
   "source": [
    "len(5)"
   ]
  },
  {
   "cell_type": "markdown",
   "metadata": {},
   "source": [
    "### `sorted`\n",
    "\n",
    "The `sorted` function accepts an iterable, attempts to sort the values, and always returns a list. A simple example involves sorting a list of numbers."
   ]
  },
  {
   "cell_type": "code",
   "execution_count": null,
   "metadata": {},
   "outputs": [],
   "source": [
    "a = [99, -10.5, 34, -10, 33.99]\n",
    "sorted(a)"
   ]
  },
  {
   "cell_type": "markdown",
   "metadata": {},
   "source": [
    "The `sort` list method does exist, but it sorts the list in-place. Use `sorted` when you want a completely new list as a new object. Let's show this difference by creating two lists with the same values and using `sorted` on one and the `sort` method on the other. We pass list `a` to the sorted method. This creates a new list and does not modify list `a` itself."
   ]
  },
  {
   "cell_type": "code",
   "execution_count": null,
   "metadata": {},
   "outputs": [],
   "source": [
    "a = [99, -10.5, 34, -10, 33.99]\n",
    "b = a.copy()\n",
    "c = sorted(a)\n",
    "b.sort()\n",
    "a"
   ]
  },
  {
   "cell_type": "code",
   "execution_count": null,
   "metadata": {},
   "outputs": [],
   "source": [
    "b"
   ]
  },
  {
   "cell_type": "code",
   "execution_count": null,
   "metadata": {},
   "outputs": [],
   "source": [
    "c"
   ]
  },
  {
   "cell_type": "markdown",
   "metadata": {},
   "source": [
    "Strings are iterables and can be sorted as well. Each character becomes an item in the returned list."
   ]
  },
  {
   "cell_type": "code",
   "execution_count": null,
   "metadata": {},
   "outputs": [],
   "source": [
    "s = 'iterable'\n",
    "sorted(s)"
   ]
  },
  {
   "cell_type": "markdown",
   "metadata": {},
   "source": [
    "Not all iterables can be sorted. Attempting to use `sorted` on a list containing integers and strings fails."
   ]
  },
  {
   "cell_type": "code",
   "execution_count": null,
   "metadata": {},
   "outputs": [],
   "source": [
    "a = [10, 99, '100']\n",
    "sorted(a)"
   ]
  },
  {
   "cell_type": "markdown",
   "metadata": {},
   "source": [
    "## User-defined functions\n",
    "\n",
    "Now that we have seen many examples of the built-in functions, let's move ahead to **user-defined functions** (UDFs), or functions that you create on your own.\n",
    "\n",
    "### UDF syntax\n",
    "\n",
    "The syntax for creating a UDF is similar to other statements that we have covered. Just like `if`, `elif`, `for`, and `while`, the first line of a UDF begins with a **keyword** and ends with a **colon** and is followed by a **code block**. For functions this keyword is `def`.\n",
    "\n",
    "More precisely, a UDF begins with the keyword `def`, is followed by the function name, a set of parentheses and then a colon. At least one line of indented code must follow in the code block. As before, the code block ends when the indentation returns to the level where the function was defined. Here is a generic outline of how functions are defined.\n",
    "\n",
    "```\n",
    "def func_name():\n",
    "   some code \n",
    "   in the code block\n",
    "   of the function\n",
    "```\n",
    "\n",
    "Functions may be optionally defined with any number of parameters. The generic function outline above does not have any parameters. Parameter definitions are done within the parentheses following the function name and will be discussed soon.\n",
    "\n",
    "### Function with no parameters\n",
    "\n",
    "Let's begin by defining a simple `hello` function with no parameters, and a single line of code in its code block that prints out a message."
   ]
  },
  {
   "cell_type": "code",
   "execution_count": null,
   "metadata": {},
   "outputs": [],
   "source": [
    "def hello():\n",
    "    print('Hello, this is a function')"
   ]
  },
  {
   "cell_type": "markdown",
   "metadata": {},
   "source": [
    "All functions are called by writing their name followed by a set of parentheses. When a function is called, the code in its code block is executed. Below, the `hello` function is called and executes the single line of code in it, printing a message to the screen."
   ]
  },
  {
   "cell_type": "code",
   "execution_count": null,
   "metadata": {},
   "outputs": [],
   "source": [
    "hello()"
   ]
  },
  {
   "cell_type": "markdown",
   "metadata": {},
   "source": [
    "### Functions that return a value\n",
    "\n",
    "All functions in Python return a value. The `return` statement is used to explicitly return a value. To do so, place the value you want to return directly after the `return` keyword. Below, we define a function named `sqrt_5` that uses Newton's Method to return the square root of five."
   ]
  },
  {
   "cell_type": "code",
   "execution_count": null,
   "metadata": {},
   "outputs": [],
   "source": [
    "def sqrt_5():\n",
    "    num = 5\n",
    "    guess = 2\n",
    "    error = abs(guess ** 2 - num)\n",
    "    max_error = 1e-8\n",
    "    while error > max_error:\n",
    "        guess -= (guess ** 2 - num) / (2 * guess)\n",
    "        error = abs(guess ** 2 - num)\n",
    "    return guess"
   ]
  },
  {
   "cell_type": "markdown",
   "metadata": {},
   "source": [
    "Calling this function returns the approximate square root of 5."
   ]
  },
  {
   "cell_type": "code",
   "execution_count": null,
   "metadata": {},
   "outputs": [],
   "source": [
    "sqrt_5()"
   ]
  },
  {
   "cell_type": "markdown",
   "metadata": {},
   "source": [
    "We can assign the result of this function to a variable."
   ]
  },
  {
   "cell_type": "code",
   "execution_count": null,
   "metadata": {},
   "outputs": [],
   "source": [
    "result = sqrt_5()"
   ]
  },
  {
   "cell_type": "markdown",
   "metadata": {},
   "source": [
    "And then output it to the screen later on."
   ]
  },
  {
   "cell_type": "code",
   "execution_count": null,
   "metadata": {},
   "outputs": [],
   "source": [
    "result"
   ]
  },
  {
   "cell_type": "markdown",
   "metadata": {},
   "source": [
    "### What did the `hello` function return?\n",
    "\n",
    "If a function contains no explicit `return` statement, then the value `None` is returned. There is no `return` statement in the above `hello` function. Let's verify that it indeed returns `None` by assigning its result to a variable. It's important that you do not confuse a `print` function for the `return` statement. You'll notice that the `print` function still executes and prints its message to the screen. The returned value is something completely different."
   ]
  },
  {
   "cell_type": "code",
   "execution_count": null,
   "metadata": {},
   "outputs": [],
   "source": [
    "a = hello()"
   ]
  },
  {
   "cell_type": "markdown",
   "metadata": {},
   "source": [
    "Verify that the function returned `None`."
   ]
  },
  {
   "cell_type": "code",
   "execution_count": null,
   "metadata": {},
   "outputs": [],
   "source": [
    "type(a)"
   ]
  },
  {
   "cell_type": "markdown",
   "metadata": {},
   "source": [
    "### Defining a function with a parameter\n",
    "\n",
    "If you would like your function to behave differently for different situations, you can define it with a parameter. In the function definition, write the name of the parameter within the parentheses. Here, we define a new function, `hello2`, with a single parameter `name`. Within the body of the function, we use the value passed to `name` in the `print` function."
   ]
  },
  {
   "cell_type": "code",
   "execution_count": null,
   "metadata": {},
   "outputs": [],
   "source": [
    "def hello2(name):\n",
    "    print(f'Hello {name}, this is a function')"
   ]
  },
  {
   "cell_type": "markdown",
   "metadata": {},
   "source": [
    "### Calling a function with a parameter\n",
    "There are two separate but equal ways to call functions with parameters. You can supply the parameter name followed by an equal sign and the argument or just the argument itself. Let's call it using both ways."
   ]
  },
  {
   "cell_type": "code",
   "execution_count": null,
   "metadata": {},
   "outputs": [],
   "source": [
    "hello2(name='Penelope')"
   ]
  },
  {
   "cell_type": "code",
   "execution_count": null,
   "metadata": {},
   "outputs": [],
   "source": [
    "hello2('Niko')"
   ]
  },
  {
   "cell_type": "markdown",
   "metadata": {},
   "source": [
    "### Defining a function with multiple parameters\n",
    "If your function requires multiple parameters, separate them in the function definition with a comma. The following function is an implementation of Newton's method for finding square roots. It's defined with three parameters - `num`, the number you want to take the square root of, `guess`, your initial estimate of the square root, and `max_error`, the maximum allowable error you are willing to accept before returning the estimate."
   ]
  },
  {
   "cell_type": "code",
   "execution_count": null,
   "metadata": {},
   "outputs": [],
   "source": [
    "def sqrt_newton(num, guess, max_error):\n",
    "    error = abs(guess ** 2 - num)\n",
    "    while error > max_error:\n",
    "        guess -= (guess ** 2 - num) / (2 * guess)\n",
    "        error = abs(guess ** 2 - num)\n",
    "    return guess"
   ]
  },
  {
   "cell_type": "markdown",
   "metadata": {},
   "source": [
    "### Calling a function with multiple parameters\n",
    "\n",
    "As before, let's call this function both with and without the parameter names."
   ]
  },
  {
   "cell_type": "code",
   "execution_count": null,
   "metadata": {},
   "outputs": [],
   "source": [
    "sqrt_newton(num=512, guess=20, max_error=.01)"
   ]
  },
  {
   "cell_type": "code",
   "execution_count": null,
   "metadata": {},
   "outputs": [],
   "source": [
    "sqrt_newton(512, 20, .01)"
   ]
  },
  {
   "cell_type": "markdown",
   "metadata": {},
   "source": [
    "## Positional and keyword arguments\n",
    "\n",
    "Although we weren't using the terminology, the last few examples were showing the difference between **positional** and **keyword** arguments.\n",
    "\n",
    "### Terminology: parameter vs argument\n",
    "Let's clear up this confusion as both these words have been used many times without formally defining them. They are very closely related.\n",
    "\n",
    "* Parameters are the variable names in the function definition. For the function `sqrt_newton`, the parameters are `num`, `guess`, and `error`.\n",
    "* Arguments are the actual values that get passed to the function that the parameters refer to. In each of the calls above to `sqrt_newton`, 512, 20, and .01 were the arguments.\n",
    "\n",
    "You define a function with parameters. You execute a function by passing it arguments.\n",
    "\n",
    "### Positional arguments\n",
    "\n",
    "Positional arguments are not named explicitly in the function call. They are passed as a literal value (or as variable name referring to a literal value) and must be given in the exact order that the function definition requires. Whe we executed, `sqrt_newton(512, 20, .01)`, each argument was passed as positional. The value 512 was assigned to the variable name `num`, 20 to `guess`, and `.01` to `max_error`. The order of the arguments matters. If instead, we called `sqrt_newton(20, 512, .01)` then 20 would have been assigned to `num` and 512 to `guess`.\n",
    "\n",
    "It is also valid to assign the values you want to pass to a function to variables first and then pass those variables to the function. All three arguments below are still positional."
   ]
  },
  {
   "cell_type": "code",
   "execution_count": null,
   "metadata": {},
   "outputs": [],
   "source": [
    "some_num = 999\n",
    "some_guess = 30\n",
    "some_error = .0001\n",
    "sqrt_newton(some_num, some_guess, some_error)"
   ]
  },
  {
   "cell_type": "markdown",
   "metadata": {},
   "source": [
    "### Keyword arguments\n",
    "\n",
    "Keyword arguments are those that are explicitly named in the function call. The order does not matter, since they are explicitly named. Each of the following function calls uses the same parameter values."
   ]
  },
  {
   "cell_type": "code",
   "execution_count": null,
   "metadata": {},
   "outputs": [],
   "source": [
    "a = sqrt_newton(num=512, guess=20, max_error=.01)\n",
    "b = sqrt_newton(guess=20, num=512, max_error=.01)\n",
    "c = sqrt_newton(max_error=.01, guess=20, num=512)\n",
    "a == b == c"
   ]
  },
  {
   "cell_type": "markdown",
   "metadata": {},
   "source": [
    "### Mixing positional and keyword arguments\n",
    "\n",
    "It is possible to use both positional and keyword arguments in the same function call. If you do so, the keyword arguments must come last. No positional argument can follow a keyword argument."
   ]
  },
  {
   "cell_type": "code",
   "execution_count": null,
   "metadata": {},
   "outputs": [],
   "source": [
    "sqrt_newton(512, 20, max_error=.01)"
   ]
  },
  {
   "cell_type": "markdown",
   "metadata": {},
   "source": [
    "Anytime you place a positional argument after a keyword argument, you'll get a syntax error."
   ]
  },
  {
   "cell_type": "code",
   "execution_count": null,
   "metadata": {},
   "outputs": [],
   "source": [
    "sqrt_newton(512, max_error=.01, 20)"
   ]
  },
  {
   "cell_type": "markdown",
   "metadata": {},
   "source": [
    "### Default values for parameters\n",
    "It is possible to assign default values to function parameters during the definition. This allows for the function to be called without explicitly passing an argument to that parameter. Let's redefine our square root function to have a default maximum error of .1."
   ]
  },
  {
   "cell_type": "code",
   "execution_count": null,
   "metadata": {},
   "outputs": [],
   "source": [
    "def sqrt_newton2(num, guess, max_error=.1):\n",
    "    error = abs(guess ** 2 - num)\n",
    "    while error > max_error:\n",
    "        guess -= (guess ** 2 - num) / (2 * guess)\n",
    "        error = abs(guess ** 2 - num)\n",
    "    return guess"
   ]
  },
  {
   "cell_type": "markdown",
   "metadata": {},
   "source": [
    "We no longer have to specify the `max_error` in our function call."
   ]
  },
  {
   "cell_type": "code",
   "execution_count": null,
   "metadata": {},
   "outputs": [],
   "source": [
    "sqrt_newton2(512, 20)"
   ]
  },
  {
   "cell_type": "markdown",
   "metadata": {},
   "source": [
    "If you do specify `max_error`, it will override the default value."
   ]
  },
  {
   "cell_type": "code",
   "execution_count": null,
   "metadata": {},
   "outputs": [],
   "source": [
    "sqrt_newton2(512, 20, .00001)"
   ]
  },
  {
   "cell_type": "markdown",
   "metadata": {},
   "source": [
    "## Keyword-only arguments\n",
    "\n",
    "In the above function definitions, each parameter was able to take either a positional or keyword argument. When an argument can be either position or keyword, we say that is a **positional-or-keyword** argument.\n",
    "\n",
    "Python gives us a way to make **keyword-only** arguments, meaning that the parameter name must be specified in the function call and if not, an error is raised. The syntax for defining keyword-only arguments is slightly bizarre. In the function, any parameter name following an asterisk is a keyword-only argument. Take a look at the following function definition.\n",
    "\n",
    "```\n",
    "def func(param1, *, param2, param3):\n",
    "    function body\n",
    "```\n",
    "\n",
    "The asterisk in the definition appears as though it is a parameter, but it is not. There are still only three total parameters. The asterisk followed by a comma is the syntax that Python has chosen to separate the keyword-optional and keyword-only arguments. The parameters `param2` and `param3` only accept keyword-only arguments. For instance, the following function calls would be illegal.\n",
    "\n",
    "```\n",
    "func(1, 2, 3)\n",
    "func(1, 2, param3=3)\n",
    "```\n",
    "\n",
    "Let's redefine our square root function so that `guess` and `max_error` must be passed keyword-only arguments."
   ]
  },
  {
   "cell_type": "code",
   "execution_count": null,
   "metadata": {},
   "outputs": [],
   "source": [
    "def sqrt_newton3(num, *, guess, max_error=.1):\n",
    "    error = abs(guess ** 2 - num)\n",
    "    while error > max_error:\n",
    "        guess -= (guess ** 2 - num) / (2 * guess)\n",
    "        error = abs(guess ** 2 - num)\n",
    "    return guess"
   ]
  },
  {
   "cell_type": "markdown",
   "metadata": {},
   "source": [
    "Forgetting to use the parameter name with a keyword-only argument will cause an error."
   ]
  },
  {
   "cell_type": "code",
   "execution_count": null,
   "metadata": {},
   "outputs": [],
   "source": [
    "sqrt_newton3(512, 20, max_error=.00001)"
   ]
  },
  {
   "cell_type": "markdown",
   "metadata": {},
   "source": [
    "Let's call the function correctly."
   ]
  },
  {
   "cell_type": "code",
   "execution_count": null,
   "metadata": {},
   "outputs": [],
   "source": [
    "sqrt_newton3(512, guess=20, max_error=.00001)"
   ]
  },
  {
   "cell_type": "markdown",
   "metadata": {},
   "source": [
    "The first parameter is keyword-optional, so you can supply the parameter name to it as well."
   ]
  },
  {
   "cell_type": "code",
   "execution_count": null,
   "metadata": {},
   "outputs": [],
   "source": [
    "sqrt_newton3(num=512, guess=20, max_error=.00001)"
   ]
  },
  {
   "cell_type": "markdown",
   "metadata": {},
   "source": [
    "## Positional-only arguments\n",
    "\n",
    "**Positional-only** arguments is a new feature made available for Python 3.8 which was released in October, 2019. As the name implies, positional-only arguments must be passed as positional (without their keyword) or else an error will be raised.\n",
    "\n",
    "### Syntax for positional-only arguments\n",
    "\n",
    "To declare that a parameter only accept positional-only arguments, use a forward slash, `/`, in the function definition as if it were a parameter name. All parameter names that appear **before** this forward slash are positional-only. Take a look at the function definition below. Parameters `a` and `b` are positional-only, while parameters `c` and `d` are positional-or-keyword.\n",
    "\n",
    "```\n",
    "def foo(a, b, /, c, d):\n",
    "```\n",
    "\n",
    "It is possible to define a function that contains positional-only, positional-or-keyword, and keyword-only arguments. In the function below, we've extended the definition from above to add `e` and `f` as keyword-only.\n",
    "\n",
    "```\n",
    "def foo(a, b, /, c, d, *, e, f):\n",
    "```\n",
    "\n",
    "It is possible to define a function with positional-only and keyword-only arguments but no positional-or-keyword arguments.\n",
    "\n",
    "```\n",
    "def foo(a, b, /, *, e, f):\n",
    "```\n",
    "\n",
    "Let's define a function that only accepts positional-only arguments and another one that only accepts keyword-only arguments.\n",
    "\n",
    "```\n",
    "def foo(a, b, /):   # only positional-only\n",
    "def foo(*, e, f):   # only keyword-only\n",
    "```\n",
    "\n",
    "At the time of this writing, Python 3.8 has not been released, so providing concrete examples is not yet available. If you are interested in learning the formal process for how this feature came to be part of the language, [visit PEP 570][0]. A **PEP** stands for Python Enhancement Proposal and is the formal process for how new features are added to the language.\n",
    "\n",
    "### Built-in functions with positional-only arguments\n",
    "\n",
    "Interestingly, there are several built-in functions that accept positional-only arguments. These functions have been part of Python for a long time. It's only with Python 3.8 that you can define positional-only arguments.\n",
    "\n",
    "Take a look at the built-in `sum` **signature** below. The signature is a term used to reference the name and parameters of a function. The signature is the first line of a function that comes after the keyword `def`. Get this signature can be seen by running `help(sum)`.\n",
    "\n",
    "```\n",
    "sum(iterable, start=0, /)\n",
    "```\n",
    "\n",
    "Take note of the forward slash at the end of the function signature. This is the same forward slash that informs us that all the parameters before it are positional-only. Let's define an iterable (a list of integers) and pass it to the `sum` function calling it correctly (without using parameter names).\n",
    "\n",
    "[0]: https://www.python.org/dev/peps/pep-0570/"
   ]
  },
  {
   "cell_type": "code",
   "execution_count": null,
   "metadata": {},
   "outputs": [],
   "source": [
    "a = [5, 3, 1]\n",
    "sum(a)"
   ]
  },
  {
   "cell_type": "markdown",
   "metadata": {},
   "source": [
    "If we try and use the `iterable` parameter name in the function, we'll get an error. Keyword arguments are not allowed."
   ]
  },
  {
   "cell_type": "code",
   "execution_count": null,
   "metadata": {},
   "outputs": [],
   "source": [
    "sum(iterable=a)"
   ]
  },
  {
   "cell_type": "markdown",
   "metadata": {},
   "source": [
    "The `start` parameter is also positional-only and defaulted to 0. Let's change it using correct syntax to a different number."
   ]
  },
  {
   "cell_type": "code",
   "execution_count": null,
   "metadata": {},
   "outputs": [],
   "source": [
    "sum(a, 10)"
   ]
  },
  {
   "cell_type": "markdown",
   "metadata": {},
   "source": [
    "Attempting to use this parameter's name in the function call will cause the same error."
   ]
  },
  {
   "cell_type": "code",
   "execution_count": null,
   "metadata": {},
   "outputs": [],
   "source": [
    "sum(a, start=10)"
   ]
  },
  {
   "cell_type": "markdown",
   "metadata": {},
   "source": [
    "## Documenting functions with docstrings\n",
    "\n",
    "Documentation is written in natural language (like English) that helps users understand and use the software it was written for. In Python, we write documentation for our functions in the function body itself as a literal string. This documentation is known as **docstrings**. They must be placed immediately below the function signature. Typically, they are several lines in length and therefore are placed in triple quotes. \n",
    "\n",
    "### numpy docstrings\n",
    "You are allowed to write docstrings however you wish, but a popular format comes from the numpy library. numpy docstrings begin with an overall description of the function followed by a number of sections. All section titles have dashes on the line below it. The **Parameters** and **Returns** sections are the most important and should be created for each function. Read a detailed description of the [numpy docstring standard][0].\n",
    "\n",
    "In the Parameters section, write the name of each parameter followed by a space and a colon. Write the types of object that this parameter can accept. On the next line, write a description of how this parameter value is used. In the Returns section, write a short description of what is returned along with what type of object that is returned. Let's document our last square root function.\n",
    "\n",
    "[0]: https://numpydoc.readthedocs.io/en/latest/format.html#docstring-standard"
   ]
  },
  {
   "cell_type": "code",
   "execution_count": null,
   "metadata": {},
   "outputs": [],
   "source": [
    "def sqrt_newton3(num, *, guess, max_error=.1):\n",
    "    '''\n",
    "    Returns the square root of a number using Newtons method\n",
    "    \n",
    "    Parameters\n",
    "    ----------\n",
    "    num : int or float\n",
    "        a positive integer that you would like to take the square root of\n",
    "    guess : int or float\n",
    "        a rough estimate of what the square root is\n",
    "    error : int or float\n",
    "        the maximum error you are willing to accept before returning the \n",
    "        approximate square root. Default is .1\n",
    "    \n",
    "    Returns\n",
    "    -------\n",
    "    The approximate square root of `num` as a float\n",
    "    \n",
    "    Examples\n",
    "    --------\n",
    "    >>> sqrt_newton3(100, guess=8, max_error=.00001)\n",
    "    10.000000464611473\n",
    "    '''\n",
    "    error = abs(guess ** 2 - num)\n",
    "    while error > max_error:\n",
    "        guess -= (guess ** 2 - num) / (2 * guess)\n",
    "        error = abs(guess ** 2 - num)\n",
    "    return guess"
   ]
  },
  {
   "cell_type": "markdown",
   "metadata": {},
   "source": [
    "### Getting help on your own function\n",
    "You can get help on your own function in the exact same manner that you get help with any other function. Pass it to the `help` function or press **shift + tab + tab** in a Jupyter Notebook. The docstring that you just created will be visible."
   ]
  },
  {
   "cell_type": "code",
   "execution_count": null,
   "metadata": {},
   "outputs": [],
   "source": [
    "help(sqrt_newton3)"
   ]
  },
  {
   "cell_type": "markdown",
   "metadata": {},
   "source": [
    "## Functions are objects\n",
    "Functions are objects just like booleans, integers, floats, strings, lists, and others that we have covered. We know that all objects have a type and and identity (a unique location in memory). Let's view the type and identity of both the built-in `sum` function and a UDF."
   ]
  },
  {
   "cell_type": "code",
   "execution_count": null,
   "metadata": {},
   "outputs": [],
   "source": [
    "type(sum)"
   ]
  },
  {
   "cell_type": "code",
   "execution_count": null,
   "metadata": {},
   "outputs": [],
   "source": [
    "id(sum)"
   ]
  },
  {
   "cell_type": "code",
   "execution_count": null,
   "metadata": {},
   "outputs": [],
   "source": [
    "type(sqrt_newton3)"
   ]
  },
  {
   "cell_type": "code",
   "execution_count": null,
   "metadata": {},
   "outputs": [],
   "source": [
    "id(sqrt_newton3)"
   ]
  },
  {
   "cell_type": "markdown",
   "metadata": {},
   "source": [
    "### Assigning functions to a variable\n",
    "\n",
    "It might seem strange that we passed the `sum` function above to `type` from above, but in Python functions are like any other object and therefore can be assigned to a variable. Let's assign the built-in `sum` function to the variable `sum_function`."
   ]
  },
  {
   "cell_type": "code",
   "execution_count": null,
   "metadata": {},
   "outputs": [],
   "source": [
    "sum_function = sum"
   ]
  },
  {
   "cell_type": "markdown",
   "metadata": {},
   "source": [
    "That probably looks pretty bizarre, but it's no different than assigning an integer (or any other object) to a variable. The variable name `sum_function` now references the built-in `sum` function. Let's verify that it references the same underlying object."
   ]
  },
  {
   "cell_type": "code",
   "execution_count": null,
   "metadata": {},
   "outputs": [],
   "source": [
    "sum_function is sum"
   ]
  },
  {
   "cell_type": "markdown",
   "metadata": {},
   "source": [
    "We can call `sum_function` just as we do `sum` and will get the same result."
   ]
  },
  {
   "cell_type": "code",
   "execution_count": null,
   "metadata": {},
   "outputs": [],
   "source": [
    "a = [1, 2, 3]\n",
    "sum_function(a)"
   ]
  },
  {
   "cell_type": "markdown",
   "metadata": {},
   "source": [
    "### Passing a function to a function\n",
    "\n",
    "Again, like any other object, a function may be passed as an argument to another function. Let's define a new function, `aggregate_list`, which will aggregate (return a single number) a list of objects. It accepts a list and a function as arguments."
   ]
  },
  {
   "cell_type": "code",
   "execution_count": null,
   "metadata": {},
   "outputs": [],
   "source": [
    "def aggregate_list(a_list, func):\n",
    "    return func(a_list)"
   ]
  },
  {
   "cell_type": "markdown",
   "metadata": {},
   "source": [
    "Let's call this function by passing it a list of integers and the `sum` function. The result is the same as if we had just called the `sum` function outright."
   ]
  },
  {
   "cell_type": "code",
   "execution_count": null,
   "metadata": {},
   "outputs": [],
   "source": [
    "aggregate_list([1, 2, 3], sum)"
   ]
  },
  {
   "cell_type": "markdown",
   "metadata": {},
   "source": [
    "### Functions are callable\n",
    "\n",
    "A function is a type of object that is **callable**, meaning that it if you append a set of parentheses to it, some code block will be executed. In Python, it is possible to create new types (that are not functions) that are callable. Doing so is a more advanced topic and will be covered in a different chapter.\n",
    "\n",
    "You can determine if an object is callable by using the `callable` built-in function. Pass this function an object and it will return a boolean indicating whether or not it is callable. For instance, the `sum` built-in function is callable while a list is not."
   ]
  },
  {
   "cell_type": "code",
   "execution_count": null,
   "metadata": {},
   "outputs": [],
   "source": [
    "callable(sum)"
   ]
  },
  {
   "cell_type": "code",
   "execution_count": null,
   "metadata": {},
   "outputs": [],
   "source": [
    "a = [1, 2, 3]\n",
    "callable(a)"
   ]
  },
  {
   "cell_type": "markdown",
   "metadata": {},
   "source": [
    "## Function attributes and methods\n",
    "\n",
    "Yet again, functions are no different than any other object and have their own attributes and methods that may be accessed and called with dot notation. All of a function's attributes and methods are 'special' or 'magic' and begin and end with two underscores. While we typically do not use these special names, there are occasions where it is necessary to access them. \n",
    "\n",
    "Below, we'll examine a few of these special attributes. We can return the name of the function as a string with the `__name__` attribute."
   ]
  },
  {
   "cell_type": "code",
   "execution_count": null,
   "metadata": {},
   "outputs": [],
   "source": [
    "sqrt_newton3.__name__"
   ]
  },
  {
   "cell_type": "markdown",
   "metadata": {},
   "source": [
    "The docstring is stored as a string in the `__doc__` attribute"
   ]
  },
  {
   "cell_type": "code",
   "execution_count": null,
   "metadata": {},
   "outputs": [],
   "source": [
    "sqrt_newton3.__doc__"
   ]
  },
  {
   "cell_type": "markdown",
   "metadata": {},
   "source": [
    "Any parameters that have default values are found in the `__kwdefaults__` attribute. This returns a dictionary mapping the parameter name to its default value."
   ]
  },
  {
   "cell_type": "code",
   "execution_count": null,
   "metadata": {},
   "outputs": [],
   "source": [
    "sqrt_newton3.__kwdefaults__"
   ]
  },
  {
   "cell_type": "markdown",
   "metadata": {},
   "source": [
    "It's actually possible to set these attributes with new values by using an assignment statement. Here, we replace our detailed docstring with a very short description."
   ]
  },
  {
   "cell_type": "code",
   "execution_count": null,
   "metadata": {},
   "outputs": [],
   "source": [
    "sqrt_newton3.__doc__ = 'takes the square root'"
   ]
  },
  {
   "cell_type": "markdown",
   "metadata": {},
   "source": [
    "We can verify that the docstring has been updated by printing it to the screen with the `help` function."
   ]
  },
  {
   "cell_type": "code",
   "execution_count": null,
   "metadata": {},
   "outputs": [],
   "source": [
    "help(sqrt_newton3)"
   ]
  },
  {
   "cell_type": "markdown",
   "metadata": {},
   "source": [
    "There are many more special attributes and methods available to functions, but they are not necessary to cover at this stage and you will rarely, if ever, use most of them."
   ]
  },
  {
   "cell_type": "markdown",
   "metadata": {},
   "source": [
    "### First-class objects\n",
    "\n",
    "The term **first-class objects** is sometimes used to describe functions. This simply means that functions behave just like any other object in Python. You can assign them to a variable, pass them to a function and return them from a function. Every object in Python is a first-class object."
   ]
  },
  {
   "cell_type": "markdown",
   "metadata": {},
   "source": [
    "## Some built-in 'functions' are not functions\n",
    "\n",
    "At the top of this chapter, a link was provided to a section in the official documentation that's given the title 'Built-in Functions'. In that section, 70 built-in functions are listed in a table. Unfortunately, this section is mis-labeled. While most of the names listed are functions, about one-third are types. For instance, `bool`, `int`, `float`, `str`, `range`, and `list` are some types that we have covered thus far that are listed in this built-in functions section.\n",
    "\n",
    "The section mentions \"The Python interpreter has a number of functions and **types** built into it that are always available\" (emphasis added), but perhaps it would have been clearer if there were separate sections for the built-in functions and built-in types."
   ]
  },
  {
   "cell_type": "markdown",
   "metadata": {},
   "source": [
    "## Anonymous functions\n",
    "Python has the ability to create functions in one line that are not referred to by a name. All of our previous functions have names given to them directly after the `def` keyword. **Anonymous** functions have no reference name.\n",
    "\n",
    "They are declared using the keyword `lambda` and not with `def`. All anonymous functions are exactly one line each. They are useful only in situations where a single Python expression is needed.\n",
    "\n",
    "Anonymous function syntax begins with the `lambda` keyword followed by a comma separated list of parameter names, then a colon, followed by its expression. Their generic format is:\n",
    "\n",
    "```\n",
    "lambda param1, param2, param3: a single Python expression\n",
    "```\n",
    "\n",
    "To help understand anonymous functions, let's create two versions of a function that adds two numbers together. One normal function and the other anonymous.\n",
    "\n",
    "### Add two numbers - normal function"
   ]
  },
  {
   "cell_type": "code",
   "execution_count": null,
   "metadata": {},
   "outputs": [],
   "source": [
    "def add_two(x, y): \n",
    "    return x + y"
   ]
  },
  {
   "cell_type": "markdown",
   "metadata": {},
   "source": [
    "### Add two numbers - anonymous function"
   ]
  },
  {
   "cell_type": "code",
   "execution_count": null,
   "metadata": {},
   "outputs": [],
   "source": [
    "lambda x, y: x + y"
   ]
  },
  {
   "cell_type": "markdown",
   "metadata": {},
   "source": [
    "### Major differences - no name and no return keyword\n",
    "Let's discuss the similarities and differences between normal and anonymous functions. They both begin with a keyword - `def` or `lambda`. With normal functions, the function name immediately follows the `def` keyword. Anonymous functions have no name. Above, the normal function is named `add_two`. The parameter names are the same for both except that they are not wrapped in parentheses with anonymous functions. Anonymous functions return the value that their expressions evaluate as without using the `return` keyword.\n",
    "\n",
    "### Anonymous functions are not assigned to a variable name\n",
    "The anonymous function defined above is not assigned to any variable name and thus not accessible after it is defined. However, you can give it a name by using an assignment statement."
   ]
  },
  {
   "cell_type": "code",
   "execution_count": null,
   "metadata": {},
   "outputs": [],
   "source": [
    "add_two2 = lambda x, y: x + y"
   ]
  },
  {
   "cell_type": "markdown",
   "metadata": {},
   "source": [
    "### `add_two_2` is not anonymous\n",
    "The name `add_two_2` is now a reference to a function that adds two numbers together. There is no anonymity anymore. The anonymous function syntax was used to create a normal named function. Let's call both functions to show that they produce the same result."
   ]
  },
  {
   "cell_type": "code",
   "execution_count": null,
   "metadata": {},
   "outputs": [],
   "source": [
    "add_two(5, 8)"
   ]
  },
  {
   "cell_type": "code",
   "execution_count": null,
   "metadata": {},
   "outputs": [],
   "source": [
    "add_two2(5, 8)"
   ]
  },
  {
   "cell_type": "markdown",
   "metadata": {},
   "source": [
    "### What's the use of anonymous functions?\n",
    "At first glance, it appears that anonymous functions would have no use as at most they only shorten the amount of code written for a one-line function. They actually aren't all that useful and the creator of Python had wanted to remove them at one point. However, they can come in handy when you want to create a quick function that does one small task without defining an entire function. We will now see a few examples where their moderate usefulness shines through.\n",
    "\n",
    "Before we use an anonymous functions, let's review the builtin `sorted` function. It gets passed an iterable and returns the sorted version of that iterable in a list. Let's sort a list of strings:"
   ]
  },
  {
   "cell_type": "code",
   "execution_count": null,
   "metadata": {},
   "outputs": [],
   "source": [
    "string_list = ['banana', 'strawberry', 'orange', 'apple']\n",
    "sorted(string_list)"
   ]
  },
  {
   "cell_type": "markdown",
   "metadata": {},
   "source": [
    "### Non-natural order\n",
    "\n",
    "Most Python objects have built-in rules for ordering. Strings have a natural lexicographic ordering. But what if you wanted to sort by the second letter of the string above? This is actually possible, but you must use the `key` parameter. The documentation tells us that we pass it a custom function to customize the sort order. Let's first create a normal function that returns the second letter from a string that is passed to it."
   ]
  },
  {
   "cell_type": "code",
   "execution_count": null,
   "metadata": {},
   "outputs": [],
   "source": [
    "def sec_letter(word):\n",
    "    return word[1]"
   ]
  },
  {
   "cell_type": "markdown",
   "metadata": {},
   "source": [
    "Let's test this function by passing it a string."
   ]
  },
  {
   "cell_type": "code",
   "execution_count": null,
   "metadata": {},
   "outputs": [],
   "source": [
    "sec_letter('test')"
   ]
  },
  {
   "cell_type": "markdown",
   "metadata": {},
   "source": [
    "### Passing a function to the `key` parameter\n",
    "\n",
    "We can now pass the `sec_letter` function to the `key` parameter. The `sorted` function will pass each item in the iterable to this function first. It will take the returned values from this custom function and use them to sort. Let's sort by the second letter."
   ]
  },
  {
   "cell_type": "code",
   "execution_count": null,
   "metadata": {},
   "outputs": [],
   "source": [
    "sorted(string_list, key=sec_letter)"
   ]
  },
  {
   "cell_type": "markdown",
   "metadata": {},
   "source": [
    "### A use case for anonymous functions\n",
    "Instead of declaring the function `sec_letter`, it is possible to use an anonymous function and pass it to the `key` parameter directly."
   ]
  },
  {
   "cell_type": "code",
   "execution_count": null,
   "metadata": {},
   "outputs": [],
   "source": [
    "sorted(string_list, key = lambda word: word[1])"
   ]
  },
  {
   "cell_type": "markdown",
   "metadata": {},
   "source": [
    "### When to use lambda/def\n",
    "Many programmers do not like lambda functions as it can hide complexity if there is too much in one line. Generally lambda functions should be simple functions that are easily read in one line of code. If they become too complex, it's best to write a normal function with multiple lines. \n",
    "\n",
    "Below is an example of an overly complex lambda function. This complex anonymous function takes the difference between the min and max ordinal value of each word as the key."
   ]
  },
  {
   "cell_type": "code",
   "execution_count": null,
   "metadata": {},
   "outputs": [],
   "source": [
    "sorted(string_list, key=lambda w: max([ord(let) for let in w]) - \n",
    "                                  min([ord(let) for let in w]))"
   ]
  },
  {
   "cell_type": "markdown",
   "metadata": {},
   "source": [
    "## The built-in `map` and `filter`\n",
    "\n",
    "The two built-in objects, `map` and `filter`, are seldom used because list comprehensions accomplish similar tasks in a more efficient and readable manner. Both `map` and `filter` are technically `types` just like integers or lists, but they are often referred to as functions. This improper characterization isn't problematic as we almost never call methods from these types of objects and are only calling their constructor. In fact, both were functions in Python 2.\n",
    "\n",
    "The `map` constructor takes two arguments, a function and an iterable. Each item in the iterable will be passed to the function. You will often see anonymous functions used for the function passed to `map`. Below, we create a list of integers and then double them by passing an anonymous function to `map`."
   ]
  },
  {
   "cell_type": "code",
   "execution_count": null,
   "metadata": {},
   "outputs": [],
   "source": [
    "my_list = [5, 8, -9, 0, 3]\n",
    "mapped_obj = map(lambda x: x * 2, my_list)\n",
    "mapped_obj"
   ]
  },
  {
   "cell_type": "markdown",
   "metadata": {},
   "source": [
    "Creating a `map` object doesn't actually pass each item in the iterable to the function. In fact, almost nothing has happened, which is why the output from above doesn't show any of the new values. The new `map` object is iterable. Once you iterate through it, the function will be called on each item of the original iterable you gave it. Let's pass it to the list constructor, which will then trigger the function and create a list of the new values."
   ]
  },
  {
   "cell_type": "code",
   "execution_count": null,
   "metadata": {},
   "outputs": [],
   "source": [
    "list(mapped_obj)"
   ]
  },
  {
   "cell_type": "markdown",
   "metadata": {},
   "source": [
    "### This is the exact same as a list comprehension\n",
    "\n",
    "A list comprehension can accomplish the same thing with more readability."
   ]
  },
  {
   "cell_type": "code",
   "execution_count": null,
   "metadata": {},
   "outputs": [],
   "source": [
    "my_list = [5, 8, -9, 0, 3]\n",
    "[x * 2 for x in my_list]"
   ]
  },
  {
   "cell_type": "markdown",
   "metadata": {},
   "source": [
    "### The `filter` 'function'"
   ]
  },
  {
   "cell_type": "markdown",
   "metadata": {},
   "source": [
    "The `filter` 'function' works analogously to `map` and takes the same two types of arguments, a function and an iterable. In this case, the function must return a boolean value. Again, each item in the iterable will eventually be passed to the function. Let's use an anonymous to create a filter that returns `True` only for values larger than 4."
   ]
  },
  {
   "cell_type": "code",
   "execution_count": null,
   "metadata": {},
   "outputs": [],
   "source": [
    "filtered_obj = filter(lambda x: x > 4, my_list)\n",
    "filtered_obj"
   ]
  },
  {
   "cell_type": "markdown",
   "metadata": {},
   "source": [
    "As with `map`, the function has not been evaluated yet, and an iterable object is returned. To see the values directly, we can again pass this object to the list constructor."
   ]
  },
  {
   "cell_type": "code",
   "execution_count": null,
   "metadata": {},
   "outputs": [],
   "source": [
    "list(filtered_obj)"
   ]
  },
  {
   "cell_type": "markdown",
   "metadata": {},
   "source": [
    "Again, this is no different than a conditional list comprehension."
   ]
  },
  {
   "cell_type": "code",
   "execution_count": null,
   "metadata": {},
   "outputs": [],
   "source": [
    "[x for x in my_list if x > 4]"
   ]
  },
  {
   "cell_type": "markdown",
   "metadata": {},
   "source": [
    "We can combine `map` and `filter` together to filter our list and then apply a function to each of the remaining items. Here, we filter out all numbers less than or equal to four and then double them."
   ]
  },
  {
   "cell_type": "code",
   "execution_count": null,
   "metadata": {},
   "outputs": [],
   "source": [
    "filtered_obj = filter(lambda x: x > 4, my_list)\n",
    "mapped_obj = map(lambda x: x * 2, filtered_obj)\n",
    "list(mapped_obj)"
   ]
  },
  {
   "cell_type": "markdown",
   "metadata": {},
   "source": [
    "But, this is accomplished more easily with a conditional list comprehension."
   ]
  },
  {
   "cell_type": "code",
   "execution_count": null,
   "metadata": {},
   "outputs": [],
   "source": [
    "[x * 2 for x in my_list if x > 4]"
   ]
  },
  {
   "cell_type": "markdown",
   "metadata": {},
   "source": [
    "## Rules of Thumb for Functions\n",
    "Generally speaking, most professional Python code is written inside of a function or a method. Functions should do one task and do it well. If you find yourself writing a function that is doing more than one task it's probably best to break it up into multiple functions. \n",
    "\n",
    "Although you can write functions with any number of lines, functions greater than about 20 lines of code can signal that they need to be broken up into multiple different functions. [Heres a good Stack Exchange answer](http://softwareengineering.stackexchange.com/questions/133404/what-is-the-ideal-length-of-a-method-for-you/133406#133406) on writing functions."
   ]
  },
  {
   "cell_type": "markdown",
   "metadata": {},
   "source": [
    "## Exercises"
   ]
  },
  {
   "cell_type": "markdown",
   "metadata": {},
   "source": [
    "### Exercise 1\n",
    "\n",
    "<span style=\"color:green\">Create three different variables with three different data types then use the `type` function to verify that the types are indeed different</span>"
   ]
  },
  {
   "cell_type": "code",
   "execution_count": null,
   "metadata": {},
   "outputs": [],
   "source": [
    "a = 1\n",
    "b = 4.5\n",
    "c = 'adf'"
   ]
  },
  {
   "cell_type": "code",
   "execution_count": null,
   "metadata": {},
   "outputs": [],
   "source": [
    "type(a)"
   ]
  },
  {
   "cell_type": "code",
   "execution_count": null,
   "metadata": {},
   "outputs": [],
   "source": [
    "type(b)"
   ]
  },
  {
   "cell_type": "code",
   "execution_count": null,
   "metadata": {},
   "outputs": [],
   "source": [
    "type(c)"
   ]
  },
  {
   "cell_type": "markdown",
   "metadata": {},
   "source": [
    "### Exercise 2\n",
    "\n",
    "<span style=\"color:green\">The `eval` builtin function, takes a string as an argument and executes that string if it were Python code. Create a variable that stores a string that looks like Python code. Then use the `eval` function to execute this code string.</span>"
   ]
  },
  {
   "cell_type": "code",
   "execution_count": null,
   "metadata": {},
   "outputs": [],
   "source": [
    "eval('5 + 7 * 10')"
   ]
  },
  {
   "cell_type": "markdown",
   "metadata": {},
   "source": [
    "### Exercise 3\n",
    "\n",
    "<span style=\"color:green\">Use the help or [read the official documentation](https://docs.python.org/3/library/functions.html) about how to use the `all` and `any` functions and use them correctly below.</span>"
   ]
  },
  {
   "cell_type": "code",
   "execution_count": null,
   "metadata": {},
   "outputs": [],
   "source": [
    "a = [True, True, True, False]"
   ]
  },
  {
   "cell_type": "code",
   "execution_count": null,
   "metadata": {},
   "outputs": [],
   "source": [
    "all(a)"
   ]
  },
  {
   "cell_type": "code",
   "execution_count": null,
   "metadata": {},
   "outputs": [],
   "source": [
    "any(a)"
   ]
  },
  {
   "cell_type": "markdown",
   "metadata": {},
   "source": [
    "### Exercise 4\n",
    "\n",
    "<span style=\"color:green\">Define a function that finds the area of a circle. The function takes a single parameter, the radius, and defaults its value to 0 if it's not given. Add docstrings to the function.</span>"
   ]
  },
  {
   "cell_type": "code",
   "execution_count": null,
   "metadata": {},
   "outputs": [],
   "source": [
    "import math"
   ]
  },
  {
   "cell_type": "code",
   "execution_count": null,
   "metadata": {},
   "outputs": [],
   "source": [
    "math.cos(1)"
   ]
  },
  {
   "cell_type": "code",
   "execution_count": null,
   "metadata": {},
   "outputs": [],
   "source": [
    "math.pi"
   ]
  },
  {
   "cell_type": "code",
   "execution_count": null,
   "metadata": {},
   "outputs": [],
   "source": [
    "def area(radius=0):\n",
    "    return math.pi * radius ** 2"
   ]
  },
  {
   "cell_type": "code",
   "execution_count": null,
   "metadata": {},
   "outputs": [],
   "source": [
    "area(5)"
   ]
  },
  {
   "cell_type": "markdown",
   "metadata": {},
   "source": [
    "### Exercise 5\n",
    "\n",
    "<span style=\"color:green\">Create a function that takes a string argument and returns True or False whether the string is a palindrome (spelled the same forward and backwards)</span>"
   ]
  },
  {
   "cell_type": "code",
   "execution_count": null,
   "metadata": {},
   "outputs": [],
   "source": [
    "s = 'yankees in world series'"
   ]
  },
  {
   "cell_type": "code",
   "execution_count": null,
   "metadata": {},
   "outputs": [],
   "source": [
    "s[5]"
   ]
  },
  {
   "cell_type": "code",
   "execution_count": null,
   "metadata": {},
   "outputs": [],
   "source": [
    "s[5:]"
   ]
  },
  {
   "cell_type": "code",
   "execution_count": null,
   "metadata": {},
   "outputs": [],
   "source": [
    "s[::-1]"
   ]
  },
  {
   "cell_type": "code",
   "execution_count": null,
   "metadata": {},
   "outputs": [],
   "source": [
    "def is_palindrome(word):\n",
    "    reverse = word[::-1]\n",
    "    return reverse == word"
   ]
  },
  {
   "cell_type": "code",
   "execution_count": null,
   "metadata": {},
   "outputs": [],
   "source": [
    "is_palindrome('computer')"
   ]
  },
  {
   "cell_type": "code",
   "execution_count": null,
   "metadata": {},
   "outputs": [],
   "source": [
    "is_palindrome('dad')"
   ]
  },
  {
   "cell_type": "code",
   "execution_count": null,
   "metadata": {},
   "outputs": [],
   "source": [
    "is_palindrome('racecar')"
   ]
  },
  {
   "cell_type": "code",
   "execution_count": null,
   "metadata": {},
   "outputs": [],
   "source": []
  },
  {
   "cell_type": "code",
   "execution_count": null,
   "metadata": {},
   "outputs": [],
   "source": []
  },
  {
   "cell_type": "markdown",
   "metadata": {},
   "source": [
    "### Exercise 6\n",
    "\n",
    "<span style=\"color:green\">Create a function `concat_sort_list` that takes two lists and concatenates them together, sorts the list and then returns the sorted list.</span>"
   ]
  },
  {
   "cell_type": "code",
   "execution_count": null,
   "metadata": {},
   "outputs": [],
   "source": [
    "def concat_sort_list(list1, list2):\n",
    "    list3 = list1 + list2\n",
    "    return soted()"
   ]
  },
  {
   "cell_type": "code",
   "execution_count": null,
   "metadata": {},
   "outputs": [],
   "source": []
  },
  {
   "cell_type": "code",
   "execution_count": null,
   "metadata": {},
   "outputs": [],
   "source": []
  },
  {
   "cell_type": "code",
   "execution_count": null,
   "metadata": {},
   "outputs": [],
   "source": []
  },
  {
   "cell_type": "code",
   "execution_count": null,
   "metadata": {},
   "outputs": [],
   "source": []
  },
  {
   "cell_type": "code",
   "execution_count": null,
   "metadata": {},
   "outputs": [],
   "source": [
    "# test code with\n",
    "concat_sort_list([4, 5, 2], [9, 0, -8]) == [-8, 0, 2, 4, 5, 9]"
   ]
  },
  {
   "cell_type": "markdown",
   "metadata": {},
   "source": [
    "### Exercise 7\n",
    "\n",
    "<span style=\"color:green\">Create an anonymous function that calculates the area of a circle. Store it to a variable and check that it works.</span>"
   ]
  },
  {
   "cell_type": "code",
   "execution_count": null,
   "metadata": {},
   "outputs": [],
   "source": []
  },
  {
   "cell_type": "markdown",
   "metadata": {},
   "source": [
    "### Exercise 8\n",
    "\n",
    "<span style=\"color:green\">Use the sorted function to sort a list of strings using the last letter. Use an anonymous function passed to the key argument.</span>"
   ]
  },
  {
   "cell_type": "code",
   "execution_count": null,
   "metadata": {},
   "outputs": [],
   "source": []
  },
  {
   "cell_type": "markdown",
   "metadata": {},
   "source": [
    "### Exercise 9\n",
    "\n",
    "<span style=\"color:green\">Create a list of integers and sort them by their last digit. Use an anonymous function passed to the key argument.</span>"
   ]
  },
  {
   "cell_type": "code",
   "execution_count": null,
   "metadata": {},
   "outputs": [],
   "source": []
  },
  {
   "cell_type": "markdown",
   "metadata": {},
   "source": [
    "### Advanced Exercise 10\n",
    "\n",
    "<span style=\"color:green\">Use the sorted function (with the **`key`** parameter) to sort a list of strings by the third highest alphabetical letter. Use a lambda expression to find this third highest letter. Take the word **python** for example. If you sort it by letter it becomes **hnopty**. The third highest letter is therefore 'o'.</span>"
   ]
  },
  {
   "cell_type": "code",
   "execution_count": null,
   "metadata": {},
   "outputs": [],
   "source": []
  },
  {
   "cell_type": "markdown",
   "metadata": {},
   "source": [
    "### Exercise 11\n",
    "\n",
    "<span style=\"color:green\">Use the map function to square each number in a list. Do the same with a list comprehension</span>"
   ]
  },
  {
   "cell_type": "code",
   "execution_count": null,
   "metadata": {},
   "outputs": [],
   "source": []
  },
  {
   "cell_type": "markdown",
   "metadata": {},
   "source": [
    "### Exercise 12\n",
    "\n",
    "<span style=\"color:green\">Read the documentation on the **`filter`** builtin function. Use an anonymous function to filter out the even values from a range object of values 0 to 9</span>"
   ]
  },
  {
   "cell_type": "code",
   "execution_count": null,
   "metadata": {},
   "outputs": [],
   "source": []
  },
  {
   "cell_type": "markdown",
   "metadata": {},
   "source": [
    "### Exercise 13\n",
    "\n",
    "<span style=\"color:green\">Read the documentation on the **`reduce`** function which is part of the functools standard library. Use an anonymous function to sum up all the values from 0 to 9</span>"
   ]
  },
  {
   "cell_type": "code",
   "execution_count": null,
   "metadata": {},
   "outputs": [],
   "source": [
    "from functools import reduce"
   ]
  },
  {
   "cell_type": "markdown",
   "metadata": {},
   "source": [
    "### Exercise 14: Advanced\n",
    "\n",
    "<span style=\"color:green\">Use **`map, reduce and filter`** to take the numbers 0 to 9, square them, filter out the even numbers and multiply the remaining together. This can be done in one line</span>"
   ]
  },
  {
   "cell_type": "code",
   "execution_count": null,
   "metadata": {},
   "outputs": [],
   "source": []
  },
  {
   "cell_type": "markdown",
   "metadata": {},
   "source": [
    "### Exercise 15\n",
    "\n",
    "<span style=\"color:green\">Write a normal function that replicates the one defined in Exercise 14.</span>"
   ]
  },
  {
   "cell_type": "code",
   "execution_count": null,
   "metadata": {},
   "outputs": [],
   "source": []
  },
  {
   "cell_type": "markdown",
   "metadata": {},
   "source": [
    "### Exercise 16: Advanced\n",
    "\n",
    "<span style=\"color:green\">Use list comprehensions and the **`sum`** function to take the numbers 0 to 9, square the even numbers, and sum them all up</span>"
   ]
  },
  {
   "cell_type": "code",
   "execution_count": null,
   "metadata": {},
   "outputs": [],
   "source": []
  },
  {
   "cell_type": "markdown",
   "metadata": {},
   "source": [
    "### Exercise 17: Advanced\n",
    "<span style=\"color:green\">In this Exercise you will write a function to transpose a two dimensional matrix. Transposing a matrix means to make the rows become the columns and vice versa. Create your matrix by creating a list of lists. In this case just choose a simple matrix like a 2 by 3.</span>"
   ]
  },
  {
   "cell_type": "code",
   "execution_count": null,
   "metadata": {},
   "outputs": [],
   "source": [
    "matrix = [[1,2,3], [4,5,6]]\n",
    "for row in matrix:\n",
    "    print(row)"
   ]
  },
  {
   "cell_type": "code",
   "execution_count": null,
   "metadata": {},
   "outputs": [],
   "source": []
  },
  {
   "cell_type": "markdown",
   "metadata": {},
   "source": [
    "### Exercise 18\n",
    "<span style=\"color:green\">Write a function that returns the roll of two dice. Use the random.randint function</span>"
   ]
  },
  {
   "cell_type": "code",
   "execution_count": null,
   "metadata": {},
   "outputs": [],
   "source": [
    "import random"
   ]
  },
  {
   "cell_type": "markdown",
   "metadata": {},
   "source": [
    "### Exercise 19\n",
    "<span style=\"color:green\">You will write a function that plays a simple dice game. The game works as follows: You roll two dice and record the sum. You keep rolling the two dice until you re-roll your original total. Return the number of rolls it took to re-roll the original total. Do not simulate the original roll. Instead use an argument to pass the function a number between 2 and 12. Use the function you created in Exercise 19 to roll the dice. </span>"
   ]
  },
  {
   "cell_type": "code",
   "execution_count": null,
   "metadata": {},
   "outputs": [],
   "source": []
  },
  {
   "cell_type": "markdown",
   "metadata": {},
   "source": [
    "### Exercise 20: Advanced\n",
    "<span style=\"color:green\">This is a classic interview Exercise. Write a function that finds the degree difference between the minute and second on a clock. The function will accept two arguments, hour (between 1 and 12) and minute (between 0 and 59). Note: this should be the absolute difference, so 180 degrees would be the absolute max possible value. Test your function with some times and make sure it makes sense. </span>"
   ]
  },
  {
   "cell_type": "code",
   "execution_count": null,
   "metadata": {},
   "outputs": [],
   "source": []
  }
 ],
 "metadata": {
  "anaconda-cloud": {},
  "kernelspec": {
   "display_name": "Python 3",
   "language": "python",
   "name": "python3"
  },
  "language_info": {
   "codemirror_mode": {
    "name": "ipython",
    "version": 3
   },
   "file_extension": ".py",
   "mimetype": "text/x-python",
   "name": "python",
   "nbconvert_exporter": "python",
   "pygments_lexer": "ipython3",
   "version": "3.7.4"
  }
 },
 "nbformat": 4,
 "nbformat_minor": 1
}
