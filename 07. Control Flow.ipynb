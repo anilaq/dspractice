{
 "cells": [
  {
   "cell_type": "markdown",
   "metadata": {},
   "source": [
    "# Control Flow\n",
    "\n",
    "Control flow refers to the order that statements get executed in a program. In Python programs, each line is executed one after another in the order that they were written beginning with the very first line. This standard procedure of execution can be changed with **conditional** or **looping** statements. These two basic categories for how control flow gets manipulated by the programmer will be the topic of this chapter.\n",
    "\n",
    "## Conditional Statements\n",
    "\n",
    "A **conditional statement** is a feature common to all programming languages. They dictate which actions are to be performed based on the outcome of the **condition** which must evaluate as either true or false. Let's introduce conditional statements that are used in English to dictate outcome.\n",
    "\n",
    "* If it is raining, then soccer practice is canceled, otherwise it will occur.\n",
    "* If you are over 18 years of age, then you can vote, otherwise you cannot.\n",
    "* If you roll a five, then you win, otherwise you lose.\n",
    "\n",
    "In all of the above sentences, the condition is placed directly after the word 'if'. The conditions are - *is it raining*, *are you over 18*, and *did you roll a five*. These conditions can be evaluated as either true or false.\n",
    "\n",
    "![][0]\n",
    "\n",
    "[0]: images/conditional_statement.png"
   ]
  },
  {
   "cell_type": "markdown",
   "metadata": {},
   "source": [
    "## Python `if` statements\n",
    "In Python, conditional statements are similar to how they work in English and are completed formally with an `if` statement. A conditional expression must immediately follow the word `if` followed by a **colon**. Below the `if` statement is an indented code block which only gets executed if the condition evaluates as `True`. A simple `if` statement takes on the following form.\n",
    "\n",
    "```\n",
    "if condition:\n",
    "    indented code block\n",
    "    with one or\n",
    "    more lines\n",
    "```\n",
    "\n",
    "The condition is an expression that must evaluate as a boolean. Below, we have an `if` statement with a simple condition testing whether a number is positive. If the condition evaluates to `True` then the number is halved and printed out. If not, no further code is run."
   ]
  },
  {
   "cell_type": "code",
   "execution_count": 1,
   "metadata": {},
   "outputs": [
    {
     "name": "stdout",
     "output_type": "stream",
     "text": [
      "Half of 10 is 5.0\n"
     ]
    }
   ],
   "source": [
    "x = 10\n",
    "if x >= 0:\n",
    "    half = x / 2\n",
    "    print(f'Half of {x} is {half}')"
   ]
  },
  {
   "cell_type": "markdown",
   "metadata": {},
   "source": [
    "### Indenting and code blocks in Python\n",
    "\n",
    "Python's syntax is so simple that it relies upon **indentation** (and not curly braces like some other languages) to mark the beginning and end of code blocks. `if`, `for`, `while`, `def`, `with` are all statements that have indented code blocks underneath them. A code block ends when the indentation for the current line returns to where it was before the indentation began. In the above cell, the code block consists of the following two lines:\n",
    "\n",
    "```\n",
    "half = x / 2\n",
    "print(f'Half of {x} is {half}')\n",
    "```\n",
    "\n",
    "\n",
    "All `if` statements must contain at least one line in their code block. In order for code to be considered part of the code block, it must be indented at least one space. Typically, four spaces are used and most editors including Jupyter Notebooks will automatically indent the beginning of code blocks four spaces. All of the lines of code in the code block must be indented the same number of spaces.\n",
    "\n",
    "### Resuming standard control flow\n",
    "After an `if` statement completes, the standard flow of control where each line executes in succession resumes. Take a look at the code below which adds a single `print` function as a new line. This extra line of code is not indented and not part of the `if` statement. Notice how its indentation is back to the same level (the start of the line) where the `if` statement began. It is executed regardless if the condition is true."
   ]
  },
  {
   "cell_type": "code",
   "execution_count": 2,
   "metadata": {},
   "outputs": [
    {
     "name": "stdout",
     "output_type": "stream",
     "text": [
      "Half of 10 is 5.0\n",
      "this statement gets executed no matter what\n"
     ]
    }
   ],
   "source": [
    "x = 10\n",
    "if x >= 0:\n",
    "    half = x / 2\n",
    "    print(f'Half of {x} is {half}')\n",
    "print('this statement gets executed no matter what')"
   ]
  },
  {
   "cell_type": "markdown",
   "metadata": {},
   "source": [
    "### `if` statement conditions that evaluate as `False`\n",
    "\n",
    "Our current condition in the `if` statement evaluates as `True`, so the two lines in its code block are executed. Let's change the value of `x` so the condition evaluates as `False`. The code block will not execute and control will skip down to the first line after the code block, which is the last line in the cell."
   ]
  },
  {
   "cell_type": "code",
   "execution_count": null,
   "metadata": {},
   "outputs": [],
   "source": [
    "x = -10\n",
    "if x >= 0:\n",
    "    half = x / 2\n",
    "    print(f'Half of {x} is {half}')\n",
    "print('this statement gets executed no matter what')"
   ]
  },
  {
   "cell_type": "markdown",
   "metadata": {},
   "source": [
    "### `else` statements\n",
    "In the above examples, there was no other specific set of commands that were executed if the condition evaluated as `False`. Control flow just resumed as normal. Python allows us to execute a completely different set of commands using the `else` statement when the condition evaluates as `False`. This `else` statement must be paired with a corresponding `if` statement. Syntactically, it must be placed at the same indentation level as the `if` statement. Below, we have another two-line code block that only gets executed if the condition in the `if` statement evaluates as `False`."
   ]
  },
  {
   "cell_type": "code",
   "execution_count": 5,
   "metadata": {},
   "outputs": [
    {
     "name": "stdout",
     "output_type": "stream",
     "text": [
      "Three times -90 is -270\n",
      "This print statement gets executed no matter what\n"
     ]
    }
   ],
   "source": [
    "x = -90\n",
    "if x >= 0:\n",
    "    half = x / 2\n",
    "    print(f'Half of {x} is {half}')\n",
    "else:\n",
    "    triple = x * 3\n",
    "    print(f'Three times {x} is {triple}')\n",
    "print('This print statement gets executed no matter what')"
   ]
  },
  {
   "cell_type": "markdown",
   "metadata": {},
   "source": [
    "### `elif` statements\n",
    "Instead of automatically executing the code block following `else` after a `False` condition, an additional condition can be tested with an `elif` statement. The characters `elif` stand for 'else if'. A condition that evaluates as a boolean must follow `elif` and again must end in a colon. The below code first checks whether an integer is divisible by 2. If it is not, then it checks if it is divisible by 3. If it isn't divisible by 2 or 3 it enters the code block following the `else` statement. The modulus operator, `%`, is used to return the integer remainder from division."
   ]
  },
  {
   "cell_type": "code",
   "execution_count": null,
   "metadata": {},
   "outputs": [],
   "source": [
    "x = 47\n",
    "\n",
    "if x % 2 == 0:\n",
    "    print(f'{x} is divisible by 2 and not prime')\n",
    "elif x % 3 == 0:\n",
    "    print(f'{x} is divisible by 3 and not prime')\n",
    "else:\n",
    "    print(f'{x} is not divisible by 2 or 3. It might be prime!')\n",
    "print('This print statement gets executed no matter what')"
   ]
  },
  {
   "cell_type": "markdown",
   "metadata": {},
   "source": [
    "Any number of `elif` statements may be added to check other conditions with the `else` statements appearing last. At most, only one code block will be executed when an `if` statement begins. Once a condition evaluates as `True`, that code block is run, and then execution skips to the first line after the last code block to begin executing code as normal. Here, we added two more `elif` conditional statements. When `x` is assigned 47, all four conditions tested evaluate as `False` which triggers the code block under the `else` statement to run."
   ]
  },
  {
   "cell_type": "code",
   "execution_count": null,
   "metadata": {},
   "outputs": [],
   "source": [
    "x = 47\n",
    "\n",
    "if x % 2 == 0:\n",
    "    print(f'{x} is divisible by 2 and not prime')\n",
    "elif x % 3 == 0:\n",
    "    print(f'{x} is divisible by 3 and not prime')\n",
    "elif x % 5 == 0:\n",
    "    print(f'{x} is divisible by 5 and not prime')\n",
    "elif x % 7 == 0:\n",
    "    print(f'{x} is divisible by 7 and not prime')\n",
    "else:\n",
    "    print(f'{x} is not divisible by 2, 3, 5, or 7. It might be prime!')\n",
    "print('This print statement gets executed no matter what')"
   ]
  },
  {
   "cell_type": "markdown",
   "metadata": {},
   "source": [
    "Using 35 as the new value for `x` will trigger the code block following `x % 5 == 0`. This is the only code block that is executed. Even though the next condition, `x % 7 == 0` is also true, it is never evaluated. Again, only one code block (at most) is executed in an `if` statement. Execution jumps down to the final `print` function after executing the code block following the `x % 5 == 0` condition."
   ]
  },
  {
   "cell_type": "code",
   "execution_count": null,
   "metadata": {},
   "outputs": [],
   "source": [
    "x = 35\n",
    "\n",
    "if x % 2 == 0:\n",
    "    print(f'{x} is divisible by 2 and not prime')\n",
    "elif x % 3 == 0:\n",
    "    print(f'{x} is divisible by 3 and not prime')\n",
    "elif x % 5 == 0:\n",
    "    print(f'{x} is divisible by 5 and not prime')\n",
    "elif x % 7 == 0:\n",
    "    print(f'{x} is divisible by 7 and not prime')\n",
    "else:\n",
    "    print(f'{x} is not divisible by 2, 3, 5, or 7. It might be prime!')\n",
    "print('This print statement gets executed no matter what')"
   ]
  },
  {
   "cell_type": "markdown",
   "metadata": {},
   "source": [
    "If there is no `else` statement, it is possible that none of the code blocks will be executed. Below, the `else` statement has been eliminated. None of the conditions evaluate as `True`, and since there is no `else` statement, no code blocks are executed."
   ]
  },
  {
   "cell_type": "code",
   "execution_count": null,
   "metadata": {},
   "outputs": [],
   "source": [
    "x = 47\n",
    "\n",
    "if x % 2 == 0:\n",
    "    print(f'{x} is divisible by 2 and not prime')\n",
    "elif x % 3 == 0:\n",
    "    print(f'{x} is divisible by 3 and not prime')\n",
    "elif x % 5 == 0:\n",
    "    print(f'{x} is divisible by 5 and not prime')\n",
    "elif x % 7 == 0:\n",
    "    print(f'{x} is divisible by 7 and not prime')\n",
    "print('This print statement gets executed no matter what')"
   ]
  },
  {
   "cell_type": "markdown",
   "metadata": {},
   "source": [
    "### Multiple boolean conditions\n",
    "It is possible to have any number of boolean conditions evaluated in the same expression by combining them together with the boolean operators `or` and `and`. For instance, all the `if` and `elif` statements in the above code can be merged into one statement. It's good practice to wrap each condition in parentheses for readability and accuracy. Let's see the same logic expressed in a single line."
   ]
  },
  {
   "cell_type": "code",
   "execution_count": null,
   "metadata": {},
   "outputs": [],
   "source": [
    "x = 47\n",
    "(x % 2 == 0) or (x % 3 == 0) or (x % 5 == 0) or (x % 7 == 0)"
   ]
  },
  {
   "cell_type": "code",
   "execution_count": null,
   "metadata": {},
   "outputs": [],
   "source": [
    "x = 35\n",
    "(x % 2 == 0) or (x % 3 == 0) or (x % 5 == 0) or (x % 7 == 0)"
   ]
  },
  {
   "cell_type": "markdown",
   "metadata": {},
   "source": [
    "Let's put this boolean expression in an `if` statement."
   ]
  },
  {
   "cell_type": "code",
   "execution_count": null,
   "metadata": {},
   "outputs": [],
   "source": [
    "x = 35\n",
    "if (x % 2 == 0) or (x % 3 == 0) or (x % 5 == 0) or (x % 7 == 0):\n",
    "    print(f'{x} is not prime')\n",
    "else:\n",
    "    print(f'{x} is not divisible by 2, 3, 5, or 7. It might be prime!')"
   ]
  },
  {
   "cell_type": "markdown",
   "metadata": {},
   "source": [
    "## Looping\n",
    "\n",
    "Looping is the process of repeating the same code over and over again. In Python, there are two types of loops, for-loops and while-loops. For-loops execute the same code block for each item in an iterable. You will usually know beforehand how many times the code block will be repeated.  \n",
    "\n",
    "While-loops continue repeating the same code block as long as a particular condition remains true. Just as with `if` statements, `for` and `while` statements end in a colon and are followed by indented code blocks. \n",
    "\n",
    "## For-loops\n",
    "\n",
    "Python has a simple looping syntax that is a bit different than other programming languages and potentially confusing at first. To create a for-loop you must have an **iterable** object that you would like **iterate** over. [Iterable objects][1] are those that are capable of returning its members one at a time. Strings, lists, ranges, tuples, sets, and dictionaries are built-in iterable objects.\n",
    "\n",
    "All *for* loops share the following general structure:\n",
    "```\n",
    "for item in object:\n",
    "    do something\n",
    "    in this\n",
    "    code block\n",
    "```\n",
    "\n",
    "The code block gets executed for every item in the iterable object. Control flow returns to normal after all items in the iterable have been iterated over.  Let's see a basic example of looping through each character in a string with a for-loop. The last `print` function is defined outside of the for-loop code block and is the first line of code run after the for-loop has finished. It's indentation is at the same level as before the start of the code block.\n",
    "\n",
    "[1]: https://docs.python.org/3/glossary.html#term-iterable"
   ]
  },
  {
   "cell_type": "code",
   "execution_count": 6,
   "metadata": {},
   "outputs": [
    {
     "name": "stdout",
     "output_type": "stream",
     "text": [
      "d\n",
      "a\n",
      "t\n",
      "a\n",
      "this line gets executed once\n"
     ]
    }
   ],
   "source": [
    "my_string = 'data'\n",
    "for char in my_string:\n",
    "    print(char)\n",
    "print('this line gets executed once')"
   ]
  },
  {
   "cell_type": "markdown",
   "metadata": {},
   "source": [
    "### Where is `char` defined?\n",
    "This simple loop above iterates over each of the four characters, printing out each one in its only line of the code block. The variable `my_string` is defined explicitly. The variable `char` doesn't appear to be defined. `char` implicitly takes on the current value of the sequence during each iteration without explicitly being assigned with the assignment statement.\n",
    "\n",
    "### The loop variable\n",
    "`char` is also known as the **loop variable** and implicitly refers to the current character in the iteration.\n",
    "\n",
    "### Name of loop variable\n",
    "The name of the loop variable is entirely up to you. See the following two examples where different loop variable names are used."
   ]
  },
  {
   "cell_type": "code",
   "execution_count": null,
   "metadata": {},
   "outputs": [],
   "source": [
    "for character in my_string:\n",
    "    print(character)"
   ]
  },
  {
   "cell_type": "code",
   "execution_count": null,
   "metadata": {},
   "outputs": [],
   "source": [
    "for c in my_string:\n",
    "    print(c)"
   ]
  },
  {
   "cell_type": "markdown",
   "metadata": {},
   "source": [
    "It might be easier to rewrite the general form of a for-loop as the following, where `loop_variable` can be any valid name and `iterable` must some kind of iterable object.\n",
    "\n",
    "```\n",
    "for loop_variable in iterable:\n",
    "    do something\n",
    "    in this\n",
    "    code block\n",
    "```\n",
    "\n",
    "For-loops always begin with the keyword `for` and use another keyword `in` right before the iterable. We previously learned that `in` is an operator used for determining whether or not a substring/item are members of a string/list. In for-loops, the keyword `in` is just part of its syntax and is not an operator."
   ]
  },
  {
   "cell_type": "markdown",
   "metadata": {},
   "source": [
    "### Looping through a list\n",
    "\n",
    "Because lists are iterable, we can iterate through the items in a list using a for-loop in the exact same manner as we do with strings. The loop variable can be any name you choose and references each consecutive member of the list inside the code block."
   ]
  },
  {
   "cell_type": "code",
   "execution_count": null,
   "metadata": {},
   "outputs": [],
   "source": [
    "my_list = [1, 10, 'asf', True]\n",
    "for item in my_list:\n",
    "    print(item)"
   ]
  },
  {
   "cell_type": "markdown",
   "metadata": {},
   "source": [
    "### Looping through `range` objects\n",
    "Range objects are commonly found in for-loops. A range object defines a sequence of integers that have yet to be created in your computer's memory. They are much more memory-efficient than using a list of the same sequence. It is common to use `i` as the loop variable name when iterating through a range. Here, we loop through all the integers beginning at 0 up to but not including 5."
   ]
  },
  {
   "cell_type": "code",
   "execution_count": null,
   "metadata": {},
   "outputs": [],
   "source": [
    "for i in range(5):\n",
    "    print(i)"
   ]
  },
  {
   "cell_type": "markdown",
   "metadata": {},
   "source": [
    "Looping through a sequence of all integers starting at 10 up to but not including 13:"
   ]
  },
  {
   "cell_type": "code",
   "execution_count": null,
   "metadata": {},
   "outputs": [],
   "source": [
    "for i in range(10, 13):\n",
    "    print(i)"
   ]
  },
  {
   "cell_type": "markdown",
   "metadata": {},
   "source": [
    "Looping through every 23rd integer starting at 15 up to but not including 100:"
   ]
  },
  {
   "cell_type": "code",
   "execution_count": null,
   "metadata": {},
   "outputs": [],
   "source": [
    "for i in range(15, 100, 23):\n",
    "    print(i)"
   ]
  },
  {
   "cell_type": "markdown",
   "metadata": {},
   "source": [
    "## Example for-loops\n",
    "\n",
    "In this next section, we will explore examples of for-loops that are more complex than just printing out each value in the iterable.\n",
    "\n",
    "### Squaring a list of numbers\n",
    "Suppose we have a list of numbers that we would like to square and save the result to a new list. To do so, we create an empty list, iterate through each value in the original list, square it, and append the result to the new list."
   ]
  },
  {
   "cell_type": "code",
   "execution_count": null,
   "metadata": {},
   "outputs": [],
   "source": [
    "a_list = [3, -2, 8, 5.3, 7]\n",
    "squares_list = []  # initialize an empty list\n",
    "for x in a_list:\n",
    "    square = x * x\n",
    "    squares_list.append(square)\n",
    "squares_list"
   ]
  },
  {
   "cell_type": "markdown",
   "metadata": {},
   "source": [
    "### Finding the length of each word in some text\n",
    "\n",
    "Let's say we want to calculate the length of each word in some string. To do so, we can use the string `split` method to split the string into a list of words. We can then create iterate through this list, calculate the length of each word and append this value to an empty list. Let's first output the list of words to very that `split` worked correctly."
   ]
  },
  {
   "cell_type": "code",
   "execution_count": null,
   "metadata": {},
   "outputs": [],
   "source": [
    "text = 'The Astros will win the World Series in 2019'\n",
    "words = text.split()\n",
    "words"
   ]
  },
  {
   "cell_type": "markdown",
   "metadata": {},
   "source": [
    "We can now iterate through this list appending the length of each word to a new list."
   ]
  },
  {
   "cell_type": "code",
   "execution_count": null,
   "metadata": {},
   "outputs": [],
   "source": [
    "word_length = []\n",
    "for word in words:\n",
    "    word_length.append(len(word))\n",
    "word_length"
   ]
  },
  {
   "cell_type": "markdown",
   "metadata": {},
   "source": [
    "### Using Newton's method to find the square root\n",
    "\n",
    "In a previous exercise, you were tasked with finding the square root of a number using [Newton's Method][0] to find a square root of a number. This method is quite good at getting very close to the square root in just a small number of steps. Usually 10 iterations is more than enough to get the square root exactly right. Below, we find the square root of 520 with an initial guess of 100.\n",
    "\n",
    "[0]: https://en.wikipedia.org/wiki/Newton%27s_method#Square_root_of_a_number"
   ]
  },
  {
   "cell_type": "code",
   "execution_count": null,
   "metadata": {},
   "outputs": [],
   "source": [
    "num = 520\n",
    "guess = 100\n",
    "for i in range(10):\n",
    "    guess -= (guess ** 2 - num) / (2 * guess)\n",
    "    print(f'Current guess - {guess}')"
   ]
  },
  {
   "cell_type": "markdown",
   "metadata": {},
   "source": [
    "## While-loops\n",
    "\n",
    "While-loops are the other looping construct that Python provides and work with the following syntax. A code block continually executes until a boolean condition evaluates to `False`. The condition is re-evaluated at the beginning of each iteration.  A while statement ends in a colon and the code block is indented underneath it.\n",
    "\n",
    "```\n",
    ">>> while condition:\n",
    "        do something in this\n",
    "        code block as long as condition\n",
    "        evaluates as True\n",
    "```\n",
    "\n",
    "Let's use a trivial example where a while-loop is used to decrement an integer by 1 until it is no longer greater than or equal to 0."
   ]
  },
  {
   "cell_type": "code",
   "execution_count": null,
   "metadata": {},
   "outputs": [],
   "source": [
    "x = 5\n",
    "while x >= 0:\n",
    "    print(f'x is {x}')\n",
    "    x -= 1"
   ]
  },
  {
   "cell_type": "markdown",
   "metadata": {},
   "source": [
    "The condition `x >= 0` is evaluated at the beginning of each iteration. If it evaluates to `True` then the code block executes. If it evaluates as `False` then the while-loop is done and execution returns to normal. Let's add another line of code after the while-loop. This new line is not part of the while-loop's code block and will get executed no matter what. Notice, how the value of `x` is shown as -1 after the loop has finished executing."
   ]
  },
  {
   "cell_type": "code",
   "execution_count": null,
   "metadata": {},
   "outputs": [],
   "source": [
    "x = 5\n",
    "while x >= 0:\n",
    "    print(f'x is {x}')\n",
    "    x -= 1\n",
    "print(f'Exited while loop. x is {x}')"
   ]
  },
  {
   "cell_type": "markdown",
   "metadata": {},
   "source": [
    "It is possible that the code block following the while-loop never gets executed. Not even once. If the condition is first evaluated as `False`, then execution will immediately skip to the line after the while-loop as it does in this example."
   ]
  },
  {
   "cell_type": "code",
   "execution_count": null,
   "metadata": {},
   "outputs": [],
   "source": [
    "x = -5\n",
    "while x >= 0:\n",
    "    print(f'x is {x}')\n",
    "    x -= 1\n",
    "print(f'Exited while loop. x is {x}')"
   ]
  },
  {
   "cell_type": "markdown",
   "metadata": {},
   "source": [
    "## Example while-loops\n",
    "\n",
    "In the next section, we will see some more complex examples of while-loops."
   ]
  },
  {
   "cell_type": "markdown",
   "metadata": {},
   "source": [
    "### Doubling money\n",
    "Let's say your local library has a policy where it charges you a 1 cent fine for the first day you are late to return a book. This fine doubles each day until it eclipses one million dollars. A while-loop can be used to find out how many days it will take before you owe the library more than one million dollars. Here the fine keeps doubling while the variable `day` increases by one each iteration."
   ]
  },
  {
   "cell_type": "code",
   "execution_count": null,
   "metadata": {},
   "outputs": [],
   "source": [
    "fine = 0.01\n",
    "day = 1\n",
    "while fine < 1e6:\n",
    "    fine *= 2\n",
    "    day += 1\n",
    "print(f'On day {day} your fine is {fine} dollars')"
   ]
  },
  {
   "cell_type": "markdown",
   "metadata": {},
   "source": [
    "### Using Newton's method to find the square root\n",
    "\n",
    "Above, we used a for-loop to compute the square root of a number using Newton's method. We can complete the same task with a while-loop. We begin by finding the  error (difference) between the square of our guess and the number we want to find the square root of. The `abs` function is used to return the absolute error. We then set a maximum error that we don't want to exceed. Within the loop, the guess is updated and a new absolute error is calculated. If the new error is less than our maximum error, the while-loop condition becomes `False`. \n",
    "\n",
    "A while-loop is probably a better choice than a for-loop as it is easier to be more precise with our error and number of iterations. We can guarantee an error to be less than a given amount.\n",
    "\n",
    "[0]: https://en.wikipedia.org/wiki/Newton%27s_method#Square_root_of_a_number"
   ]
  },
  {
   "cell_type": "code",
   "execution_count": null,
   "metadata": {},
   "outputs": [],
   "source": [
    "num = 520\n",
    "guess = 100\n",
    "error = abs(guess ** 2 - num)\n",
    "i = 0\n",
    "max_error = 1e-8\n",
    "while error > max_error:\n",
    "    guess -= (guess ** 2 - num) / (2 * guess)\n",
    "    error = abs(guess ** 2 - num)\n",
    "    i += 1\n",
    "print(f'The square root of {num} is {guess}')\n",
    "print(f'It took {i} iterations to get within {error}')"
   ]
  },
  {
   "cell_type": "markdown",
   "metadata": {},
   "source": [
    "### A guessing game\n",
    "\n",
    "The below code can be thought of as a crude guessing game and is the most complex code we have run thus far. It might take some time to understand. Using a while-loop, the computer will attempt to guess the number assigned to `num`. The range of possible values is defined by `low` and `high`. The variable `num` should be an integer between `low` and `high`. \n",
    "\n",
    "The initial `guess` is always the midpoint between `low` and `high`. The while-loop continues until `guess` equals `num`. The variables `high`, `low` and `guess` get updated during each iteration of the while loop. If `guess` is greater than `num`, then the upper boundary, `high`, is set to be one less than `guess`. We subtract one here because we know that it cannot be `guess`. If the `guess` is less than `num`, then the lower boundary is st to be one more than `guess`. Finally, the actual `guess` is updated to be the midpoint between the new values for `high` and `low`.\n",
    "\n",
    "The guessing region gets cut in half during each iteration guaranteeing that `num` will eventually be found. A final `print` function is used to report the number of guesses it took to find the number."
   ]
  },
  {
   "cell_type": "code",
   "execution_count": null,
   "metadata": {},
   "outputs": [],
   "source": [
    "low = 0\n",
    "high = 1000\n",
    "num = 788\n",
    "guess = (high + low) // 2\n",
    "count = 1\n",
    "while guess != num:\n",
    "    print(count, guess, low, high)\n",
    "    count += 1\n",
    "    if guess > num:\n",
    "        high = guess - 1\n",
    "    else:\n",
    "        low = guess + 1\n",
    "    guess = (high + low) // 2\n",
    "    \n",
    "print(f'Number {num} was found in {count} guesses')"
   ]
  },
  {
   "cell_type": "markdown",
   "metadata": {},
   "source": [
    "## More on Loops\n",
    "\n",
    "### Infinite Loops\n",
    "\n",
    "While-loops have the potential to run indefinitely if their condition always evaluates as `True`. For instance, in the guessing game from above, if `guess` is never updated then the while loop will never stop. If this happens to you while running code in this notebook, you can try and stop execution by pressing the `stop` button in the menu bar above or by clicking the **Interrupt** option from the **Kernel** menu.\n",
    "\n",
    "If that doesn't work you can go to the terminal where you launched the notebook and press `ctrl + c` twice which will kill the Jupyter Notebook server forcing you to restart it. Interrupting a cell does not kill the server, just stops the current cell execution.\n",
    "\n",
    "### More looping control with `continue` and `break`\n",
    "\n",
    "The keywords `continue` and `break` can only be used inside the body of a loop. They are not objects and you cannot assign them to variables. The `continue` keyword forces execution to return immediately to the top of the loop for the next iteration. The `break` keyword exits the loop immediately without any other execution. After `break` the program continues as normal after the loop code block. \n",
    "\n",
    "Let's see a simple example where we iterate through the integers from 0 to 9 and use `continue` to skip over the even integers. Odd integers will be printed to the screen."
   ]
  },
  {
   "cell_type": "code",
   "execution_count": null,
   "metadata": {},
   "outputs": [],
   "source": [
    "for i in range(10):\n",
    "    if i % 2 == 0:\n",
    "        continue\n",
    "    print(i)"
   ]
  },
  {
   "cell_type": "markdown",
   "metadata": {},
   "source": [
    "### `while True` then `break`\n",
    "A somewhat common use of `while` loops is to permanently set the condition as True and make use of the `break` statement to stop loop iteration. This guarantees that at least one iteration will happen and is similar to do-while loops in other languages.\n",
    "\n",
    "Let's rewrite our while-loop that was used to calculate the square root of a number using Newton's Method. Instead of calculating the first error outside of the loop, we can use the `while True` then `break` pattern. When using this pattern, you'll use an `if` statement to test for the inverse of the original condition and `break` when it evaluates as `True`."
   ]
  },
  {
   "cell_type": "code",
   "execution_count": null,
   "metadata": {},
   "outputs": [],
   "source": [
    "num = 520\n",
    "guess = 100\n",
    "i = 0\n",
    "max_error = 1e-8\n",
    "while True:\n",
    "    guess -= (guess ** 2 - num) / (2 * guess)\n",
    "    error = abs(guess ** 2 - num)\n",
    "    i += 1\n",
    "    if error <= max_error:\n",
    "        break\n",
    "print(f'The square root of {num} is {guess:.4f}')\n",
    "print(f'It took {i} iterations to get within {error:.2e}')"
   ]
  },
  {
   "cell_type": "markdown",
   "metadata": {},
   "source": [
    "## Nested Loops\n",
    "It is possible to define a loop within the code block of a loop. This is referred to as **nested loops**. The inner loop is indented further to denote its own code block. When the outer loop's code block execution reaches the inner loop, the inner loop will iterate completely before returning execution to the outer loop. The inner loop will get executed again for each iteration of the outer loop.\n",
    "\n",
    "To help illustrate this, a for-loop is created with a single inner for-loop. The outer/inner for-loops use `i`/`j` as their loop variables. There are three iterations, meaning that the inner loop will get executed three times. Notice that the outer loop variable does not change when inside the inner loop."
   ]
  },
  {
   "cell_type": "code",
   "execution_count": null,
   "metadata": {},
   "outputs": [],
   "source": [
    "for i in range(3):\n",
    "    print(f'Outer loop: i={i}')\n",
    "    for j in range(5):\n",
    "        print(f'\\tInner loop: i={i} and j={j}')"
   ]
  },
  {
   "cell_type": "markdown",
   "metadata": {},
   "source": [
    "As a more practical example, we can create a multiplication table as a single long string. The inner loop continuously reassigns the value of the string `table` by concatenating the old value with the current multiplication string. The inner loop begins iteration at integer 3 to help distinguish its loop variable from the outer loop. After each iteration of the inner loop, a new line character, `'\\n'` is added to the string."
   ]
  },
  {
   "cell_type": "code",
   "execution_count": null,
   "metadata": {},
   "outputs": [],
   "source": [
    "table = ''\n",
    "for row in range(1, 9):\n",
    "    for col in range(3, 9):\n",
    "        table += f'{row}*{col} = {row * col:>2}  '\n",
    "    table += '\\n'\n",
    "print(table)"
   ]
  },
  {
   "cell_type": "markdown",
   "metadata": {},
   "source": [
    "## Mini-Project: Craps\n",
    "\n",
    "Craps is a popular casino game that we will simulate with nested loops. Here are the rules of a basic version of the game: You make a wager and then roll two six-sided dice. If the sum is 2, 3, or 12 you lose and if the sum is 7 or 11 you win. If the sum is anything else, a new stage of the game starts where you continue to roll two dice until the sum is 7, in which you lose, or until you roll your original number, in which case you win. Any other sum is meaningless except your original roll or 7. A summary of each stage of the game is provided below:\n",
    "\n",
    "### Stage 1\n",
    "* Roll two dice and calculate the sum - let's call this sum X\n",
    "* If X is 2, 3, or 12 you lose (game ends)\n",
    "* If X is 7 or 11 you win (game ends)\n",
    "* If X is anything else go to Stage 2\n",
    "\n",
    "### Stage 2\n",
    "* Roll dice again and calculate sum\n",
    "* If this sum is X you win (game ends)\n",
    "* If the sum is 7 you lose (game ends)\n",
    "* If the sum is anything else repeat Stage 2"
   ]
  },
  {
   "cell_type": "markdown",
   "metadata": {},
   "source": [
    "### Rolling dice with the random module\n",
    "In order to simulate dice rolling, we will use help from the `random` module. Python modules will be discussed in detail in their own chapter. For now, let it suffice to say that a module contains extra functionality that is not built into Python directly. In order to access a module's functionality, we must use the `import` statement. Once we have imported a module, we can access its contents with dot notation. \n",
    "\n",
    "Below, we import the random module and then call its `randint` function which generates a random integer between two integers given as arguments. Since we are simulating the roll of a single die, we use 1 and 6 as the endpoints for the range of possible integers. With this function, the endpoints are inclusive, meaning that they are part of the range and can be chosen. Each number in the range is equally likely to be chosen."
   ]
  },
  {
   "cell_type": "code",
   "execution_count": null,
   "metadata": {},
   "outputs": [],
   "source": [
    "import random\n",
    "random.randint(1, 6)"
   ]
  },
  {
   "cell_type": "markdown",
   "metadata": {},
   "source": [
    "### Simplify Game\n",
    "Instead of attempting to program the entire game all at once, we will just determine if we won or lost with our original roll. We simulate the rolling of two dice, find the sum, and then check whether we have won, lost, or if we move on to the second stage of the game."
   ]
  },
  {
   "cell_type": "code",
   "execution_count": null,
   "metadata": {},
   "outputs": [],
   "source": [
    "die_1 = random.randint(1, 6)\n",
    "die_2 = random.randint(1, 6)\n",
    "total = die_1 + die_2\n",
    "message = f'Your original roll is {total}. '\n",
    "\n",
    "if total in [2, 3, 12]:\n",
    "     message += 'You Lose'\n",
    "elif total in [7, 11]:\n",
    "    message += 'You Win'\n",
    "else:\n",
    "    message += 'Move on to stage 2'\n",
    "print(message)"
   ]
  },
  {
   "cell_type": "markdown",
   "metadata": {},
   "source": [
    "### Second stage of game\n",
    "If the original roll was not a 2,3,7,11 or 12 a new stage of the game continues until the original total or 7 is rolled. This is a perfect situation for a while loop."
   ]
  },
  {
   "cell_type": "code",
   "execution_count": null,
   "metadata": {},
   "outputs": [],
   "source": [
    "die_1 = random.randint(1, 6)\n",
    "die_2 = random.randint(1, 6)\n",
    "total = die_1 + die_2\n",
    "message = f'Your original roll is {total}. '\n",
    "\n",
    "if total in [2, 3, 12]:\n",
    "    message += 'You Lose'\n",
    "elif total in [7, 11]:\n",
    "    message += 'You Win'\n",
    "else:\n",
    "    while True:\n",
    "        die_1 = random.randint(1, 6)\n",
    "        die_2 = random.randint(1, 6)\n",
    "        new_total = die_1 + die_2\n",
    "        if new_total == total:\n",
    "            message += f'You won in the second stage with roll {new_total}'\n",
    "            break\n",
    "        if new_total == 7:\n",
    "            message += f'You lost in the second stage with roll {new_total}'\n",
    "            break\n",
    "print(message)"
   ]
  },
  {
   "cell_type": "markdown",
   "metadata": {},
   "source": [
    "## List comprehensions\n",
    "\n",
    "A list comprehension is special Python syntax for creating lists. List comprehensions do not add any extra functionality to Python, they merely make for more elegant, shorter, and readable code. They are best learned through examples. Let's say we want to square the sequence of integers from 0 to 9. With our current knowledge, we could create an empty list, then iterate through a for-loop, appending each squared value to the new list."
   ]
  },
  {
   "cell_type": "code",
   "execution_count": null,
   "metadata": {},
   "outputs": [],
   "source": [
    "squared = []\n",
    "for num in range(10):\n",
    "    squared.append(num ** 2)\n",
    "squared"
   ]
  },
  {
   "cell_type": "markdown",
   "metadata": {},
   "source": [
    "### Duplicate with a list comprehension\n",
    "\n",
    "With our current syntax, the creation of a new, for-loop statement, and integer squaring all take place on separate lines. With a list comprehension, we can condense this to just a single line."
   ]
  },
  {
   "cell_type": "code",
   "execution_count": null,
   "metadata": {},
   "outputs": [],
   "source": [
    "squared = [num ** 2 for num in range(10)]\n",
    "squared"
   ]
  },
  {
   "cell_type": "markdown",
   "metadata": {},
   "source": [
    "### Reading list comprehensions\n",
    "Understanding list comprehensions is tricky at first since the code is written opposite of how it is with a normal `for` loop. There are three mandatory components to a list comprehension:\n",
    "\n",
    "1. The outer set of square brackets\n",
    "2. The for loop\n",
    "3. Some expression\n",
    "\n",
    "<span style=\"font-family:monospace\">[<span style=\"color:green\">expression </span><span style=\"color:red\">for loop</span>]</span>\n",
    "\n",
    "When first learning list comprehensions it might be easier to read them beginning with the for-loop and then the expression. Using the example above:\n",
    "\n",
    "```\n",
    "[num ** 2 for num in range(10)]\n",
    "```\n",
    "\n",
    "We can begin reading it from the for-loop which is: `for num in range(10)`. Here, `num` is the loop variable and will take on the values from 0 through 9. Next, we look at the **expression**, `num ** 2`. The final result will be a list of the squared integers."
   ]
  },
  {
   "cell_type": "markdown",
   "metadata": {},
   "source": [
    "### List comprehension examples\n",
    "\n",
    "Let's take a look at several more simple list comprehension examples. In the first example, we iterate through the sequence of integers 10 through 20 adding 100 to each one. The end result of a list comprehension is always a list."
   ]
  },
  {
   "cell_type": "code",
   "execution_count": null,
   "metadata": {},
   "outputs": [],
   "source": [
    "[x + 100 for x in range(10, 21)]"
   ]
  },
  {
   "cell_type": "markdown",
   "metadata": {},
   "source": [
    "In this list comprehension, we iterate through the same sequence of integers 10 through 20, find its remainder when divided by two and test whether it equals 0. This tests whether a number is even or not."
   ]
  },
  {
   "cell_type": "code",
   "execution_count": null,
   "metadata": {},
   "outputs": [],
   "source": [
    "[x % 2 == 0 for x in range(10, 21)]"
   ]
  },
  {
   "cell_type": "markdown",
   "metadata": {},
   "source": [
    "Here, we iterate through a lits of strings. The expression returns the length of each word in the list."
   ]
  },
  {
   "cell_type": "code",
   "execution_count": null,
   "metadata": {},
   "outputs": [],
   "source": [
    "words = ['list', 'comprehensions', 'can', 'be', 'confusing']\n",
    "[len(word) for word in words]"
   ]
  },
  {
   "cell_type": "markdown",
   "metadata": {},
   "source": [
    "We loop through the same list of strings and select the last character of each."
   ]
  },
  {
   "cell_type": "code",
   "execution_count": null,
   "metadata": {},
   "outputs": [],
   "source": [
    "words = ['list', 'comprehensions', 'can', 'be', 'confusing']\n",
    "[word[-1] for word in words]"
   ]
  },
  {
   "cell_type": "markdown",
   "metadata": {},
   "source": [
    "Here, we iterate over each character in a string, using the `ord` function to return the Unicode code point of each character."
   ]
  },
  {
   "cell_type": "code",
   "execution_count": null,
   "metadata": {},
   "outputs": [],
   "source": [
    "word = 'comprehension'\n",
    "[ord(char) for char in word]"
   ]
  },
  {
   "cell_type": "markdown",
   "metadata": {},
   "source": [
    "### Standard mathematical notation\n",
    "List comprehensions resemble standard mathematical notation for sets. Take the following list comprehension, which squares each integer from 0 through 9.\n",
    "\n",
    "```\n",
    "[x ** 2 for x in range(10)]\n",
    "```\n",
    "\n",
    "With standard mathematical set notation, we would write the following:\n",
    "\n",
    "$$\\{x^2 : x \\in \\{0, 1, ... , 9\\} \\}$$\n",
    "\n",
    "Which is read as the set of all x squared such that x is in the set 0 to 9."
   ]
  },
  {
   "cell_type": "markdown",
   "metadata": {},
   "source": [
    "## Conditional list comprehensions\n",
    "\n",
    "The basic list comprehension can be extended by adding a conditional statement after the for-loop. This condition is evaluated during each iteration of the for-loop. The expression component of the list comprehension only runs if the condition evaluates as `True`. \n",
    "\n",
    "Again, we will complete an example that does not use list comprehensions. We will then convert the example into a list comprehension. Below, we iterate through the first 10 integers and check if the number is odd. If it is, its squared value is appended to a list."
   ]
  },
  {
   "cell_type": "code",
   "execution_count": null,
   "metadata": {},
   "outputs": [],
   "source": [
    "squared_odd_nums = []\n",
    "for num in range(1, 11):\n",
    "    if num % 2 == 1:\n",
    "        squared_odd_nums.append(num ** 2)\n",
    "squared_odd_nums"
   ]
  },
  {
   "cell_type": "markdown",
   "metadata": {},
   "source": [
    "A list comprehension can create a new list, iterate over the numbers, test whether it is odd, and square it all in a single line of code."
   ]
  },
  {
   "cell_type": "code",
   "execution_count": null,
   "metadata": {},
   "outputs": [],
   "source": [
    "squared_odd_nums = [num ** 2 for num in range(1, 11) if num % 2 == 1]\n",
    "squared_odd_nums"
   ]
  },
  {
   "cell_type": "markdown",
   "metadata": {},
   "source": [
    "### Reading conditional list comprehensions\n",
    "The condition (which must evaluate as either `True` or `False`) is written after the for-loop. The expression only runs if this condition evaluates as `True`. The condition acts as a **filter** that each element must pass through before being operated on and appended to the new list.\n",
    "\n",
    "<span style=\"font-family:monospace\">[<span style=\"color:green\">expression</span> <span style=\"color:red\">for loop</span> <span style=\"color:blue\">condition</span>]</span>\n",
    "\n",
    "### Conditional list comprehension examples\n",
    "\n",
    "Several examples of conditional list comprehensions will now follow. In the first example, we iterate over a sequence of 50 integers, and if the number is greater than 40, square it."
   ]
  },
  {
   "cell_type": "code",
   "execution_count": null,
   "metadata": {},
   "outputs": [],
   "source": [
    "[x ** 2 for x in range(50) if x > 40]"
   ]
  },
  {
   "cell_type": "markdown",
   "metadata": {},
   "source": [
    "For some conditional list comprehensions the expression is just the loop variable itself. In these cases, the comprehension acts like a literal filter. Here's an example where just the even numbers from a sequence are returned as a list."
   ]
  },
  {
   "cell_type": "code",
   "execution_count": null,
   "metadata": {},
   "outputs": [],
   "source": [
    "[x for x in range(20) if x % 2 == 0]"
   ]
  },
  {
   "cell_type": "markdown",
   "metadata": {},
   "source": [
    "In the following example, the list is filtered so that only those words longer than three characters are kept."
   ]
  },
  {
   "cell_type": "code",
   "execution_count": null,
   "metadata": {},
   "outputs": [],
   "source": [
    "words = ['today', 'is', 'terrific', 'and', 'not', 'terrible!']\n",
    "[word for word in words if len(word) > 3]"
   ]
  },
  {
   "cell_type": "markdown",
   "metadata": {},
   "source": [
    "Here, we iterate over the same list of words and extract the last character but only if the first letter is a 't'."
   ]
  },
  {
   "cell_type": "code",
   "execution_count": null,
   "metadata": {},
   "outputs": [],
   "source": [
    "[word[-1] for word in words if word[0] == 't']"
   ]
  },
  {
   "cell_type": "markdown",
   "metadata": {},
   "source": [
    "The condition may consist of any number of boolean operators. Here, we check that the number has a last digit greater than 5 and is divisible by 3."
   ]
  },
  {
   "cell_type": "code",
   "execution_count": null,
   "metadata": {},
   "outputs": [],
   "source": [
    "[x for x in range(100) if x % 10 > 5 and x % 3 == 0]"
   ]
  },
  {
   "cell_type": "markdown",
   "metadata": {},
   "source": [
    "Take a look at the following conditional list comprehension which squares integers in a sequence if they are odd.\n",
    "\n",
    "```\n",
    "[x ** 2 for x in range(10) if x % 2 == 1]\n",
    "```\n",
    "\n",
    "In standard mathematical set notation we could write it as such:\n",
    "\n",
    "$$\\{x^2 : x \\in \\{1, ... , 10\\} \\ and \\ x \\ is \\ odd \\}$$"
   ]
  },
  {
   "cell_type": "markdown",
   "metadata": {},
   "source": [
    "## Ternary conditional operator\n",
    "\n",
    "We will take a quick step away from list comprehensions to discuss the **ternary conditional operator**. Previously, we covered unary operators, that take one argument, and binary operators that take two. Ternary operators take three. The ternary conditional operator is the only ternary operator in Python. \n",
    "\n",
    "It works by evaluating a condition and returning one value if `True` and another if `False`. It is a compact way to write a simple `if/else` statement in a single line of code. As was done in list comprehensions above, an example will be done with the old syntax first. "
   ]
  },
  {
   "cell_type": "code",
   "execution_count": null,
   "metadata": {},
   "outputs": [],
   "source": [
    "x = 5\n",
    "if x < 10:\n",
    "    var = 'low'\n",
    "else:\n",
    "    var = 'high'\n",
    "var"
   ]
  },
  {
   "cell_type": "markdown",
   "metadata": {},
   "source": [
    "With the ternary conditional operator, we can place the condition and the two possible assigned values in a single line replacing four lines of code with one."
   ]
  },
  {
   "cell_type": "code",
   "execution_count": null,
   "metadata": {},
   "outputs": [],
   "source": [
    "var = 'low' if x < 10 else 'high'\n",
    "var"
   ]
  },
  {
   "cell_type": "markdown",
   "metadata": {},
   "source": [
    "### Components of the ternary conditional operator\n",
    "\n",
    "Most operators in Python are either one or two non-numeric characters or a single word like `not`, `in`, or `is`. The ternary conditional operator is different in this respect and composed of two separate keywords `if` and `else` placed between its three arguments like this:\n",
    "\n",
    "<span style=\"font-family:monospace\">arg1 <span style=\"color:darkgreen;font-weight:bold\">if</span> arg2 <span style=\"color:darkgreen;font-weight:bold\">else</span> arg3</span>\n",
    "\n",
    "### Reading the ternary conditional operator\n",
    "\n",
    "Like list comprehensions, ternary conditional operations do not evaluate from left to right. They begin in the middle with the condition. If the condition is `True`, then the expression on the left is evaluated, otherwise the expression on the right is evaluated.\n",
    "\n",
    "<span style=\"font-family:monospace\"><span style=\"color:blue\">expression1</span> <span style=\"color:darkgreen;font-weight:bold\">if</span><span style=\"color:red\"> condition</span> <span style=\"color:darkgreen;font-weight:bold\">else</span> <span style=\"color:blue\">expression2</span></span>"
   ]
  },
  {
   "cell_type": "markdown",
   "metadata": {},
   "source": [
    "Also like list comprehensions, the ternary conditional operator does not add any extra functionality to the language, but makes it possible to write simple conditional statements in a single line. Code that duplicates other functionality but with compact syntax that is easier to read is sometimes referred to as **syntactic sugar**. Both list comprehensions and the ternary conditional operator are syntactic sugar in Python.\n",
    "\n",
    "### Ternary conditional operator examples\n",
    "\n",
    "The first example tests whether an integer is an odd and returns the string 'odd' if it is and 'even' if it isn't."
   ]
  },
  {
   "cell_type": "code",
   "execution_count": null,
   "metadata": {},
   "outputs": [],
   "source": [
    "x = 11\n",
    "'odd' if x % 2 == 1 else 'even'"
   ]
  },
  {
   "cell_type": "markdown",
   "metadata": {},
   "source": [
    "The expressions can be made more complex and are not limited to literal values. Here, we test the same condition and square the number if it is odd and add ten to it if it's even."
   ]
  },
  {
   "cell_type": "code",
   "execution_count": null,
   "metadata": {},
   "outputs": [],
   "source": [
    "x = 11\n",
    "x ** 2 if x % 2 == 1 else x + 10"
   ]
  },
  {
   "cell_type": "code",
   "execution_count": null,
   "metadata": {},
   "outputs": [],
   "source": [
    "x = 10\n",
    "x ** 2 if x % 2 == 1 else x + 10"
   ]
  },
  {
   "cell_type": "markdown",
   "metadata": {},
   "source": [
    "In this example, a string is checked to see if it is a palindrome (spelled the same forwards and backwards)."
   ]
  },
  {
   "cell_type": "code",
   "execution_count": null,
   "metadata": {},
   "outputs": [],
   "source": [
    "word = 'racecar'\n",
    "'yes' if word == word[::-1] else 'no'"
   ]
  },
  {
   "cell_type": "markdown",
   "metadata": {},
   "source": [
    "The expressions in the ternary conditional operator must be limited to what is allowable in a single logical line of code. If you need to run multiple lines of code after testing for a condition, then you need to use a normal set of `if`/`else` statements."
   ]
  },
  {
   "cell_type": "markdown",
   "metadata": {},
   "source": [
    "## Complex list comprehensions\n",
    "Even though list comprehensions can only be one line long, it is possible to make them complex. Take a look at the following conditional list comprehension that uses a ternary conditional operation as its expression. The sequence of integers from 0 to 99 is iterated through and if the integer is between 31 and 39 then it is either squared if it is even or cubed if it is odd. "
   ]
  },
  {
   "cell_type": "code",
   "execution_count": null,
   "metadata": {},
   "outputs": [],
   "source": [
    "a = [x ** 2 if x % 2 == 0 else x ** 3 for x in range(100) if 30 < x < 40]\n",
    "a"
   ]
  },
  {
   "cell_type": "markdown",
   "metadata": {},
   "source": [
    "We can rewrite the above list comprehension as two physical lines of code. Remember that a physical line of code is only meaningful to us humans to help us read code. Python still interprets this as one logical line of code. When a physical line break takes place within parentheses, square brackets or curly braces, there is no need to end the line with a backslash. In this example, the physical line break happens within square brackets.\n",
    "\n",
    "Python ignores indentation when you break a single logical line of code into multiple physical lines. It is common practice to line up the second line (and any additional lines) in a position that makes it easier to read."
   ]
  },
  {
   "cell_type": "code",
   "execution_count": null,
   "metadata": {},
   "outputs": [],
   "source": [
    "a = [x ** 2 if x % 2 == 0 else x ** 3 \n",
    "     for x in range(100) if 30 < x < 40]"
   ]
  },
  {
   "cell_type": "markdown",
   "metadata": {},
   "source": [
    "We can go even further and break this list comprehension into three physical lines, placing each component (expression, for-loop, condition) on a separate line."
   ]
  },
  {
   "cell_type": "code",
   "execution_count": null,
   "metadata": {},
   "outputs": [],
   "source": [
    "a = [x ** 2 if x % 2 == 0 else x ** 3 \n",
    "     for x in range(100) \n",
    "     if 30 < x < 40]"
   ]
  },
  {
   "cell_type": "markdown",
   "metadata": {},
   "source": [
    "### Making list comprehensions too complex\n",
    "\n",
    "Using less lines of code to complete a task is not necessary a good goal to have when programming and in many cases make for code that is more difficult to understand. The above list comprehension is rewritten below in its longer form. In this instance, it may make it easier to understand."
   ]
  },
  {
   "cell_type": "code",
   "execution_count": null,
   "metadata": {},
   "outputs": [],
   "source": [
    "a = []\n",
    "for x in range(100):\n",
    "    if 30 < x < 40:\n",
    "        if x % 2 == 0:\n",
    "            a.append(x ** 2)\n",
    "        else:\n",
    "            a.append(x ** 3)\n",
    "a"
   ]
  },
  {
   "cell_type": "markdown",
   "metadata": {},
   "source": [
    "### Nested for-loops inside list comps\n",
    "For-loops may be nested in list comprehensions just as they are nested in the code blocks of normal for-loops. The for-loops must be placed consecutively one after the other. The left-most for-loops in the comprehension correspond to the outer-most for-loops in a normal for-loop. Here we have three for-loops that iterate through strings of two-characters to create a new list of words."
   ]
  },
  {
   "cell_type": "code",
   "execution_count": null,
   "metadata": {
    "tags": [
     "data_wrap"
    ]
   },
   "outputs": [],
   "source": [
    "create_words = [x + y + z for x in 'bm' for y in 'ae' for z in 'dt']\n",
    "create_words"
   ]
  },
  {
   "cell_type": "markdown",
   "metadata": {},
   "source": [
    "Translating the above into normal for-loop syntax we get the following:"
   ]
  },
  {
   "cell_type": "code",
   "execution_count": null,
   "metadata": {
    "tags": [
     "data_wrap"
    ]
   },
   "outputs": [],
   "source": [
    "create_words = []\n",
    "for x in 'bm':\n",
    "    for y in 'ae':\n",
    "        for z in 'dt':\n",
    "            create_words.append(x + y + z)\n",
    "create_words"
   ]
  },
  {
   "cell_type": "markdown",
   "metadata": {},
   "source": [
    "## Implied truth values\n",
    "\n",
    "In the Ranges and Constructors chapter, we covered the truth value of many objects by passing them to the `bool` constructor. Zero, `None`, empty strings and lists all evaluated as `False`. Everything else evaluated as `True`. To review, let's use a list comprehension to find the truth values for several different objects."
   ]
  },
  {
   "cell_type": "code",
   "execution_count": null,
   "metadata": {},
   "outputs": [],
   "source": [
    "vals = [0, -.3, None, '', 'string', [], [1, 2]]\n",
    "[bool(val) for val in vals]"
   ]
  },
  {
   "cell_type": "markdown",
   "metadata": {},
   "source": [
    "Any object that has a truth value associated with it can be used as a condition in an `if` statement. Python will automatically use its truth value to determine if the statement is `True`. For instance, the following checks whether 5.234 is `True` and if so, runs the next line."
   ]
  },
  {
   "cell_type": "code",
   "execution_count": null,
   "metadata": {},
   "outputs": [],
   "source": [
    "if 5.234:\n",
    "    print('This is True')"
   ]
  },
  {
   "cell_type": "markdown",
   "metadata": {},
   "source": [
    "We could explicitly convert the number 5.234 with the `bool` constructor, but it would have the same effect."
   ]
  },
  {
   "cell_type": "code",
   "execution_count": null,
   "metadata": {},
   "outputs": [],
   "source": [
    "if bool(5.234):\n",
    "    print('This is True')"
   ]
  },
  {
   "cell_type": "markdown",
   "metadata": {},
   "source": [
    "Using a value who's truth value is `False` will not run the code block after an if statement."
   ]
  },
  {
   "cell_type": "code",
   "execution_count": null,
   "metadata": {},
   "outputs": [],
   "source": [
    "if 0:\n",
    "    print('This is True')\n",
    "    \n",
    "if None:\n",
    "    print('This is True')"
   ]
  },
  {
   "cell_type": "markdown",
   "metadata": {},
   "source": [
    "Suppose we have a list of words and filter the list using a list comprehension for just the words that have more than five characters."
   ]
  },
  {
   "cell_type": "code",
   "execution_count": null,
   "metadata": {},
   "outputs": [],
   "source": [
    "words = ['The', 'cat', 'and', 'the', 'hat', 'ate', 'green', 'eggs']\n",
    "long_words = [word for word in words if len(word) > 5]\n",
    "long_words"
   ]
  },
  {
   "cell_type": "markdown",
   "metadata": {},
   "source": [
    "We can test whether or not the list contains any words with more than five characters by using it directly as the condition in an if statement."
   ]
  },
  {
   "cell_type": "code",
   "execution_count": null,
   "metadata": {},
   "outputs": [],
   "source": [
    "if long_words:\n",
    "    print('The list contains words with more than five characters')"
   ]
  },
  {
   "cell_type": "markdown",
   "metadata": {},
   "source": [
    "Testing whether a number is even or odd could be written like this:"
   ]
  },
  {
   "cell_type": "code",
   "execution_count": null,
   "metadata": {},
   "outputs": [],
   "source": [
    "x = 24\n",
    "if x % 2 == 1:\n",
    "    print(f'{x} is odd')\n",
    "else:\n",
    "    print(f'{x} is even')"
   ]
  },
  {
   "cell_type": "markdown",
   "metadata": {},
   "source": [
    "We can shorten the above and remove the equality test as 1 will evaluate as `True`."
   ]
  },
  {
   "cell_type": "code",
   "execution_count": null,
   "metadata": {},
   "outputs": [],
   "source": [
    "x = 24\n",
    "if x % 2:\n",
    "    print(f'{x} is odd')\n",
    "else:\n",
    "    print(f'{x} is even')"
   ]
  },
  {
   "cell_type": "markdown",
   "metadata": {},
   "source": [
    "## Exercises"
   ]
  },
  {
   "cell_type": "markdown",
   "metadata": {},
   "source": [
    "### Exercise 1\n",
    "<span style=\"color:green\">Is the following `if` statement written with correct syntax? If not, why?</span> \n",
    "```\n",
    "x = 5\n",
    "if x > 0:\n",
    "print('x is positive')\n",
    "```"
   ]
  },
  {
   "cell_type": "code",
   "execution_count": null,
   "metadata": {},
   "outputs": [],
   "source": []
  },
  {
   "cell_type": "markdown",
   "metadata": {},
   "source": [
    "### Exercise 2\n",
    "<span style=\"color:green\">Is the following `if` statement written with correct syntax? If not, why?</span> \n",
    "```\n",
    "x = 5\n",
    "if x > 0\n",
    "    print('x is positive')\n",
    "```"
   ]
  },
  {
   "cell_type": "code",
   "execution_count": null,
   "metadata": {},
   "outputs": [],
   "source": []
  },
  {
   "cell_type": "markdown",
   "metadata": {},
   "source": [
    "### Exercise 3\n",
    "<span style=\"color:green\">Create an `if` statement with a condition that evaluates as `True`. Use the `print` function as the only line its code block to print a message to the screen.</span> "
   ]
  },
  {
   "cell_type": "code",
   "execution_count": null,
   "metadata": {},
   "outputs": [],
   "source": []
  },
  {
   "cell_type": "markdown",
   "metadata": {},
   "source": [
    "### Exercise 4\n",
    "<span style=\"color:green\">Change the value of `test_string` so that the first `print` function gets triggered.</span> "
   ]
  },
  {
   "cell_type": "code",
   "execution_count": null,
   "metadata": {},
   "outputs": [],
   "source": [
    "test_string = ''\n",
    "if test_string.count('a') > 4:\n",
    "    print(\"There are more than 4 a's in your string\")\n",
    "elif test_string.find('k') > 10:\n",
    "    print(\"The first k occurs after the 11th element\")\n",
    "else:\n",
    "    print(\"No info on your string. Please change it\")"
   ]
  },
  {
   "cell_type": "markdown",
   "metadata": {},
   "source": [
    "### Exercise 5\n",
    "<span style=\"color:green\">Change the value of `test_string` so that the second `print` function gets triggered.</span> "
   ]
  },
  {
   "cell_type": "code",
   "execution_count": null,
   "metadata": {},
   "outputs": [],
   "source": [
    "test_string = ''\n",
    "if test_string.count('a') > 4:\n",
    "    print(\"There are more than 4 a's in your string\")\n",
    "elif test_string.find('k') > 10:\n",
    "    print(\"The first k occurs after the 11th element\")\n",
    "else:\n",
    "    print(\"No info on your string. Please change it\")"
   ]
  },
  {
   "cell_type": "markdown",
   "metadata": {},
   "source": [
    "### Exercise 6\n",
    "<span style=\"color:green\">Assign an integer to `x`. Then, write an expression that returns `True` if `x` is either greater than 10 or divisible by 7.</span> "
   ]
  },
  {
   "cell_type": "code",
   "execution_count": null,
   "metadata": {},
   "outputs": [],
   "source": []
  },
  {
   "cell_type": "markdown",
   "metadata": {},
   "source": [
    "### Exercise 7\n",
    "<span style=\"color:green\">Write an expression that returns `True` if the last character of a string is not 'a'.</span> "
   ]
  },
  {
   "cell_type": "code",
   "execution_count": null,
   "metadata": {},
   "outputs": [],
   "source": [
    "s = 'pythonista'"
   ]
  },
  {
   "cell_type": "markdown",
   "metadata": {},
   "source": [
    "### Exercise 8\n",
    "<span style=\"color:green\">Write a simple program that determines whether someone has enough money to pay for rent. If they have enough money, print out how much is left in the account. If they don't have enough, print out how much they owe. If they have the exact rent, print out a different message. Test your code with different values of rent.</span> "
   ]
  },
  {
   "cell_type": "code",
   "execution_count": null,
   "metadata": {},
   "outputs": [],
   "source": [
    "rent = 454.88\n",
    "account = 645.22"
   ]
  },
  {
   "cell_type": "markdown",
   "metadata": {},
   "source": [
    "### Exercise 9\n",
    "<span style=\"color:green\">Use a for-loop to sum up all the numbers from 1 to 1,000.</span>"
   ]
  },
  {
   "cell_type": "code",
   "execution_count": 8,
   "metadata": {},
   "outputs": [
    {
     "name": "stdout",
     "output_type": "stream",
     "text": [
      "500500\n"
     ]
    }
   ],
   "source": [
    "x_list = []\n",
    "for x in list(range(1,1001)):\n",
    "    x_list.append(x)\n",
    "print(sum(x_list))"
   ]
  },
  {
   "cell_type": "markdown",
   "metadata": {},
   "source": [
    "### Exercise 10\n",
    "<span style=\"color:green\">Use a for-loop to calculate the mean (average) from the given list of values.</span>"
   ]
  },
  {
   "cell_type": "code",
   "execution_count": null,
   "metadata": {},
   "outputs": [],
   "source": [
    "values = [99, 143, 32, 412]"
   ]
  },
  {
   "cell_type": "markdown",
   "metadata": {},
   "source": [
    "### Exercise 11\n",
    "<span style=\"color:green\">Calculate the sum of the squared values of each of the first 100 positive integers.</span>"
   ]
  },
  {
   "cell_type": "code",
   "execution_count": 9,
   "metadata": {},
   "outputs": [
    {
     "name": "stdout",
     "output_type": "stream",
     "text": [
      "338350\n"
     ]
    }
   ],
   "source": [
    "x_list2 = []\n",
    "\n",
    "for x in list(range(1,101)):\n",
    "    x_list2.append(x**2)\n",
    "print(sum(x_list2))"
   ]
  },
  {
   "cell_type": "markdown",
   "metadata": {},
   "source": [
    "### Exercise 12\n",
    "<span style=\"color:green\">Use a for-loop to iterate over the first 10 positive integers, printing out their squared value only if the value is greater than 50.</span>"
   ]
  },
  {
   "cell_type": "code",
   "execution_count": 11,
   "metadata": {},
   "outputs": [
    {
     "name": "stdout",
     "output_type": "stream",
     "text": [
      "64\n",
      "81\n",
      "100\n"
     ]
    }
   ],
   "source": [
    "for x in list(range(1,11)):\n",
    "    if x**2 >50:\n",
    "        print(x**2)"
   ]
  },
  {
   "cell_type": "markdown",
   "metadata": {},
   "source": [
    "### Exercise 13\n",
    "<span style=\"color:green\">Use a for-loop to iterate over every 25th positive integer up to 200, appending its squared value to a list.</span>"
   ]
  },
  {
   "cell_type": "code",
   "execution_count": 12,
   "metadata": {},
   "outputs": [
    {
     "name": "stdout",
     "output_type": "stream",
     "text": [
      "[0, 625, 2500, 5625, 10000, 15625, 22500, 30625, 40000]\n"
     ]
    }
   ],
   "source": [
    "x_list3 = []\n",
    "\n",
    "for x in list(range(0,201,25)):\n",
    "    x_list3.append(x**2)\n",
    "\n",
    "print(x_list3)"
   ]
  },
  {
   "cell_type": "markdown",
   "metadata": {},
   "source": [
    "### Exercise 14\n",
    "<span style=\"color:green\">Calculate the variance of the following list of values. To calculate the variance, first calculate the mean and assign it to a variable. Then, iterate through each value and find the difference between it and the mean. Square this difference. Finally, sum the squares of all these differences and divide by the total number of values.</span>"
   ]
  },
  {
   "cell_type": "code",
   "execution_count": null,
   "metadata": {},
   "outputs": [],
   "source": [
    "values = [913.41, -44, 77.77, 0, 23, 5]"
   ]
  },
  {
   "cell_type": "markdown",
   "metadata": {},
   "source": [
    "### Exercise 15\n",
    "<span style=\"color:green\">Use a for-loop to iterate over every integer from 100 to 999. Assign the first and last digits to variables (Hint: use integer division and the modulus operator). Create a list of only the numbers where the first digit is exactly 7 more than the last digit. Output the first and last 5 numbers of this list to verify that it is correct. </span>"
   ]
  },
  {
   "cell_type": "code",
   "execution_count": null,
   "metadata": {},
   "outputs": [],
   "source": []
  },
  {
   "cell_type": "markdown",
   "metadata": {},
   "source": [
    "### Exercise 16\n",
    "<span style=\"color:green\">Use a while loop to find the sum of all integers between 0 and a given integer `x`. Output result.</span>"
   ]
  },
  {
   "cell_type": "code",
   "execution_count": null,
   "metadata": {},
   "outputs": [],
   "source": [
    "x = 20\n",
    "\n"
   ]
  },
  {
   "cell_type": "markdown",
   "metadata": {},
   "source": [
    "### Exercise 17\n",
    "\n",
    "<span style=\"color:green\">Assign 'x' a positive integer. Use a while loop to find the sum of all integers between half of `x` and `x`.</span>"
   ]
  },
  {
   "cell_type": "code",
   "execution_count": null,
   "metadata": {},
   "outputs": [],
   "source": []
  },
  {
   "cell_type": "markdown",
   "metadata": {},
   "source": [
    "### Exercise 18\n",
    "\n",
    "<span style=\"color:green\">Use nested for-loops in this exercise. Write an outer for-loop to iterate over the integers 0 through 9. Within this for-loop, write an inner for-loop to iterate over the integers 0 through 4. Create two separate variables to count the total number of iterations for each loop and output their values. Is it what you expect?</span>"
   ]
  },
  {
   "cell_type": "code",
   "execution_count": null,
   "metadata": {},
   "outputs": [],
   "source": [
    "count_outer = 0\n",
    "count_inner = 0"
   ]
  },
  {
   "cell_type": "markdown",
   "metadata": {},
   "source": [
    "### Exercise 19\n",
    "\n",
    "<span style=\"color:green\">A well-known property of right triangles is that the hypotenuse squared equals the sum of the squares of the other two sides. This is known as the Pythagorean theorem and is usually written as $a^2 + b^2 = c^2$. A Pythagorean triple is a set of three integers that satisfy the theorem. For instance, 3, 4, and 5 are a Pythagorean triple as 9 + 16 = 25. Can you find all the Pythagorean triples where all sides are less than 20."
   ]
  },
  {
   "cell_type": "code",
   "execution_count": null,
   "metadata": {},
   "outputs": [],
   "source": []
  },
  {
   "cell_type": "markdown",
   "metadata": {},
   "source": [
    "### Exercise 20\n",
    "<span style=\"color:green\">When rolling two dice, there are six combinations that make a total of 7 and two combinations that make a total of 11. Theoretically, 7 should be rolled three times as often as 11 (6 vs 2 combinations). Simulate the rolling of 1,000 dice to verify that this ratio is likely correct.</span>"
   ]
  },
  {
   "cell_type": "code",
   "execution_count": null,
   "metadata": {},
   "outputs": [],
   "source": [
    "import random"
   ]
  },
  {
   "cell_type": "markdown",
   "metadata": {},
   "source": [
    "### Exercise 21\n",
    "<span style=\"color:green\">Create a simulation to estimate the average number of rolls of two dice it takes until you get a total of 7 or 11. This will require nested loops.</span>"
   ]
  },
  {
   "cell_type": "code",
   "execution_count": null,
   "metadata": {},
   "outputs": [],
   "source": []
  },
  {
   "cell_type": "markdown",
   "metadata": {},
   "source": [
    "### Exercise 22\n",
    "<span style=\"color:green\">It's possible to simulate someone playing craps until a certain criteria is met. Continually play the game of craps until the balance has doubled or until the player is out of money. Use the code from this chapter, but modify it so that the print statements are removed and that the balance is updated each game. Keep track of the number of games played and print this number out with the ending balance.</span>"
   ]
  },
  {
   "cell_type": "code",
   "execution_count": null,
   "metadata": {},
   "outputs": [],
   "source": []
  },
  {
   "cell_type": "markdown",
   "metadata": {},
   "source": [
    "### Exercise 23\n",
    "<span style=\"color:green\">Simulate the scenario in Exercise 22 1,000 times and determine what percentage of the time you would end up doubling your money. Use a print function to write out the results. Is craps a good investment? (this takes a while to simulate)</span>"
   ]
  },
  {
   "cell_type": "code",
   "execution_count": null,
   "metadata": {},
   "outputs": [],
   "source": []
  },
  {
   "cell_type": "markdown",
   "metadata": {},
   "source": [
    "### Exercise 24\n",
    "<span style=\"color:green\">Use a list comprehension to create a list that divides each of the integers 0 through 9 by 4.</span>"
   ]
  },
  {
   "cell_type": "code",
   "execution_count": null,
   "metadata": {},
   "outputs": [],
   "source": []
  },
  {
   "cell_type": "markdown",
   "metadata": {},
   "source": [
    "### Exercise 25\n",
    "<span style=\"color:green\">Find the difference between twice a number and the square of each number for all the integers 0 through 9. Use a list comprehension.</span>"
   ]
  },
  {
   "cell_type": "code",
   "execution_count": null,
   "metadata": {},
   "outputs": [],
   "source": []
  },
  {
   "cell_type": "markdown",
   "metadata": {},
   "source": [
    "### Exercise 26\n",
    "<span style=\"color:green\">Use a list comprehension to concatenate the first and last character of each of the strings in the following list.</span>"
   ]
  },
  {
   "cell_type": "code",
   "execution_count": null,
   "metadata": {},
   "outputs": [],
   "source": [
    "words = ['list', 'comprehensions', 'rock']"
   ]
  },
  {
   "cell_type": "markdown",
   "metadata": {},
   "source": [
    "### Exercise 27\n",
    "<span style=\"color:green\">Use a conditional list comprehension to return all of the strings from a list of strings that have the letter 'e' in them.</span>"
   ]
  },
  {
   "cell_type": "code",
   "execution_count": null,
   "metadata": {},
   "outputs": [],
   "source": [
    "words = ['List', 'comprehensions', 'are', 'fantastic']"
   ]
  },
  {
   "cell_type": "markdown",
   "metadata": {},
   "source": [
    "### Exercise 28\n",
    "<span style=\"color:green\">Use a conditional list comprehension to return a list of just the vowels of the following string.</span>"
   ]
  },
  {
   "cell_type": "code",
   "execution_count": null,
   "metadata": {},
   "outputs": [],
   "source": [
    "letters = 'Aardvarks are native to Africa'"
   ]
  },
  {
   "cell_type": "markdown",
   "metadata": {},
   "source": [
    "### Exercise 29\n",
    "\n",
    "<span style=\"color:green\">Write a list comprehension that loops through all numbers between 0 and 49, filters them for those that end in 3 or 7 and then squares the number.</span>"
   ]
  },
  {
   "cell_type": "code",
   "execution_count": null,
   "metadata": {},
   "outputs": [],
   "source": []
  },
  {
   "cell_type": "markdown",
   "metadata": {},
   "source": [
    "### Exercise 30\n",
    "\n",
    "<span style=\"color:green\">Rewrite the following code using the ternary conditional operator.</span>\n",
    "\n",
    "```\n",
    "x = 100\n",
    "if x > 99:\n",
    "     label = 'perfect'\n",
    "else:\n",
    "     label = 'still need work to do\n",
    "```"
   ]
  },
  {
   "cell_type": "code",
   "execution_count": null,
   "metadata": {},
   "outputs": [],
   "source": []
  },
  {
   "cell_type": "markdown",
   "metadata": {},
   "source": [
    "### Exercise 31\n",
    "\n",
    "<span style=\"color:green\">Use the ternary conditional operator to square a number if it's even and raise it to the third power if it's odd.</span>"
   ]
  },
  {
   "cell_type": "code",
   "execution_count": null,
   "metadata": {},
   "outputs": [],
   "source": []
  },
  {
   "cell_type": "markdown",
   "metadata": {},
   "source": [
    "### Exercise 32\n",
    "\n",
    "<span style=\"color:green\">The ranges below contain the lengths and widths in feet of rectangular rooms that will be tiled. The price per square foot for different tiles is given in the `price` list. Use a list comprehension to return the total price for each room, but only if the room is greater than 800 square feet.</span>"
   ]
  },
  {
   "cell_type": "code",
   "execution_count": null,
   "metadata": {},
   "outputs": [],
   "source": [
    "length = range(10, 30, 5)\n",
    "width = range(2,40,2)\n",
    "price = [1, 2, 4]"
   ]
  },
  {
   "cell_type": "markdown",
   "metadata": {},
   "source": [
    "### Exercise 33\n",
    "\n",
    "<span style=\"color:green\">Rewrite the list comprehension in exercise 32 using nested for-loops and normal if/then statements.</span>"
   ]
  },
  {
   "cell_type": "code",
   "execution_count": null,
   "metadata": {},
   "outputs": [],
   "source": []
  },
  {
   "cell_type": "markdown",
   "metadata": {},
   "source": [
    "### Exercise 34\n",
    "\n",
    "<span style=\"color:green\">Use a while loop with just the given list as the condition. In the loop's code block. Remove the last item of the list and print it to the screen. There is a list method that does this removal for you. The while loop should end when the truth value of the list evaluates as `False`.</span>"
   ]
  },
  {
   "cell_type": "code",
   "execution_count": null,
   "metadata": {},
   "outputs": [],
   "source": [
    "words = ['Launch!!!', 1, 2, 3, 4, 5]"
   ]
  }
 ],
 "metadata": {
  "anaconda-cloud": {},
  "kernelspec": {
   "display_name": "Python 3",
   "language": "python",
   "name": "python3"
  },
  "language_info": {
   "codemirror_mode": {
    "name": "ipython",
    "version": 3
   },
   "file_extension": ".py",
   "mimetype": "text/x-python",
   "name": "python",
   "nbconvert_exporter": "python",
   "pygments_lexer": "ipython3",
   "version": "3.7.3"
  }
 },
 "nbformat": 4,
 "nbformat_minor": 4
}
