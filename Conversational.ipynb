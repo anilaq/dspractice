{
 "cells": [
  {
   "cell_type": "markdown",
   "metadata": {},
   "source": [
    "This notebook will be broken down into two parts: \n",
    "1. Probability & Statistics, applications in data science <br>\n",
    "2. Common coding questions that can be done mentally\n"
   ]
  },
  {
   "cell_type": "markdown",
   "metadata": {},
   "source": [
    "## Probability & Statistics"
   ]
  },
  {
   "cell_type": "markdown",
   "metadata": {},
   "source": [
    "***1. What is Central Limit Theorem (CLT) and why is it important?***\n",
    "\n",
    "The central limit theorem states that if you have a population with a mean and standard deviation and take sufficiently large random samples from the population with replacement, then the distribution of the sample means will be approximately distributed. It establishes that in many situtations, when independent random variables are added, they are properly normalised sum tends toward the normal distribution (bell curve) even if the original variables themselves are not normally distributed. This is important in probability and statistics because it means that if this concept works towards normal distributions it can therefore be applicable to many problems involving other types of distributions. \n",
    "\n",
    "Central Limit Theorem is a part of inferential statistics. CLT helps with understanding distributions, is important for sampling and it is used for parameter estimation. The CLT is probably one of the most important concepts in inferential statistics. \n",
    "\n",
    "“Suppose that we are interested in estimating the average height among all people. Collecting data for every person in the world is impossible. While we can’t obtain a height measurement from everyone in the population, we can still sample some people. The question now becomes, what can we say about the average height of the entire population given a single sample. The Central Limit Theorem addresses this\n",
    "question exactly.”\n",
    "\n",
    "\n",
    "\n",
    "It has several properties: \n",
    "1. the random variables must be identically distributed\n",
    "2. the convergence of the mean to the normal distribution also occurs for non-identical distributions or non-independent observations, if they comply with certain conditions"
   ]
  },
  {
   "cell_type": "markdown",
   "metadata": {},
   "source": [
    "***2. What is sampling?***\n",
    "\n",
    "Sampling is a form of statistical analysis that is used to select, manipulate and analyze a representative subset of data points to identify patterns and trends in the larger data set being examined. "
   ]
  },
  {
   "cell_type": "markdown",
   "metadata": {},
   "source": [
    "***3. What is the difference between type I vs type II error?***\n",
    "\n",
    "“A type I error occurs when the null hypothesis is true, but is rejected. A type II error occurs when the null hypothesis is false, but erroneously fails to be rejected.” \n",
    "\n"
   ]
  },
  {
   "cell_type": "markdown",
   "metadata": {},
   "source": [
    "***4. What is linear regression? What do the terms p-value, coefficient, and r-squared value mean? What is the significance of each of these components?***\n",
    "A linear regression is a good tool for quick predictive analysis: for example, the price of a house depends on a myriad of factors, such as its size or its location. In order to see the relationship between these variables, we need to build a linear regression, which predicts the line of best fit between them and can help conclude whether or not these two factors have a positive or negative relationship. \n"
   ]
  },
  {
   "cell_type": "markdown",
   "metadata": {},
   "source": [
    "***5. What are the assumptions required for linear regression?***\n",
    "There are four major assumptions: 1. There is a linear relationship between the dependent variables and the regressors, meaning the model you are creating actually fits the data, 2. The errors or residuals of the data are normally distributed and independent from each other, 3. There is minimal multicollinearity between explanatory variables, and 4. Homoscedasticity. This means the variance around the regression line is the same for all values of the predictor variable.\n"
   ]
  },
  {
   "cell_type": "markdown",
   "metadata": {},
   "source": [
    "***6. What is a statistical interaction?***\n",
    "”Basically, an interaction is when the effect of one factor (input variable) on the dependent variable (output variable) differs among levels of another factor.” "
   ]
  },
  {
   "cell_type": "markdown",
   "metadata": {},
   "source": [
    "***7. What is selection bias? ***\n",
    "\n",
    "Selection (or ‘sampling’) bias occurs in an ‘active,’ sense when the sample data that is gathered and prepared for modeling has characteristics that are not representative of the true, future population of cases the model will see. That is, active selection bias occurs when a subset of the data are systematically (i.e., non-randomly) excluded from analysis.”"
   ]
  },
  {
   "cell_type": "markdown",
   "metadata": {},
   "source": [
    "***8. What is an example of a data set with a non-Gaussian distribution?*** <br>\n",
    "“The Gaussian distribution is part of the Exponential family of distributions, but there are a lot more of them, with the same sort of ease of use, in many cases, and if the person doing the machine learning has a solid grounding in statistics, they can be utilized where appropriate.” "
   ]
  },
  {
   "cell_type": "markdown",
   "metadata": {},
   "source": [
    "***9. What is the Binomial Probability Formula?***\n",
    " “The binomial distribution consists of the probabilities of each of the possible numbers of successes on N trials for independent events that each have a probability of π (the Greek letter pi) of occurring.” "
   ]
  },
  {
   "cell_type": "markdown",
   "metadata": {},
   "source": [
    "## Data Science Qs"
   ]
  },
  {
   "cell_type": "markdown",
   "metadata": {},
   "source": [
    "***10. What is Data Science? List the differences between supervised and unsupervised learning.***\n",
    "\n",
    "Data Science is a blend of various tools, algorithms, and machine learning principles with the goal to discover hidden patterns from the raw data. How is this different from what statisticians have been doing for years?\n",
    "The answer lies in the difference between explaining and predicting.\n",
    "\n",
    "The differences between supervised and unsupervised learning are as follows;<br>\n",
    "Supervise Learning: <br>\n",
    "input data is labelled, uses a traning data set, used for prediction, enables classification and regression\n",
    "<br>\n",
    "Unsupervised Learning: <br>\n",
    "input data is unlabelled, uses the input data set, used for analysis, enabled classification, density estimation, & dimension reduction"
   ]
  },
  {
   "cell_type": "markdown",
   "metadata": {},
   "source": [
    "***11. What is Selection Bias??***\n",
    "Selection bias is a kind of error that occurs when the researcher decides who is going to be studied. It is usually associated with research where the selection of participants isn’t random. It is sometimes referred to\n",
    "Input data is unlabelled. Uses the input data set. Used for analysis.\n",
    "        \n",
    "\n",
    "It is the distortion of statistical analysis, resulting from the method of collecting samples. If the selection bias is not taken into account, then some conclusions of the study may not be accurate.\n",
    "The types of selection bias include:\n",
    "1. Sampling bias: It is a systematic error due to a non-random sample of a population causing some members of the population to be less likely to be included than others resulting in a biased sample.\n",
    "2. Timeinterval:Atrialmaybeterminatedearlyatanextremevalue(oftenforethicalreasons),butthe extreme value is likely to be reached by the variable with the largest variance, even if all variables have a similar mean.\n",
    "3. Data: When specific subsets of data are chosen to support a conclusion or rejection of bad data on arbitrary grounds, instead of according to previously stated or generally agreed criteria.\n",
    "4. Attrition: Attrition bias is a kind of selection bias caused by attrition (loss of participants) discounting trial subjects/tests that did not run to completion."
   ]
  },
  {
   "cell_type": "markdown",
   "metadata": {},
   "source": [
    "***12. What is bias-variance trade-off?*** \n",
    "\n",
    "***Bias***: Bias is an error introduced in your model due to oversimplification of the machine learning algorithm. It can lead to underfitting. When you train your model at that time model makes simplified assumptions to make the target function easier to understand.\n",
    "Low bias machine learning algorithms — Decision Trees, k-NN and SVM High bias machine learning algorithms — Linear Regression, Logistic Regression <br>\n",
    "***Variance***: Variance is error introduced in your model due to complex machine learning algorithm, your model learns noise also from the training data set and performs badly on test data set. It can lead to high sensitivity and overfitting.\n",
    "Normally, as you increase the complexity of your model, you will see a reduction in error due to lower bias in the model. However, this only happens until a particular point. As you continue to make your model more complex, you end up over-fitting your model and hence your model will start suffering from high variance.\n",
    "\n",
    "***Bias-Variance trade-off***: The goal of any supervised machine learning algorithm is to have low bias and low variance to achieve good prediction performance.\n",
    "1. The k-nearest neighbour algorithm has low bias and high variance, but the trade-off can be changed by increasing the value of k which increases the number of neighbours that contribute to the prediction and in turn increases the bias of the model.\n",
    "2. The support vector machine algorithm has low bias and high variance, but the trade-off can be changed by increasing the C parameter that influences the number of violations of the margin allowed in the training data which increases the bias but decreases the variance.\n",
    "\n",
    "There is no escaping the relationship between bias and variance in machine learning. Increasing the bias will decrease the variance. Increasing the variance will decrease bias."
   ]
  },
  {
   "cell_type": "markdown",
   "metadata": {},
   "source": [
    "***12. What is a confusion matrix?***\n",
    "The confusion matrix is a 2X2 table that contains 4 outputs provided by the binary classifier. Various measures, such as error-rate, accuracy, specificity, sensitivity, precision and recall are derived from it. Confusion Matrix\n",
    "TP (Top left), False Negative (Top Right), False Positive (Bottom Left), True Negative (Bottom Right)\n",
    "A data set used for performance evaluation is called a test data set. It should contain the correct labels and predicted labels.<br>\n",
    "Two actuall classes of observed labels (P and N) positive and negative. \n",
    "<br>\n",
    "The predicted labels will be exactly the same if the performance of a binary classifier is perfect.\n",
    "***Basic measures derived from the confusion matrix***\n",
    "1. Error Rate = (FP+FN)/(P+N)\n",
    "2. Accuracy=(TP+TN)/(P+N)\n",
    "3. Sensitivity(Recall or True positive rate) = TP/P\n",
    "4. Specificity(True negative rate) = TN/N\n",
    "5. Precision(Positive predicted value) = TP/(TP+FP)\n",
    "6. F-Score(Harmonic mean of precision and recall) = (1+b)(PREC.REC)/(b2PREC+REC) where b is\n",
    "commonly 0.5, 1, 2."
   ]
  },
  {
   "cell_type": "markdown",
   "metadata": {},
   "source": [
    "## Statistics "
   ]
  },
  {
   "cell_type": "markdown",
   "metadata": {},
   "source": [
    "***13. What is the difference between \"long\" and \"wide\" format data?***\n",
    "\n",
    "In the wide-format, a subject’s repeated responses will be in a single row, and each response is in a separate column. In the long-format, each row is a one-time point per subject. You can recognize data in wide format by the fact that columns generally represent groups."
   ]
  },
  {
   "cell_type": "markdown",
   "metadata": {},
   "source": [
    "***14. What do you understand by the term Normal Distribution?***\n",
    "Data is usually distributed in different ways with a bias to the left or to the right or it can all be jumbled up.\n",
    "However, there are chances that data is distributed around a central value without any bias to the left or right and reaches normal distribution in the form of a bell-shaped curve.\n",
    "The random variables are distributed in the form of a symmetrical, bell-shaped curve. Properties of Normal Distribution are as follows;\n",
    "1. Unimodal-onemode\n",
    "2. Symmetrical -left and right halves are mirror images\n",
    "3. Bell-shaped-maximumheight(mode)atthemean\n",
    "4. Mean,Mode,andMedianarealllocatedinthecenter\n",
    "5. Asymptotic"
   ]
  },
  {
   "cell_type": "markdown",
   "metadata": {},
   "source": [
    "***15. What is correlation and covariance in statistics?***\n",
    "Covariance and Correlation are two mathematical concepts; these two approaches are widely used in statistics. Both Correlation and Covariance establish the relationship and also measure the dependency between two random variables. Though the work is similar between these two in mathematical terms, they are different from each other.<br>\n",
    "***Correlation*** is considered or described as the best technique for measuring and also for estimating the quantitative relationship between two variables. Correlation measures how strongly two variables are\n",
    "related.<br>\n",
    "***Covariance***: In covariance two items vary together and it’s a measure that indicates the extent to which two random variables change in cycle. It is a statistical term; it explains the systematic relation between a pair of random variables, wherein changes in one variable reciprocal by a corresponding change in another variable."
   ]
  },
  {
   "cell_type": "markdown",
   "metadata": {},
   "source": [
    "***16.What is the difference between Point Estimates and Confidence Interval?*** <br>\n",
    "Point Estimation gives us a particular value as an estimate of a population parameter. Method of Moments and Maximum Likelihood estimator methods are used to derive Point Estimators for population parameters.\n",
    "A confidence interval gives us a range of values which is likely to contain the population parameter. The confidence interval is generally preferred, as it tells us how likely this interval is to contain the population parameter. This likeliness or probability is called Confidence Level or Confidence coefficient and represented by 1 — alpha, where alpha is the level of significance.\n"
   ]
  },
  {
   "cell_type": "markdown",
   "metadata": {},
   "source": [
    "***17. What is the goal of A/B Testing? ***\n",
    "\n",
    "It is a hypothesis testing for a randomized experiment with two variables A and B.\n",
    "The goal of A/B Testing is to identify any changes to the web page to maximize or increase the outcome of interest. A/B testing is a fantastic method for figuring out the best online promotional and marketing strategies for your business. It can be used to test everything from website copy to sales emails to search ads An example of this could be identifying the click-through rate for a banner ad."
   ]
  },
  {
   "cell_type": "markdown",
   "metadata": {},
   "source": [
    "***Q18. What is p-value?***\n",
    "When you perform a hypothesis test in statistics, a p-value can help you determine the strength of your results. p-value is a number between 0 and 1. Based on the value it will denote the strength of the results. The claim which is on trial is called the Null Hypothesis.\n",
    "Low p-value (≤ 0.05) indicates strength against the null hypothesis which means we can reject the null Hypothesis. High p-value (≥ 0.05) indicates strength for the null hypothesis which means we can accept the null Hypothesis p-value of 0.05 indicates the Hypothesis could go either way. To put it in another way,\n",
    "High P values: your data are likely with a true null. Low P values: your data are unlikely with a true null."
   ]
  },
  {
   "cell_type": "markdown",
   "metadata": {},
   "source": [
    "***19. In any 15-minute interval, there is a 20% probability that you will see at least one shooting star. What is the probability that you see at least one shooting star in the period of an hour?***\n",
    " 1 – P( Seeing one shooting star ) = 1–0.2 = 0.8\n",
    "Probability of not seeing any shooting star in the period of one hour\n",
    "= (0.8) ^ 4 = 0.4096\n",
    "Probability of seeing at least one shooting star in the one hour\n",
    "= 1 – P( Not seeing any star ) = 1 – 0.4096 = 0.5904"
   ]
  },
  {
   "cell_type": "markdown",
   "metadata": {},
   "source": [
    "***20. How can you generate a random number between 1 – 7 with only a die?***\n",
    "Any die has six sides from 1-6. There is no way to get seven equal outcomes from a single rolling of a die. If we roll the die twice and consider the event of two rolls, we now have 36 different outcomes.\n",
    "• To get our 7 equal outcomes we have to reduce this 36 to a number divisible by 7. We can thus\n",
    "consider only 35 outcomes and exclude the other one.\n",
    "• A simple scenario can be to exclude the combination (6,6), i.e., to roll the die again if 6 appears twice.\n",
    "• All the remaining combinations from (1,1) till (6,5) can be divided into 7 parts of 5 each. This way all\n",
    "the seven sets of outcomes are equally likely."
   ]
  },
  {
   "cell_type": "markdown",
   "metadata": {},
   "source": [
    "***21. A certain couple tells you that they have two children, at least one of which is a girl. What is the probability that they have two girls?*** <br>\n",
    "In the case of two children, there are 4 equally likely possibilities\n",
    "***BB, BG, GB and GG***;\n",
    "where B = Boy and G = Girl and the first letter denotes the first child.\n",
    "From the question, we can exclude the first case of BB. Thus from the remaining 3 possibilities of ***BG, GB & BB***, we have to find the probability of the case with two girls.\n",
    "Thus, P(Having two girls given one girl) = ***1 / 3***"
   ]
  },
  {
   "cell_type": "markdown",
   "metadata": {},
   "source": [
    "***22. A jar has 1000 coins, of which 999 are fair and 1 is double headed. Pick a coin at random, and toss it 10 times. Given that you see 10 heads, what is the probability that the next toss of that coin is also a head?***\n",
    "There are two ways of choosing the coin. One is to pick a fair coin and the other is to pick the one with two heads.<br>\n",
    "Probability of selecting fair coin = 999/1000 = 0.999 Probability of selecting unfair coin = 1/1000 = 0.001<br>\n",
    "Selecting 10 heads in a row = Selecting fair coin * Getting 10 heads + Selecting an unfair coin <br>\n",
    "P (A) = 0.999 * (1/2)^5 = 0.999 * (1/1024) = 0.000976 P (B) = 0.001 * 1 =0.001 P( A / A + B ) =0.000976 / (0.000976 + 0.001) = 0.4939 P( B / A + B ) = 0.001 / 0.001976 = 0.5061<br>\n",
    "Probability of selecting another head = P(A/A+B) * 0.5 + P(B/A+B) * 1 = 0.4939 * 0.5 + 0.5061 = 0.7531 <br>"
   ]
  },
  {
   "cell_type": "markdown",
   "metadata": {},
   "source": [
    "***23. What do you understand by statistical power of sensitivity and how do you calculate it?***\n",
    "Sensitivity is commonly used to validate the accuracy of a classifier (Logistic, SVM, Random Forest etc.)<br>\n",
    "Sensitivity is nothing but “Predicted True events/ Total events”. True events here are the events which were true and model also predicted them as true.<br>\n",
    "Calculation of seasonality is pretty straightforward. <br>\n",
    "Seasonality = ( True Positives ) / ( Positives in Actual Dependent Variable )"
   ]
  },
  {
   "cell_type": "markdown",
   "metadata": {},
   "source": [
    "***24.Why Is Re-sampling Done?***\n",
    "Resampling is done in any of these cases:\n",
    "• Estimating the accuracy of sample statistics by using subsets of accessible data or drawing randomly with replacement from a set of data points\n",
    "• Substituting labels on data points when performing significance tests\n",
    "• Validating models by using random subsets (bootstrapping, cross-validation)\n"
   ]
  },
  {
   "cell_type": "markdown",
   "metadata": {},
   "source": [
    "***25. What are the differences between over-fitting and under-fitting?*** <br>\n",
    "In statistics and machine learning, one of the most common tasks is to fit a model to a set of training data, so as to be able to make reliable predictions on general untrained data.<br>\n",
    "In overfitting, a statistical model describes random error or noise instead of the underlying relationship. Overfitting occurs when a model is excessively complex, such as having too many parameters relative to the number of observations. A model that has been overfitted, has poor predictive performance, as it overreacts to minor fluctuations in the training data.<br>\n",
    "Underfitting occurs when a statistical model or machine learning algorithm cannot capture the underlying trend of the data. Underfitting would occur, for example, when fitting a linear model to non-linear data. Such a model too would have poor predictive performance."
   ]
  },
  {
   "cell_type": "markdown",
   "metadata": {},
   "source": [
    "***26. How to combat Overfitting and Underfitting?***\n",
    "To combat overfitting and underfitting, you can resample the data to estimate the model accuracy (k-fold cross-validation) and by having a validation dataset to evaluate the model.\n"
   ]
  },
  {
   "cell_type": "markdown",
   "metadata": {},
   "source": [
    "***27. What is regularisation? Why is it useful?***\n",
    "Regularisation is the process of adding tuning parameter to a model to induce smoothness in order to prevent overfitting. This is most often done by adding a constant multiple to an existing weight vector. This constant is often the L1(Lasso) or L2(ridge). The model predictions should then minimize the loss function calculated on the regularized training set."
   ]
  },
  {
   "cell_type": "markdown",
   "metadata": {},
   "source": [
    "***28. What Is the Law of Large Numbers?***\n",
    "It is a theorem that describes the result of performing the same experiment a large number of times. This theorem forms the basis of frequency-style thinking. It says that the sample means, the sample variance and the sample standard deviation converge to what they are trying to estimate."
   ]
  },
  {
   "cell_type": "markdown",
   "metadata": {},
   "source": [
    "***29. What Are Confounding Variables?***\n",
    "In statistics, a confounder is a variable that influences both the dependent variable and independent variable. For example, if you are researching whether a lack of exercise leads to weight gain,\n",
    "lack of exercise = independent variable\n",
    "weight gain = dependent variable.\n",
    "A confounding variable here would be any other variable that affects both of these variables, such as the age of the subject."
   ]
  },
  {
   "cell_type": "markdown",
   "metadata": {},
   "source": [
    "***30. What Are the Types of Biases That Can Occur During Sampling?*** <br>\n",
    "Selection bias<br>\n",
    "Under coverage bias<br>\n",
    "Survivorship bias\n"
   ]
  },
  {
   "cell_type": "markdown",
   "metadata": {},
   "source": [
    "***31. What is Survivorship Bias?***\n",
    "It is the logical error of focusing aspects that support surviving some process and casually overlooking those that did not work because of their lack of prominence. This can lead to wrong conclusions in numerous different means."
   ]
  },
  {
   "cell_type": "markdown",
   "metadata": {},
   "source": [
    "***32. What is selection Bias?***\n",
    "Selection bias occurs when the sample obtained is not representative of the population intended to be analysed."
   ]
  },
  {
   "cell_type": "markdown",
   "metadata": {},
   "source": [
    "***33. Explain how a ROC curve works?***\n",
    "The ROC curve is a graphical representation of the contrast between true positive rates and false-positive rates at various thresholds. It is often used as a proxy for the trade-off between the sensitivity(true positive rate) and false-positive rate."
   ]
  },
  {
   "cell_type": "markdown",
   "metadata": {},
   "source": [
    "***34. What is TF/IDF vectorization?***\n",
    "TF–IDF is short for term frequency-inverse document frequency, is a numerical statistic that is intended to reflect how important a word is to a document in a collection or corpus. It is often used as a weighting factor in information retrieval and text mining.\n",
    "The TF–IDF value increases proportionally to the number of times a word appears in the document but is offset by the frequency of the word in the corpus, which helps to adjust for the fact that some words appear more frequently in general.\n"
   ]
  },
  {
   "cell_type": "markdown",
   "metadata": {},
   "source": [
    "***35. Why we generally use Softmax non-linearity function as last operation in-network?***\n",
    "It is because it takes in a vector of real numbers and returns a probability distribution. Its definition is as follows. Let x be a vector of real numbers (positive, negative, whatever, there are no constraints).\n",
    "Then the i’th component of Softmax(x) is —\n",
    "It should be clear that the output is a probability distribution: each element is non-negative and the sum over all components is 1."
   ]
  },
  {
   "cell_type": "markdown",
   "metadata": {},
   "source": [
    "## Data Analysis Qs"
   ]
  },
  {
   "cell_type": "markdown",
   "metadata": {},
   "source": [
    "***36. Python or R – Which one would you prefer for text analytics?***\n",
    "We will prefer Python because of the following reasons:\n",
    "• Python would be the best option because it has Pandas library that provides easy to use data structures and high-performance data analysis tools.\n",
    "• R is more suitable for machine learning than just text analysis.\n",
    "• Python performs faster for all types of text analytics."
   ]
  },
  {
   "cell_type": "markdown",
   "metadata": {},
   "source": [
    "***37.How does data cleaning plays a vital role in the analysis?***\n",
    "Data cleaning can help in analysis because:\n",
    "• Cleaning data from multiple sources helps to transform it into a format that data analysts or data scientists can work with.\n",
    "• Data Cleaning helps to increase the accuracy of the model in machine learning.\n",
    "• It is a cumbersome process because as the number of data sources increases, the time taken to clean the data increases exponentially due to the number of sources and the volume of data\n",
    "generated by these sources.\n",
    "• It might take up to 80% of the time for just cleaning data making it a critical part of the analysis task."
   ]
  },
  {
   "cell_type": "markdown",
   "metadata": {},
   "source": [
    "***38. Differentiate between univariate, bivariate and multivariate analysis.***\n",
    "Univariate analyses are descriptive statistical analysis techniques which can be differentiated based on the number of variables involved at a given point of time. For example, the pie charts of sales based on territory involve only one variable and can the analysis can be referred to as univariate analysis.\n",
    "The bivariate analysis attempts to understand the difference between two variables at a time as in a scatterplot. For example, analyzing the volume of sale and spending can be considered as an example of bivariate analysis.\n",
    "Multivariate analysis deals with the study of more than two variables to understand the effect of variables on the responses."
   ]
  },
  {
   "cell_type": "markdown",
   "metadata": {},
   "source": [
    "***39. Explain Star Schema***\n",
    "It is a traditional database schema with a central table. Satellite tables map IDs to physical names or descriptions and can be connected to the central fact table using the ID fields; these tables are known as lookup tables and are principally useful in real-time applications, as they save a lot of memory. Sometimes star schemas involve several layers of summarization to recover information faster.\n"
   ]
  },
  {
   "cell_type": "markdown",
   "metadata": {},
   "source": [
    "***40. What is Cluster Sampling?***\n",
    "Cluster sampling is a technique used when it becomes difficult to study the target population spread across a wide area and simple random sampling cannot be applied. Cluster Sample is a probability sample where each sampling unit is a collection or cluster of elements.\n",
    "For eg., A researcher wants to survey the academic performance of high school students in Japan. He can divide the entire population of Japan into different clusters (cities). Then the researcher selects a number of clusters depending on his research through simple or systematic random sampling.\n",
    "Let’s continue our Data Science Interview Questions blog with some more statistics questions."
   ]
  },
  {
   "cell_type": "markdown",
   "metadata": {},
   "source": [
    "***41. What is Systematic Sampling?***\n",
    "Systematic sampling is a statistical technique where elements are selected from an ordered sampling frame. In systematic sampling, the list is progressed in a circular manner so once you reach the end of the list, it is progressed from the top again. The best example of systematic sampling is equal probability method.\n"
   ]
  },
  {
   "cell_type": "markdown",
   "metadata": {},
   "source": [
    "***42. What are Eigenvectors and Eigenvalues?***\n",
    "Eigenvectors are used for understanding linear transformations. In data analysis, we usually calculate the eigenvectors for a correlation or covariance matrix. Eigenvectors are the directions along which a particular linear transformation acts by flipping, compressing or stretching.\n",
    "Eigenvalue can be referred to as the strength of the transformation in the direction of eigenvector or the factor by which the compression occurs."
   ]
  },
  {
   "cell_type": "markdown",
   "metadata": {},
   "source": [
    "***43. Can you cite some examples where a false positive is important than a false negative?***\n",
    "Let us first understand what false positives and false negatives are.\n",
    "• False Positives are the cases where you wrongly classified a non-event as an event a.k.a Type I error.\n",
    "• False Negatives are the cases where you wrongly classify events as non-events, a.k.a Type II error.\n",
    "Example 1: In the medical field, assume you have to give chemotherapy to patients. Assume a patient comes to that hospital and he is tested positive for cancer, based on the lab prediction but he actually doesn’t have cancer. This is a case of false positive. Here it is of utmost danger to start chemotherapy on this patient when he actually does not have cancer. In the absence of cancerous cell, chemotherapy will do certain damage to his normal healthy cells and might lead to severe diseases, even cancer.\n",
    "Example 2: Let’s say an e-commerce company decided to give $1000 Gift voucher to the customers whom they assume to purchase at least $10,000 worth of items. They send free voucher mail directly to 100 customers without any minimum purchase condition because they assume to make at least 20% profit on sold items above $10,000. Now the issue is if we send the $1000 gift vouchers to customers who have not actually purchased anything but are marked as having made $10,000 worth of purchase."
   ]
  },
  {
   "cell_type": "markdown",
   "metadata": {},
   "source": [
    "***44. Can you cite some examples where a false negative important than a false positive?***\n",
    "Example 1: Assume there is an airport ‘A’ which has received high-security threats and based on certain characteristics they identify whether a particular passenger can be a threat or not. Due to a shortage of staff, they decide to scan passengers being predicted as risk positives by their predictive model. What will happen if a true threat customer is being flagged as non-threat by airport model?\n",
    "Example 2: What if Jury or judge decides to make a criminal go free?\n",
    "Example 3: What if you rejected to marry a very good person based on your predictive model and you\n",
    "happen to meet him/her after a few years and realize that you had a false negative?"
   ]
  },
  {
   "cell_type": "markdown",
   "metadata": {},
   "source": [
    "***45. Can you cite some examples where both false positive and false negatives are equally important?***\n",
    "In the Banking industry giving loans is the primary source of making money but at the same time if your repayment rate is not good you will not make any profit, rather you will risk huge losses.\n",
    "Banks don’t want to lose good customers and at the same point in time, they don’t want to acquire bad customers. In this scenario, both the false positives and false negatives become very important to measure.\n"
   ]
  },
  {
   "cell_type": "markdown",
   "metadata": {},
   "source": [
    "***46. Can you explain the difference between a Validation Set and a Test Set?***\n",
    "A Validation set can be considered as a part of the training set as it is used for parameter selection and to avoid overfitting of the model being built.\n",
    "On the other hand, a Test Set is used for testing or evaluating the performance of a trained machine learning model.\n",
    "In simple terms, the differences can be summarized as; training set is to fit the parameters i.e. weights and test set is to assess the performance of the model i.e. evaluating the predictive power and generalization."
   ]
  },
  {
   "cell_type": "markdown",
   "metadata": {},
   "source": [
    "***47.  Explain cross-validation.***\n",
    "\n",
    "Cross-validation is a model validation technique for evaluating how the outcomes of statistical analysis will generalize to an independent dataset. Mainly used in backgrounds where the objective is forecast and one wants to estimate how accurately a model will accomplish in practice.\n",
    "The goal of cross-validation is to term a data set to test the model in the training phase (i.e. validation data set) in order to limit problems like overfitting and get an insight on how the model will generalize to an independent data set."
   ]
  },
  {
   "cell_type": "markdown",
   "metadata": {},
   "source": [
    "## Machine Learning Qs"
   ]
  },
  {
   "cell_type": "markdown",
   "metadata": {},
   "source": [
    "***48. What is Machine learning?***\n",
    "Machine Learning explores the study and construction of algorithms that can learn from and make predictions on data. Closely related to computational statistics. Used to devise complex models and algorithms that lend themselves to a prediction which in commercial use is known as predictive analytics. Given below, is an image representing the various domains Machine Learning lends itself to."
   ]
  },
  {
   "cell_type": "markdown",
   "metadata": {},
   "source": [
    "***49. What is Supervised Learning?***\n",
    "Supervised learning is the machine learning task of inferring a function from labeled training data. The training data consist of a set of training examples.\n",
    "Algorithms: Support Vector Machines, Regression, Naive Bayes, Decision Trees, K-nearest Neighbor Algorithm and Neural Networks\n",
    "E.g. If you built a fruit classifier, the labels will be “this is an orange, this is an apple and this is a banana”, based on showing the classifier examples of apples, oranges and bananas."
   ]
  },
  {
   "cell_type": "markdown",
   "metadata": {},
   "source": [
    "***50. What is Unsupervised learning?***\n",
    "Unsupervised learning is a type of machine learning algorithm used to draw inferences from datasets consisting of input data without labelled responses.\n",
    "Algorithms: Clustering, Anomaly Detection, Neural Networks and Latent Variable Models\n",
    "E.g. In the same example, a fruit clustering will categorize as “fruits with soft skin and lots of dimples”, “fruits with shiny hard skin” and “elongated yellow fruits”."
   ]
  },
  {
   "cell_type": "markdown",
   "metadata": {},
   "source": [
    "***51.  What are the various classification algorithms?***\n",
    "most important classification algorithms: <br>\n",
    "classifier <br> \n",
    "- linear \n",
    "    - Naive Bayes\n",
    "    - Logistic Regression\n",
    "- decision trees\n",
    "- SVM\n",
    "    - linear\n",
    "    - non-linear\n",
    "- Kernel Estimation\n",
    "- Neural Networks\n",
    "    - recurrent neural network\n",
    "    -modular neural network\n",
    "- Quadratic"
   ]
  },
  {
   "cell_type": "markdown",
   "metadata": {},
   "source": [
    "***55. What is Naive in Naive Bayes?***\n",
    "The Naive Bayes Algorithm is based on the Bayes Theorem. Bayes’ theorem describes the probability of an event, based on prior knowledge of conditions that might be related to the event.\n",
    "The Algorithm is ‘naive’ because it makes assumptions that may or may not turn out to be correct."
   ]
  },
  {
   "cell_type": "markdown",
   "metadata": {},
   "source": [
    "***56. Explain SVM algorithm in detail***\n",
    "SVM stands for support vector machine, it is a supervised machine learning algorithm which can be used for both Regression and Classification. If you have n features in your training data set, SVM tries to plot it\n",
    "in n-dimensional space with the value of each feature being the value of a particular coordinate. SVM uses hyperplanes to separate out different classes based on the provided kernel function.\n"
   ]
  },
  {
   "cell_type": "markdown",
   "metadata": {},
   "source": [
    "***57. What are the support vectors in SVM?***\n",
    "we see that the thinner lines mark the distance from the classifier to the closest data points called the support vectors (darkened data points). The distance between the two thin lines is called the margin."
   ]
  },
  {
   "cell_type": "markdown",
   "metadata": {},
   "source": [
    "***58. What are the different kernels in SVM?***\n",
    "There are four types of kernels in SVM.\n",
    "1. LinearKernel\n",
    "2. Polynomial kernel\n",
    "3. Radial basis kernel\n",
    "4. Sigmoidkernel"
   ]
  },
  {
   "cell_type": "markdown",
   "metadata": {},
   "source": [
    "***59. Explain Decision Tree algorithm in detail.***\n",
    "A decision tree is a supervised machine learning algorithm mainly used for Regression and Classification. It breaks down a data set into smaller and smaller subsets while at the same time an associated decision tree is incrementally developed. The final result is a tree with decision nodes and leaf nodes. A decision tree can handle both categorical and numerical data."
   ]
  },
  {
   "cell_type": "markdown",
   "metadata": {},
   "source": [
    "***59. What are Entropy and Information gain in Decision tree algorithm?***\n",
    "The core algorithm for building a decision tree is called ID3. ID3 uses Entropy and Information Gain Entropy\n",
    "A decision tree is built top-down from a root node and involve partitioning of data into homogenious subsets. ID3 uses enteropy to check the homogeneity of a sample. If the sample is completely homogenious then entropy is zero and if the sample is an equally divided it has entropy of one.<br>\n",
    "Information Gain<br>\n",
    "The Information Gain is based on the decrease in entropy after a dataset is split on an attribute. Constructing a decision tree is all about finding attributes that return the highest information gain."
   ]
  },
  {
   "cell_type": "markdown",
   "metadata": {},
   "source": [
    "***60. What is pruning in Decision Tree?***\n",
    "Pruning is a technique in machine learning and search algorithms that reduces the size of decision trees by removing sections of the tree that provide little power to classify instances. So, when we remove sub-nodes of a decision node, this process is called pruning or opposite process of splitting."
   ]
  },
  {
   "cell_type": "markdown",
   "metadata": {},
   "source": [
    "***61. What is logistic regression? State an example when you have used logistic regression recently.***\n",
    "Logistic Regression often referred to as the logit model is a technique to predict the binary outcome from a linear combination of predictor variables.\n",
    "For example, if you want to predict whether a particular political leader will win the election or not. In this case, the outcome of prediction is binary i.e. 0 or 1 (Win/Lose). The predictor variables here would be the amount of money spent for election campaigning of a particular candidate, the amount of time spent in campaigning, etc."
   ]
  },
  {
   "cell_type": "markdown",
   "metadata": {},
   "source": [
    "***62. What is Linear Regression?***\n",
    "Linear regression is a statistical technique where the score of a variable Y is predicted from the score of a second variable X. X is referred to as the predictor variable and Y as the criterion variable."
   ]
  },
  {
   "cell_type": "markdown",
   "metadata": {},
   "source": [
    "***63. What Are the Drawbacks of the Linear Model?*** <br>\n",
    "Some drawbacks of the linear model are:<br>\n",
    "• The assumption of linearity of the errors.\n",
    "• It can’t be used for count outcomes or binary outcomes\n",
    "• There are overfitting problems that it can’t solve\n"
   ]
  },
  {
   "cell_type": "markdown",
   "metadata": {},
   "source": [
    "***64. What is the difference between Regression and classification ML techniques?***\n",
    "Both Regression and classification machine learning techniques come under Supervised machine learning algorithms. In Supervised machine learning algorithm, we have to train the model using labelled data set, While training we have to explicitly provide the correct labels and algorithm tries to learn the pattern from input to output. If our labels are discrete values then it will a classification problem, e.g A,B etc. but if our labels are continuous values then it will be a regression problem, e.g 1.23, 1.333 etc."
   ]
  },
  {
   "cell_type": "markdown",
   "metadata": {},
   "source": [
    "***65. What are Recommender Systems?***\n",
    "Recommender Systems are a subclass of information filtering systems that are meant to predict the preferences or ratings that a user would give to a product. Recommender systems are widely used in movies, news, research articles, products, social tags, music, etc.\n",
    "Examples include movie recommenders in IMDB, Netflix & BookMyShow, product recommenders in e- commerce sites like Amazon, eBay & Flipkart, YouTube video recommendations and game recommendations in Xbox."
   ]
  },
  {
   "cell_type": "markdown",
   "metadata": {},
   "source": [
    "***66. What is Collaborative filtering?***\n",
    "The process of filtering used by most of the recommender systems to find patterns or information by collaborating viewpoints, various data sources and multiple agents. An example of collaborative filtering can be to predict the rating of a particular user based on his/her ratings for other movies and others’ ratings for all movies. This concept is widely used in recommending movies in IMDB, Netflix & BookMyShow, product recommenders in e-commerce sites like Amazon, eBay & Flipkart, YouTube video recommendations and game recommendations in Xbox.\n"
   ]
  },
  {
   "cell_type": "markdown",
   "metadata": {},
   "source": [
    "***67. How can outlier values be treated?***\n",
    "Outlier values can be identified by using univariate or any other graphical analysis method. If the number of outlier values is few then they can be assessed individually but for a large number of outliers, the values can be substituted with either the 99th or the 1st percentile values.\n",
    "All extreme values are not outlier values. The most common ways to treat outlier values <br>\n",
    "1. To change the value and bring it within a range. <br> 2. To just remove the value."
   ]
  },
  {
   "cell_type": "markdown",
   "metadata": {},
   "source": [
    "***68. What are the various steps involved in an analytics project?***\n",
    "The following are the various steps involved in an analytics project:\n",
    "1. Understand the Business problem\n",
    "2. Explore the data and become familiar with it.\n",
    "3. Preparethedataformodellingbydetectingoutliers,treatingmissingvalues,transformingvariables,\n",
    "etc.\n",
    "4. Afterdatapreparation,startrunningthemodel,analyzetheresultandtweaktheapproach.Thisisan\n",
    "iterative step until the best possible outcome is achieved.\n",
    "5. Validate the model using a new data set.\n",
    "6. Start implementing the mode land track the result to analyze the performance of the model over the\n",
    "period of time."
   ]
  },
  {
   "cell_type": "markdown",
   "metadata": {},
   "source": [
    "***69. During analysis, how do you treat missing values?***\n",
    "The extent of the missing values is identified after identifying the variables with missing values. If any patterns are identified the analyst has to concentrate on them as it could lead to interesting and meaningful business insights.\n",
    "If there are no patterns identified, then the missing values can be substituted with mean or median values (imputation) or they can simply be ignored. Assigning a default value which can be mean, minimum or maximum value. Getting into the data is important.\n",
    "If it is a categorical variable, the default value is assigned. The missing value is assigned a default value. If you have a distribution of data coming, for normal distribution give the mean value.\n",
    "If 80% of the values for a variable are missing then you can answer that you would be dropping the variable instead of treating the missing values."
   ]
  },
  {
   "cell_type": "markdown",
   "metadata": {},
   "source": [
    "***70. How will you define the number of clusters in a clustering algorithm?***\n",
    "Though the Clustering Algorithm is not specified, this question is mostly in reference to K-Means clustering where “K” defines the number of clusters. The objective of clustering is to group similar entities in a way that the entities within a group are similar to each other but the groups are different from each other.\n",
    "For example, the following image shows three different groups.<br> squares is generally used to explain the homogeneity within a cluster. If you plot WSS for a range of number\n",
    "of clusters <br>\n",
    "• The Graph is generally known as Elbow Curve.\n",
    "• Red circled a point in above graph i.e. Number of Cluster =6 is the point after which you don’t see\n",
    "any decrement in WSS.\n",
    "• This point is known as the bending point and taken as K in K – Means.\n",
    "This is the widely used approach but few data scientists also use Hierarchical clustering first to create dendrograms and identify the distinct groups from there."
   ]
  },
  {
   "cell_type": "markdown",
   "metadata": {},
   "source": [
    "***71. What is Ensemble Learning?***\n",
    "Combining a diverse set of learners (individusl models) together to improvide on the stability and predictive power of the model. "
   ]
  },
  {
   "cell_type": "markdown",
   "metadata": {},
   "source": [
    "***72. Describe in brief any type of Ensemble Learning?*** <br>\n",
    "Ensemble learning has many types but two more popular ensemble learning techniques are mentioned below.<br>\n",
    "***Bagging***: Bagging tries to implement similar learners on small sample populations and then takes a mean of all predictions. In generalised bagging, you can use different learners on different population. As you expect this helps us to reduce the variance error. <br>\n",
    "***Boosting***: Boosting is an iterative technique which adjusts the weight of an observation based on the last classification. If an observation was classified incorrectly, it tries to increase the weight of this observation and vica versa. Boosting in general decreases the bias error and builds strong predictive models. However, they may over fit on the training data. "
   ]
  },
  {
   "cell_type": "markdown",
   "metadata": {},
   "source": [
    "***73. What is a Random Forest? How does it work?*** <br>\n",
    "***Random Forest***: is a versatile machine learning method capable of performing both regression and classification tasks. It is also used for dimensionality reduction, tests missing values, outlier values. It is a type of ensemble learning method, where a group of weak models combine to form a powerful model. <br>\n",
    "In Random Forest, we grow multiple trees as opposed to a single tree. To classify a new object on attritbutes, each tree gives a classificatio. The forest choose the classification having the most votes(Overall the trees in the forest) and in case of regression, it takes the average of outputs by different trees. "
   ]
  },
  {
   "cell_type": "markdown",
   "metadata": {},
   "source": [
    "***74. How do you work towards a random forest?*** <br>\n",
    "The underlying principle of this technique is that several weak learners combined to provide a keen learner. The steps involved are: <br>\n",
    " - build several decision trees on bootstrapped training samples of data\n",
    " - on each tree, each time a split is considered, a random sample of mm predictors is chosen as split candidates, out of all pp predictors\n",
    " - rule of thumb: at each split m=psquareroot of m = p\n",
    " - predictions: at the majority rule"
   ]
  },
  {
   "cell_type": "markdown",
   "metadata": {},
   "source": [
    "***75. What cross-validation technique would you use on a time series data set?*** <br>\n",
    "Instead of using k-fold cross-validation, you should be aware of the fact that a time series is not randomly distributed data -- It is inherently ordered by chronological order. <br>\n",
    "In case of time series data, you should use techniques like forward-chaining -- where you will be a model on past data then look at forward-facing data. <br>\n",
    " fold 1: training[1], test[2]\n",
    " fold 2: training [1 2], test[3]\n",
    " fold 3: training [1 2 3], test [4]\n",
    " fold 4: training[1 2 3 4], test [5]\n",
    " "
   ]
  },
  {
   "cell_type": "markdown",
   "metadata": {},
   "source": [
    "***76. What is a Box Cox Transformation?*** <br>\n",
    "The dependent variable for a regression analysis might not satisfy one or more assumptions of an ordinary least squares regression. The residuals could either curve as the prediction increases or follow the skewed distribution. In such scenarios, it is necessary to transform the response variable so that the data meets the required assumptions. A Box Cox is a statistical technique to transform non-normal dependent variables into a nromal shape. If the given data is not normal then most of the statistical techniques assume normality. Applying a box cox transformation means that you can run a broader number of tests. <br>\n",
    "A Box Cox transformation is a way to transform non-normal dependent variables into a normal shape. Normality is an important assumption for many statistical techniques, if your data isn't normal, applying a Box-Cox means that you are able to run a broader number of tests. The Box-Cox transformation is named after statisticians George Box and Sir David Roxbee Cox who collaborated on a 1964 paper and developed the technqiue. "
   ]
  },
  {
   "cell_type": "markdown",
   "metadata": {},
   "source": [
    "***77. How regularly must an algorithm be updated?*** <br>\n",
    "You will want to update an algorithm when: <br>\n",
    " - you want the model to evolve as the data streams through infrastructure\n",
    " - the underlying data source is changing\n",
    " - the is a case of non-stationarity \n",
    " - the algorithm underperforms/results lack accuracy\n"
   ]
  },
  {
   "cell_type": "markdown",
   "metadata": {},
   "source": [
    "***78. If you atr having 4GB RAM in your machine and you want to train your model on 10 GB dataset. How would you go about this probelm? Have you ever faced this kind of problem in your machine learning/data science experience so far?*** <br>\n",
    "First of all, you have to ask which ML model you want to train. <br>\n",
    "***Steps***: <br>\n",
    " 1. Load the whole data in the Numpy array. Numpy array has a property to create a mapping of the complete data set, it doesn't load complete data set in memory. \n",
    " 2. You can pass an index to Numpy arrary to get required data. \n",
    " 3. Use this data to pass the neural network\n",
    " 4. Have a small batch size. \n",
    "For SVM: Partial fit will work. <br>\n",
    " 1. Divide one big data set in small size data sets. \n",
    " 2. Use partial fit method of SVM, it requires a subset of the complete data set. \n",
    " 3. Repeat step 2 for other subsets. \n",
    "However, you could actually fave an issue in reality. So, you could check out the best laptops for machine learning to prevent that. Having said that, let's move on to some questions on deep learning. "
   ]
  },
  {
   "cell_type": "markdown",
   "metadata": {},
   "source": [
    "## Deep Learning qs"
   ]
  },
  {
   "cell_type": "markdown",
   "metadata": {},
   "source": [
    "***79. What do you mean by deep learning?*** <br>\n",
    "Deep learning is a paradigm of machine learning which has shown incredible promise in recent years. This is because of the fact that Deep Learning shows a great analogy with the functioning of the human brain. "
   ]
  },
  {
   "cell_type": "markdown",
   "metadata": {},
   "source": [
    "***80. What is the difference between machine learning and deep learning?*** <br>\n",
    "Machine learning is a ield of computer science that gives computers the ability to learn without being explicity programmed to do so. Machine learning can be categorised in the following three cateogires: \n",
    "1. Supervised machine learning\n",
    "2. Unsupervised machine learning\n",
    "3. Reinforcement learning\n",
    "Deep learning is a subfield of machine learning concerned with algorithms inspired by the structure and function of the brain called artificial neural networks."
   ]
  },
  {
   "cell_type": "markdown",
   "metadata": {},
   "source": [
    "***81. What, in your opinion, is the reason for the popularity of Deep Learning in recent times?*** <br>\n",
    "Although deep learning has been around for many years, the major breakthroughs from these techniques has come out in recent years. This is because of two main reasons: <br>\n",
    " - the increase in the amount of data generated through various sources\n",
    " - the growth in hardware resources required to run these models\n",
    "GPUs are multiple times fast and they helps us build bigger and deeper deep learning models in comparatively less time than we required previously. "
   ]
  },
  {
   "cell_type": "markdown",
   "metadata": {},
   "source": [
    "***82. What is reinforcement learning?***<br> \n",
    "Reinforcement Learning is learning what to do and how to map situations to actions. The end result is to maximise the numeral reward signal. The learner isn ot otld which action to take but instead must discover which action will yield the maximum reward. Reinforcement learning is inpsired by the learning of human beings, it is based on the reward/penalty mechanism. "
   ]
  },
  {
   "cell_type": "markdown",
   "metadata": {},
   "source": [
    "***83. What are artifical neural networks?*** <br>\n",
    "Artifical neural networks are specific set of algorithms that have revolutionized machine learning. They are inspired by biological neural networks. Neural Networks can adapt to changing the input so the network generates the best possible result without needing to redesign the output criteria. "
   ]
  },
  {
   "cell_type": "markdown",
   "metadata": {},
   "source": [
    "***84. Describe the structure of Artifical Neural Networks*** <br>\n",
    "Artifical Neural Networks work on the same principle as a biological network. It consists of inputs which get processed with weighted sums and Bias, with the help of Activation Functions. "
   ]
  },
  {
   "cell_type": "markdown",
   "metadata": {},
   "source": [
    "***85. How are Weights Initialized in a Network?***<br>\n",
    "There are two methods here: we can either initialize the weights to zero or assign them randomly. <br>\n",
    "<br>\n",
    "Initializing all weights to 0: This makes your model similar to a linear model. All the neurons and every layer perform the same operation, giving the same output and making the deep net useless. <br>\n",
    "<br>\n",
    "Initializing all weights randomly: Here, the weights are assigned randomly by initializing them very close to 0. It gives better accuracy to the model since every neuron performs different computations. This is the most commonly used method\n"
   ]
  },
  {
   "cell_type": "markdown",
   "metadata": {},
   "source": [
    "***86. What is the cost function?*** <br>\n",
    "Also referred to as 'loss' or 'error', cost function is a measure to evaluate how good your model's performance is. It's used to compute the error of the output layer during backpropogration. We push that error backwards through the neural network and use that during the different training functions. "
   ]
  },
  {
   "cell_type": "markdown",
   "metadata": {},
   "source": [
    "***87. What are hyperparameters?*** <br>\n",
    "With neural networks, you're usually working with hyperparameters once the data is formatted correctly. A hyperparameter is a parameter that has a value set before the learning process begins. It determines how a network is trained and the structure of the network (such as the number of hidden units, the learning rate, epochs, etc). "
   ]
  },
  {
   "cell_type": "markdown",
   "metadata": {},
   "source": [
    "***88. What will happen if the learning rate is set inaccurately? (too low or too high)*** <br>\n",
    "When your learning rate is too low, training of the model will progress very slowly as we are making minimal updates to the weights. It will take many updates before reaching the minimum point. <br>\n",
    "If the learning rate is set too high, this causes undesirable divergent behaviour to the loss function due to the drastic updates in weights. It may fail to converge (model can give a good output) or even diverge (data is too chaotic for the network to train)"
   ]
  },
  {
   "cell_type": "markdown",
   "metadata": {},
   "source": [
    "***89. What is the Difference Between Epoch, Batch, and Iteration in Deep Learning?*** <br>\n",
    "• Epoch – Represents one iteration over the entire dataset (everything put into the training model).\n",
    "• Batch – Refers to when we cannot pass the entire dataset into the neural network at once, so we\n",
    "divide the dataset into several batches.\n",
    "Follow Steve Nouri for more AI and Data science posts: https://lnkd.in/gZu463X\n",
    "• Iteration – if we have 10,000 images as data and a batch size of 200. then an epoch should run 50 iterations (10,000 divided by 50)."
   ]
  },
  {
   "cell_type": "markdown",
   "metadata": {},
   "source": [
    "***90. What are the different layers on a convolutional neural network?*** <br>\n",
    "There are four layers in CNN: \n",
    " 1. Convolutional Layer - the layer that performs a convolutional operation, creating several smaller picture windows to go over the data. \n",
    " 2. ReLu Layer - It brings non-linearity to the network and convets all the negative pixels to zero. The output is a rectified feature map. \n",
    " 3. Pooling Layer - pooling is a down-sampling operation that reduces the dimensionality of the feature map\n",
    " 4. Full connected Layer - this layer recognises and classifies the objects in the image"
   ]
  },
  {
   "cell_type": "markdown",
   "metadata": {},
   "source": [
    "***91. What is pooling in CNN, and how does it work?*** <br>\n",
    "Pooling is used to reduce the spatial dimensions of a CNN. It performs down-sampling operations to reduce the dimensionality and creates a pooled feature map by sliding a filter matrix over the input matrix. "
   ]
  },
  {
   "cell_type": "markdown",
   "metadata": {},
   "source": [
    "*** 92. What are Recurrent Neural Networks (RNNS)?*** <br>\n",
    "RNNs are a type of artificial neural networks designed to recognise the pattern from the sequence of data such as Time series, stock market and government agencies, etc. To understand recurrent nets, first, you have to understand the basics of feedforward nets. <br>\n",
    "Both of these networks RNN and feed-forward named after the way they channel information through a series of mathematical orations performed at the nodes of the network. One feeds information through straight (never touching the same node twice), while the other cycles it through a loop, and the latter are called recurrent. <br>\n",
    "Recurrent networks, on the other hand, take as their input, not just the current input example they see, but also what they have perceived previously in time. <br>\n",
    "The decision a recurrent neural network reaches at time t-1 affects the decision that it will reach one moment later at time t. So recurrent networks have two sources of input, the present and the recent past, which combine to determine how they respond to new data, much as we do in life. <br>\n",
    "The error they generate will return via backpropogation and be used to adjust their weights until the error can't go any lower. Remember, the purpose of recurrent nets is to accurately classify sequential input. We rely on the backpropogation of error and gradient descent to do so. "
   ]
  },
  {
   "cell_type": "markdown",
   "metadata": {},
   "source": [
    "***93. How does an LSTM Network Work?*** <br>\n",
    "Long-Short-Term-Memory (LSTM) is a speical kind of recurrent neural network capable of learning long term dependencies, remembering information for long periods as it defaults behaviour. There are three steps in an LSTM network: \n",
    " - Step 1: the network decides what to forget and what to remember\n",
    " - Step 2: It selectively updates cell state values\n",
    " - Step 3: The network decides what part of the current state makes it to the output. "
   ]
  },
  {
   "cell_type": "markdown",
   "metadata": {},
   "source": [
    "***94. What is a multi-layer perceptron (MLP)?*** <br>\n",
    "As in Neural Networks, MLPs have an input layer, a hidden layer, and an output layer. It has the\n",
    "same structure as a single layer perceptron with one or more hidden layers. A single layer perceptron can classify only linear separable classes with binary output (0,1), but MLP can classify nonlinear classes. <br>\n",
    " Except for the input layer, each node in the other layers uses a nonlinear activation function. This means the input layers, the data coming in, and the\n",
    "activation function is based upon all nodes and weights being added together, producing the output. MLP uses a supervised learning method called “backpropagation.” In backpropagation, the neural network calculates the error with the help of cost function. It propagates this error backward from where it came (adjusts the weights to train the model more accurately)."
   ]
  },
  {
   "cell_type": "markdown",
   "metadata": {},
   "source": [
    "***95. Explain Gradient Descent*** <br>\n",
    "To Understand Gradient Descent, Let’s understand what is a Gradient first.\n",
    "A gradient measures how much the output of a function changes if you change the inputs a little bit. It simply measures the change in all weights with regard to the change in error. You can also think of a gradient as the slope of a function.\n",
    "Gradient Descent can be thought of climbing down to the bottom of a valley, instead of climbing up a hill. This is because it is a minimization algorithm that minimizes a given function (Activation Function).<br>\n",
    "***exploding gradients?***<br>\n",
    "While training an RNN, if you see exponentially growing (very large) error gradients which accumulate and result in very large updates to neural network model weights during training, they’re known as exploding gradients. At an extreme, the values of weights can become so large as to overflow and result in NaN values.\n",
    "This has the effect of your model is unstable and unable to learn from your training data."
   ]
  },
  {
   "cell_type": "markdown",
   "metadata": {},
   "source": [
    "***96. What is vanishing gradients?*** <br>\n",
    "While training an RNN, your slope can become either too small; this makes the training difficult. When the slope is too small, the problem is known as a Vanishing Gradient. It leads to long training times, poor performance, and low accuracy."
   ]
  },
  {
   "cell_type": "markdown",
   "metadata": {},
   "source": [
    "***97. What is back propogation and explain it's working*** <br>\n",
    "backpropogation is a training algorithm used for multilayer neural network. In this method, we move the error from an end of the network to all weights inside the network and thus allowing efficient computation of the gradient. It has the following steps: <br>\n",
    "- forward propogation of training data\n",
    "- derivatives are computed using output and target\n",
    "- back propogate for computing derivative of error wrt output activation\n",
    "- using previously calculated derivatives for output\n",
    "- update the weights"
   ]
  },
  {
   "cell_type": "markdown",
   "metadata": {},
   "source": [
    "***98. What are the variants of back propogation?*** <br>\n",
    "- ***stochastic gradient descent***: we use only a single training example for calculation of gradient and update parameters\n",
    "- ***batch gradient descent***: we calculate the gradient for the whole dataset and perform the update at each iteraiton \n",
    "- ***mini-batch gradient descent***: it's one of the most popular optimization algorithms. it's a variant of stochastic gradient descent and here instead of single training example, mini-batch of samples is used\n"
   ]
  },
  {
   "cell_type": "markdown",
   "metadata": {},
   "source": [
    "***99. What are the different deep learning frameworks?***\n",
    "- pytorch \n",
    "- tesnorflow\n",
    "- microsoft cognitive toolkit\n",
    "- keras \n",
    "- caffe\n",
    "- chainer"
   ]
  },
  {
   "cell_type": "markdown",
   "metadata": {},
   "source": [
    "***100. What is the role of the activation function?*** <br>\n",
    "The ***activation function*** is used to introduce non-linearity into the neural network helping it to learn more complex function. Without which the neural network would be only able to learn linear function which is a linear combination of its input data. An activation function is a function in an artificial neuron that delivers an output based on inouts. "
   ]
  },
  {
   "cell_type": "markdown",
   "metadata": {},
   "source": [
    "***101. Name a few machine learning libraries for various purposes***<br>\n",
    "- ***scientific computaiton*** --> Numpy\n",
    "- ***tabular data*** --> Pandas\n",
    "- ***data modelling and preprocessing*** --> scikit learn \n",
    "- ***time-series analysis*** --> statsmodels\n",
    "- ***text processing*** --> regular expressions, NLTK\n",
    "- ***Deep learning*** --> tensorflow, Pytorch"
   ]
  },
  {
   "cell_type": "markdown",
   "metadata": {},
   "source": [
    "***102. What is an Auto-Encoder?*** <br>\n",
    "Auto-Encoders are simplelearning networks that aim to transform inputs into outputs with the minimum possible error. This means that we want the output to be as close to input as possible. We add a couple of layers between the input and the output, and the sizes of these layers are smaller than the input layer. The auto-encoder recieves unlabelled input which is then encoded to reconstruct the input. "
   ]
  },
  {
   "cell_type": "markdown",
   "metadata": {},
   "source": [
    "***103. What is a Boltzmann Machine?*** <br>\n",
    "Boltzmann machines have a simple learning algorithm that allows them to discover interesting features that represent complex regularities in the training data. The Boltzmann machine is basically used to optimise the weights and the qunatity for the given problem. The learning algorithm is very slow in networks with many layers of feature detectors. *Restricted Boltzmann Machines* algorithm has a single layer of feature detectors which makes it faster than the rest. "
   ]
  },
  {
   "cell_type": "markdown",
   "metadata": {},
   "source": [
    "***104. What is dropout and batch normalization?*** <br>\n",
    "Dropout is a technique of dropping out hidden and visible units of a network randomly to prevent overfitting of data (typically dropping 20 percent of the nodes). It doubles the number of iterations needed to converge the network. <br>\n",
    "Batch normalization is the technique to improve the performance and stability of neural networks by normalizing the inputs in every layer so that they have mean output activation of zero and standard deviation of one. \n"
   ]
  },
  {
   "cell_type": "markdown",
   "metadata": {},
   "source": [
    "***105. What is the difference between batch gradient descent and stochastic gradient descent?*** <br>\n",
    "*Batch Gradient Descent* : \n",
    "- the batch gradient computes the gradient using the entire dataset. \n",
    "- it takes time to converge because the volume of data is huge, and weights update slowly. <br>\n",
    "<br>\n",
    "*Stochastic Gradient Descent*: \n",
    "- The stochastic gradient computer the gradient using a single sample\n",
    "- it converges much faster than the batch gradient because it updates weight more frequently"
   ]
  },
  {
   "cell_type": "markdown",
   "metadata": {},
   "source": [
    "***106. Why is Tensorflow the most preferred library in deep learning?*** <br>\n",
    "*Tensorflow* provides both C++ and Python APIs, making it easier to work on and has a faster compilation time compared to other Deep learning libraries like Keras and Torch. Tensorflow supports both CPU and GPU computing devices. <br>\n"
   ]
  },
  {
   "cell_type": "markdown",
   "metadata": {},
   "source": [
    "***107. What do you mean by Tensor in Tensorflow?*** <br>\n",
    "A tensor is a mathematical object represented as arrays of higher dimensions. These arrays of data with different dimensions and ranks are fed as input to the neural network are called 'Tensors'. "
   ]
  },
  {
   "cell_type": "markdown",
   "metadata": {},
   "source": [
    "***108. What is a computational graph?*** <br>\n",
    "everything in tensorflow is based on creating a computational graph. it has a network of nodes where each node operates, nodes represent mathematical operations, and edges represent tensors. Since data dlows in the form of a graph, it is also called a 'data flow graph'. "
   ]
  },
  {
   "cell_type": "markdown",
   "metadata": {},
   "source": [
    "***109. What are the difference between supervised and unsupervised learning?*** <br>\n",
    "*Supervised Learning*: <br>\n",
    "- uses known and labeled data as input\n",
    "- supervised learning has a feedback mechanism \n",
    "- most commonly used supervised learning algorithms are decision trees, logistic regression, and support vector machine <br>\n",
    "<br> \n",
    "*Unsupervised Learning*: <br>\n",
    "- uses unlabeled data as input\n",
    "- unsupervised learning has no feedback mechanism \n",
    "- most commonly used unsupervised learning algorithms are k-means clustering, hierarchical clusering, and apriorii algorithm"
   ]
  },
  {
   "cell_type": "markdown",
   "metadata": {},
   "source": [
    "***110. How is logistic regression done?*** <br>\n",
    "logistic regression measures the relationship between the dependent variable (our label of what we want to predict) and one or more independent variables (our features) by estimating probability using its underlying logistic function (sigmoid). <br>\n",
    "Please PROVIDE formula: <br>\n",
    "p = 1/ (1+e ^y) or ln(p/1-p) = m*x+c"
   ]
  },
  {
   "cell_type": "markdown",
   "metadata": {},
   "source": [
    "***111. Explain the steps in making a decision tree *** <br>\n",
    "1. Take the entire date set as input \n",
    "2. Calculate entropy of the target variable, as well as the predictor attributes\n",
    "3. Calculate your information gain of all attributes (we gain information on sorting different objects from each other) \n",
    "4. Choose the attribute with the highest information gain as the root node\n",
    "5. repeat the same procedure on every branch until the decision node of each branch is finalized\n",
    "<br>\n",
    "For example, let's say you want to build a decision tree to decide whether you should accept or decline a job offer.. It is clear from the decsion tree that an offer is accepted if: <br>\n",
    "    - salary is greater than $50,000 <br>\n",
    "    - the commute is less than an hour <br>\n",
    "    - incentives are offered <br>\n",
    "\n"
   ]
  },
  {
   "cell_type": "markdown",
   "metadata": {},
   "source": [
    "***112. How do you build a random forest model?*** <br>\n",
    "A random forest is built up of a number of decsion trees. If you split the data into different packages and make a decision tree in each of the different groups of data, the random forest brings all those trees together. <br>\n",
    "Steps to build a random forest model: <br>\n",
    "1. Randomly select 'k' features from a total of 'm' features where k <<m \n",
    "2. Among the 'k' features, calculate the node D using the best split point <br>\n",
    "3. Split the node into daighter nodes using the best split <br>\n",
    "4. Repeat steps two and three until leaf nodes are finalized <br>\n",
    "5. Build forest by repeating steps one to four for 'n' times to create 'n' number of trees <br>"
   ]
  },
  {
   "cell_type": "markdown",
   "metadata": {},
   "source": [
    "***113. How can you avoid overfitting your model?*** <br>\n",
    "Overfitting refers to a model that is only set for a very small amount of data and ignores the bigger picture. There are three main methods to avoid overfitting: \n",
    "1. Keep the model simple - take fewer variables into account, thereby removing some of the noise in the training data \n",
    "2. use cross-validation techniques, such as k folds cross-validation\n",
    "3. use regularization techniques, such as LASSO, that penalizes certain model parameters if they're likely to cause overfitting"
   ]
  },
  {
   "cell_type": "markdown",
   "metadata": {},
   "source": [
    "***114. Differentiate between univariate, bivariate and multivariate analysis*** <br>\n",
    "*univariate*: univariate data contains only one variable. the purpose of the univariate analysis is to describe the data and find patterns that exist within it. (i.e. height of students, patterns can be studied using mean, median, mode, dispersion of range, minimum, maximum) <br>\n",
    "*bivariate*: bivariate data involves two different variables. the analysis of this type of data deals with causes and relationships and the analysis is done to determine the relationship between the two variables. (i.e temeprature and ice cream sales in the summer season, here the relationship is visible from the table and sales are directly proportional to each other. the hotter the temperature, the better the sales) <br>\n",
    "*multivariate*: multivariate data involves three or more variables, it is categorized under multivariate. it is similar to a bivariate, but contains more than one dependent variable (i.e. data for house price prediction, the patterns can be studied by drawing conclusions using mean, median, and mode, dispersion or range, min max, etc. you can start describing the data and using it to guess what the price of the house will be. <br>\n"
   ]
  },
  {
   "cell_type": "markdown",
   "metadata": {},
   "source": [
    "***115. What are the feature selection methods used to select the right variables?*** <br>\n",
    "there are two main methods for feature selection: <br>\n",
    "**filter methods** <br> \n",
    "This involves: <br>\n",
    "- linear discrimination analysis\n",
    "- ANOVA\n",
    "- chi-square <br> \n",
    "The best analogy for selecting features is 'bad data in, bad answer out', when we're limiting or selecting the features, it's all about cleaning up the data coming in. <br>\n",
    "**Wrapper methods** <br>\n",
    "This involves: <br>\n",
    "- forward selection: we test one feature at a time and keep adding them until we get a good fit <br>\n",
    "- backward selection: we test all features and start removing them to see what works better <br>\n",
    "- recursive feature elimination: recursively looks through all the different features and how they pair together <br>\n",
    "Wrapper methods are very labor-intensive, and high-end computers are needed if a lot of data analysis is performed with the wrapper method "
   ]
  },
  {
   "cell_type": "markdown",
   "metadata": {},
   "source": [
    "***116. In your choice of language, write a program that prints the numbers ranging from one to 50*** <br>\n",
    "But for multiples of three, print 'fizz' instead of the number and for the multiples of five, print 'buzz', for numbers which are multiples of both 3 and 5, print 'fizzbuzz' <br>"
   ]
  },
  {
   "cell_type": "code",
   "execution_count": 1,
   "metadata": {
    "scrolled": true
   },
   "outputs": [
    {
     "name": "stdout",
     "output_type": "stream",
     "text": [
      "fizz\n",
      "1\n",
      "2\n",
      "fizz\n",
      "4\n",
      "buzz\n",
      "fizz\n",
      "7\n",
      "8\n",
      "fizz\n",
      "buzz\n",
      "11\n",
      "fizz\n",
      "13\n",
      "14\n",
      "fizz\n",
      "16\n",
      "17\n",
      "fizz\n",
      "19\n",
      "buzz\n",
      "fizz\n",
      "22\n",
      "23\n",
      "fizz\n",
      "buzz\n",
      "26\n",
      "fizz\n",
      "28\n",
      "29\n",
      "fizz\n",
      "31\n",
      "32\n",
      "fizz\n",
      "34\n",
      "buzz\n",
      "fizz\n",
      "37\n",
      "38\n",
      "fizz\n",
      "buzz\n",
      "41\n",
      "fizz\n",
      "43\n",
      "44\n",
      "fizz\n",
      "46\n",
      "47\n",
      "fizz\n",
      "49\n",
      "buzz\n"
     ]
    }
   ],
   "source": [
    "for fizzbuzz in range(51): \n",
    "    if fizzbuzz % 3 == 0: \n",
    "        print('fizz')\n",
    "        continue\n",
    "    elif fizzbuzz % 5 ==0: \n",
    "        print('buzz')\n",
    "        continue\n",
    "    print(fizzbuzz)"
   ]
  },
  {
   "cell_type": "markdown",
   "metadata": {},
   "source": [
    "Note that the range mentioned 51, which means zeto to 50. However, the range asked in the question is 1 to 50. therefore, in the above code, you can include the range as (1, 51) <br>\n"
   ]
  },
  {
   "cell_type": "markdown",
   "metadata": {},
   "source": [
    "***117. You are given a data set consisting of variables with more than 30 percent missing values. How will you deal with them?*** <br>\n",
    "The following are ways to handle missing data values: <br>\n",
    "If the data set it large, we can just simply remove the rows with missing data values. It is the quickest way; we use the rest of the data to predict the values. <br>\n",
    "For smaller data sets, we can substitute missing values with the mean or average of the rest of the data using pandas data frame in python. There are different ways to do so, such as df.mean(), df.fillna(mean)"
   ]
  },
  {
   "cell_type": "markdown",
   "metadata": {},
   "source": [
    "***118. For the given points, how will you calculate the Euclidean distance in Python?*** <br>\n",
    "plot1 = [1,3] <br>\n",
    "plot2 = [2,5] <br>\n",
    "The Euclidean distance can be calculated as follows: <br>\n",
    "euclidean_distance = sqrt((plot1[0]-plot[0])**2 + (plot1[1]-plot2[1])**2)"
   ]
  },
  {
   "cell_type": "markdown",
   "metadata": {},
   "source": [
    "***119. What are dimensionality reduction and its benefits?*** <br>\n",
    "Dimensionality reduction refers to the process of converting a data set with vast dimensions into data with fewer dimensions (fields) to convey similar information concisely. <br>\n",
    "This reduction helps in compressing data and reducing storage space. It also reduces computation time as fewer dimensions lead to less computing. It removes redundant features; for example, there's no point in storing a valuein two different units (meters and inches) "
   ]
  },
  {
   "cell_type": "markdown",
   "metadata": {},
   "source": [
    "## 120. How will you calculate eigenvalues and eigenvectors of the following 3x3 matrix?*** <br>\n"
   ]
  },
  {
   "cell_type": "markdown",
   "metadata": {},
   "source": [
    "***121. How should you maintian a deployed model?*** <br>\n",
    "The steps maintain a deployed model are: <br>\n",
    "Monitor <br>\n",
    "Constant monitoring of all models is neede to determine their performance accuracy. When you change something, you want to figure out how your changes are going to affect things. This needs to be monitored to ensure it's doing what it's supposed to do. <br>\n",
    "Evaluate <br>\n",
    "Evaluation metrics of the current model are calculated to determine if a new algorithm is needed <br> \n",
    "Compare <br>\n",
    "The new models are compared to each other to determine which model performs the best. <br> \n",
    "Rebuild <br>\n",
    "the best performing model is re-built on the current state of data. "
   ]
  },
  {
   "cell_type": "markdown",
   "metadata": {},
   "source": [
    "***121. What are recommender systems?*** <br>\n",
    "A recommender system predicts what a user would rate a specific product based on their preferences. It can be split into two different areas: <br>\n",
    "Collaborative filtering: tracks users with similar interest, commonly seen on amazon after making a purchase; 'users who bought this also bought...' <br>\n",
    "Content-based filtering <br>\n",
    "Recommends on similar properties, here content is looked at instead of users"
   ]
  },
  {
   "cell_type": "markdown",
   "metadata": {},
   "source": [
    "***122. How do you find RMSE and MSE in a linear regression model?*** <br>\n",
    "RMSE and MSE are two of the most common measures of accuracy for a linear regression model. <br>\n",
    "RMSE indicates the Root Mean Square Error <br> \n",
    "RMSE = sqrt (Total (predicted - actual)^2/ n) <br>\n",
    "MSE indicated the Mean Square Error <br>\n",
    "MSE = (Total(predicted - actual)^2)/n <br>"
   ]
  },
  {
   "cell_type": "markdown",
   "metadata": {},
   "source": [
    "***123. How can you select k for k-means?*** <br>\n",
    "We use the elbow method to select k for k-means clustering. The idea of the elbow method is to run k-means clustering on the data set where 'k' is the number of clusters. <br>\n",
    "Within the sum of squares (WSS), it is defined as the sum of the squared distance between each member of the cluster and its centroid. <br>"
   ]
  },
  {
   "cell_type": "markdown",
   "metadata": {},
   "source": [
    "***124. What is the significance of p-value?*** <br>\n",
    "p-value is typically less than or = .05 <br>\n",
    "This indicates strong evidence against the null hypothesis; so you reject the null hypothesis. <br>\n",
    "p-value typically > .05 <br> \n",
    "this indicate weak evidence against the null hypothesis, so you accept the null hypothesis. <br>\n",
    "p-value at cutoff .05 <br>\n",
    "This is considered to be marginal, meaning it could go either way. "
   ]
  },
  {
   "cell_type": "markdown",
   "metadata": {},
   "source": [
    "***125. How can outlier values be treated?*** <br>\n",
    "You can drop outliers only if it is a garbage value. <br> \n",
    "Example: height of an adult = abc ft. This cannot be true, as the height cannnot be a string value. In this case, outliers can be removed <br>\n",
    "If the outliers have extreme values, they can be removed. For example, if all the data points are clustered between 0 to 10, but one lies at 100, then we can remove this point <br>\n",
    "If you cannot drop outliers, you can try the following: <Br>\n",
    "    - try a different model, data detected as outliers by a linear model can be fit by nonlinear models. therefore, be sure you are choosing the correct model. \n",
    "    - try normalizing the data, this way, the extreme data points are pulled to a similar range <br>\n",
    "    - you can use alogirthms that are less affected by outliers; an example would be random forests "
   ]
  },
  {
   "cell_type": "markdown",
   "metadata": {},
   "source": [
    "***126. How can a time-series data be declred as stationary?*** <br>\n",
    "it is stationary when the variance and mean of the series are constant with time. <br> \n",
    "The variance is constant with time. The Y variables go through the same points all the time, in other words, stationary. <br> \n",
    "In variance is not contant, which means non-stationry, the variance is changing with time. "
   ]
  },
  {
   "cell_type": "markdown",
   "metadata": {},
   "source": [
    "***127. How can you calculate accuracy using a confusion matrix?*** <br>\n",
    "In a confusion matrix, you can see the values for total data, actual values, and predicted values. <br>\n",
    "The formula for accuraxy is: <br>\n",
    "Accuracy = (true positive + true negative) / total observations <br> \n"
   ]
  },
  {
   "cell_type": "markdown",
   "metadata": {},
   "source": [
    "***128. Write the equation and calculate the precision and recall rate *** <br> \n",
    "Precision = (True Positive)/(True Positive + False Positive)\n",
    "\n",
    "Recall rate = (true positive)/(total positive + false negative)"
   ]
  },
  {
   "cell_type": "markdown",
   "metadata": {},
   "source": [
    "***129. People who bought this also bought'...recommendation seen on Amazon are a result of which algorithm?*** <br>\n",
    "The recommendation engine is accomplished with collaborative filtering. Collaborative filtering explains the behaviour of other users and their purchase history in terms of ratings, selection, etc. <br>\n",
    "The engine makes predictions on what might interest a person based on the preferences of other users. In this algorithm, item features are unknown. <br>\n",
    "For exmaple, a sales page shows that a certain number of people buy a new phone and also buy tempered glass at the same time. next time, when a person buys a phone, he or she may see a recommendation to buy tempered glass as well. "
   ]
  },
  {
   "cell_type": "markdown",
   "metadata": {},
   "source": [
    "***130. What is generative adversarial network?*** <br>\n",
    "Suppose theire is a wine shop purchasing wine from dealers, which they resell later. but some dealers sell fake wine. In this case, the shop owner should be able to distinguish between fake and authentic wine. <br>\n",
    "The forget will try different techniques to sell fake wine and make sure specific techniques go past the shop owner's check. The shop owner would probably get some feedback from wine experts that some of the wine is not original. The owner would have to improve how he determines whether a wine is fake or authentic. <br> \n",
    "The forger's goal is to create wines that are indistinguishable from the authentic ones while the shop owner intends to tell if the wine is real or not accurate <br>\n",
    "There is a noise vector coming into the forger who is generating fake wine. <br> \n",
    "The shop owner acts as a discriminator <br>\n",
    "THe discriminator gets two inputs: one is the fake wine, while the other is the real authentic wine. The shop owner has to figure out whether it is real or fake <br> \n",
    "So there are two primary components of Generative Adversarial Network (GAN) named: \n",
    "1. Generator\n",
    "2. Discriminator <br>\n",
    "The generator is a CNN that keeps producing images and is closer in appearance to the real images while the discriminator tries to determine the difference between real and fake images. The ultimate aim is to make the discriminator learn to identify real and fake images. <br> \n",
    "Apart from the very technical questions, your interviewer could even hit you up with a few simple ones to check your overall confidence, in the likes of the following \n"
   ]
  },
  {
   "cell_type": "code",
   "execution_count": null,
   "metadata": {},
   "outputs": [],
   "source": []
  }
 ],
 "metadata": {
  "kernelspec": {
   "display_name": "Python 3",
   "language": "python",
   "name": "python3"
  },
  "language_info": {
   "codemirror_mode": {
    "name": "ipython",
    "version": 3
   },
   "file_extension": ".py",
   "mimetype": "text/x-python",
   "name": "python",
   "nbconvert_exporter": "python",
   "pygments_lexer": "ipython3",
   "version": "3.7.4"
  }
 },
 "nbformat": 4,
 "nbformat_minor": 2
}
